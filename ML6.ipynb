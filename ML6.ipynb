{
 "cells": [
  {
   "cell_type": "markdown",
   "id": "85c9d171",
   "metadata": {},
   "source": [
    "Q1)"
   ]
  },
  {
   "cell_type": "code",
   "execution_count": null,
   "id": "f182bbd2",
   "metadata": {},
   "outputs": [],
   "source": [
    "Data encoding is the process of converting data from one format to another\n",
    "Here are some common use cases and methods of data encoding in data science:\n",
    "Categorical data encoding\n",
    "Label Encoding\n",
    "Ordinal Encoding\n"
   ]
  },
  {
   "cell_type": "markdown",
   "id": "ce3ca5d6",
   "metadata": {},
   "source": [
    "Q2)"
   ]
  },
  {
   "cell_type": "markdown",
   "id": "2fb076ff",
   "metadata": {},
   "source": [
    "Nominal encoding is a type of categorical data encoding that is used to represent categorical variables without assuming any  rank \n",
    "uses\n",
    "Preferred Product Category\n",
    "customer segmentation"
   ]
  },
  {
   "cell_type": "markdown",
   "id": "f97632f9",
   "metadata": {},
   "source": [
    "Q3)"
   ]
  },
  {
   "cell_type": "markdown",
   "id": "f2b01a55",
   "metadata": {},
   "source": [
    "When the order of the categories does not matters\n",
    "When the model is not complex and overfitting is not a concern\n",
    "When efficiency is important\n",
    "practical example:\n",
    "You are working on a machine learning model that predicts whether a customer will click on an ad. One of the features in your dataset is the customer's gender. You could use nominal encoding to represent this feature by assigning the value 1 to the category \"Male\" and the value 2 to the category \"Female\". This would allow the machine learning algorithm to understand that there are two different categories of gender, but it would not assign any inherent meaning to the values 1 and 2.\n"
   ]
  },
  {
   "cell_type": "markdown",
   "id": "8c01e097",
   "metadata": {},
   "source": [
    "Q4)"
   ]
  },
  {
   "cell_type": "markdown",
   "id": "dda25c6f",
   "metadata": {},
   "source": [
    "If I have a dataset containing categorical data with 5 unique values, I would use one-hot encoding to transform this data into a format suitable for machine learning algorithms.\n",
    "\n",
    "One-hot encoding is a technique that creates a new binary variable for each category in the dataset. This allows the machine learning algorithm to understand the order of the categories, and it also makes the model more expressive."
   ]
  },
  {
   "cell_type": "markdown",
   "id": "d6dc1d7b",
   "metadata": {},
   "source": [
    "Q5)"
   ]
  },
  {
   "cell_type": "markdown",
   "id": "35329eb7",
   "metadata": {},
   "source": [
    "if you were to use nominal encoding to transform the categorical data in a machine learning project with 1000 rows and 5 columns, 2 of which are categorical, then 2 new columns would be created.\n",
    "Here are the calculations:\n",
    "Number of categorical columns: 2\n",
    "Number of numerical columns: 3\n",
    "Number of new columns created by nominal encoding: 2 * 2 = 4\n",
    "The reason why 2 new columns are created for each categorical column is because nominal encoding assigns a unique integer value to each category. This means that if there are 2 categories in a column, then 2 new columns will be created.\n",
    "\n"
   ]
  },
  {
   "cell_type": "markdown",
   "id": "ec335064",
   "metadata": {},
   "source": [
    "Q6)"
   ]
  },
  {
   "cell_type": "markdown",
   "id": "bcc6e885",
   "metadata": {},
   "source": [
    "If I were working with a dataset containing information about different types of animals, including their species, habitat, and diet, I would use one-hot encoding to transform the categorical data into a format suitable for machine learning algorithms.\n",
    "\n"
   ]
  },
  {
   "cell_type": "markdown",
   "id": "2d8e5905",
   "metadata": {},
   "source": [
    "Q7)"
   ]
  },
  {
   "cell_type": "markdown",
   "id": "9416d386",
   "metadata": {},
   "source": [
    "Gender: I would use label encoding to transform the gender column into numerical data. \n",
    "Age: I would use ordinal encoding to transform the age column into numerical data. \n",
    "Contract type: I would use one-hot encoding to transform the contract type column into numerical data. .\n",
    "Monthly charges: I would use numerical encoding to transform the monthly charges column into numerical data. \n",
    "Tenure: I would use ordinal encoding to transform the tenure column into numerical data.\n",
    "Here are the step-by-step instructions on how I would implement the encoding:\n",
    "Import the necessary libraries.\n",
    "Load the dataset.\n",
    "Identify the categorical columns.\n",
    "Apply the appropriate encoding technique to each categorical column.\n",
    "Save the encoded dataset.\n"
   ]
  }
 ],
 "metadata": {
  "kernelspec": {
   "display_name": "Python 3 (ipykernel)",
   "language": "python",
   "name": "python3"
  },
  "language_info": {
   "codemirror_mode": {
    "name": "ipython",
    "version": 3
   },
   "file_extension": ".py",
   "mimetype": "text/x-python",
   "name": "python",
   "nbconvert_exporter": "python",
   "pygments_lexer": "ipython3",
   "version": "3.10.9"
  }
 },
 "nbformat": 4,
 "nbformat_minor": 5
}
