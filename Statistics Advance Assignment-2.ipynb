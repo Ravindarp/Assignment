{
 "cells": [
  {
   "cell_type": "code",
   "execution_count": null,
   "id": "2948e394",
   "metadata": {},
   "outputs": [],
   "source": [
    "Q1"
   ]
  },
  {
   "cell_type": "markdown",
   "id": "060bbe3b",
   "metadata": {},
   "source": [
    "The probability mass function (PMF) and the probability density function (PDF) are two functions that are used to describe the probability distribution of a random variable.\n",
    "\n",
    "The PMF is used to describe the probability of a discrete random variable taking on a particular value. The PDF is used to describe the probability of a continuous random variable taking on a particular value.\n",
    "\n",
    "The PMF is a discrete function, which means that it only takes on a finite number of values. The PDF is a continuous function, which means that it can take on an infinite number of values.\n",
    "\n",
    "The PMF is often used to describe the probability of getting a certain number of successes in a binomial distribution. For example, the PMF of a binomial distribution with 2 trials and a probability of success of 0.5\n",
    "\n",
    "The PDF is often used to describe the probability of getting a certain value of a continuous random variable. For example, the PDF of a normal distribution with a mean of 0 and a standard deviation of 1 \n",
    "f(x) = \\frac{1}{\\sqrt{2 \\pi}} e^{-(x - 0)^2 / 2}"
   ]
  },
  {
   "cell_type": "code",
   "execution_count": null,
   "id": "f62814f0",
   "metadata": {},
   "outputs": [],
   "source": [
    "Q2"
   ]
  },
  {
   "cell_type": "markdown",
   "id": "1aa0110d",
   "metadata": {},
   "source": [
    "e cumulative density function (CDF) is a function that gives the probability that a random variable will be less than or equal to a certain value.\n",
    "\n",
    "The CDF is defined as:\n",
    "\n",
    "F(x) = P(X \\leq x)\n",
    "where X is the random variable and x is the value.\n",
    "\n",
    "The CDF is a non-decreasing function, which means that it can only increase over its domain. The CDF is also right-continuous, which means that it is continuous at all points except for its endpoint.\n",
    "\n",
    "The CDF can be used to calculate the probability that a random variable will be less than or equal to a certain value. For example, the CDF of a normal distribution with a mean of 0 and a standard deviation of 1 is:\n",
    "\n",
    "F(x) = \\frac{1}{2} \\left( 1 + \\erf \\left( \\frac{x - 0}{\\sqrt{2}} \\right) \\right)"
   ]
  },
  {
   "cell_type": "code",
   "execution_count": null,
   "id": "e4f91321",
   "metadata": {},
   "outputs": [],
   "source": [
    "Q3"
   ]
  },
  {
   "cell_type": "markdown",
   "id": "6a58bb63",
   "metadata": {},
   "source": [
    "he normal distribution is a probability distribution that is often used as a model for many different types of data. Some examples of situations where the normal distribution might be used as a model include:\n",
    "\n",
    "The heights of people: The heights of people are normally distributed, with the average height being around 5'10\" for men and 5'4\" for women.\n",
    "The weights of people: The weights of people are also normally distributed, but the distribution is wider than the distribution of heights. This is because there is more variation in weight than in height.\n",
    "The scores on a test: The scores on a test are often normally distributed, with the average score being around the middle of the distribution.\n",
    "The errors in measurements: The errors in measurements are often normally distributed, with the average error being around zero.\n",
    "The number of calls received by a call center: The number of calls received by a call center each day is often normally distributed, with the average number of calls being around the same each day."
   ]
  },
  {
   "cell_type": "code",
   "execution_count": null,
   "id": "074d03e3",
   "metadata": {},
   "outputs": [],
   "source": [
    "Q4"
   ]
  },
  {
   "cell_type": "markdown",
   "id": "c77d10d1",
   "metadata": {},
   "source": [
    "\n",
    "The normal distribution is one of the most important probability distributions in statistics. It is often used as a model for many different types of data, including:\n",
    "\n",
    "Heights and weights of people: The heights and weights of people are normally distributed, with the average height being around 5'10\" for men and 5'4\" for women.\n",
    "Scores on tests: The scores on tests are often normally distributed, with the average score being around the middle of the distribution.\n",
    "Errors in measurements: The errors in measurements are often normally distributed, with the average error being around zero.\n",
    "The number of calls received by a call center: The number of calls received by a call center each day is often normally distributed, with the average number of calls being around the same each day.\n",
    "The amount of time it takes to get a service done: The amount of time it takes to get a service done, such as getting a haircut or getting a car repaired, is often normally distributed."
   ]
  },
  {
   "cell_type": "code",
   "execution_count": null,
   "id": "8cff2ca3",
   "metadata": {},
   "outputs": [],
   "source": [
    "Q5"
   ]
  },
  {
   "cell_type": "markdown",
   "id": "9d6154fb",
   "metadata": {},
   "source": [
    "he Bernoulli distribution is a discrete probability distribution that describes the outcomes of a single trial of a Bernoulli experiment. A Bernoulli experiment is an experiment with two possible outcomes, called success and failure. The probability of success is denoted by p, and the probability of failure is denoted by q. The Bernoulli distribution is given by the following formula:\n",
    "\n",
    "P(X = 1) = p\n",
    "P(X = 0) = q\n",
    "where X is the random variable that takes on the value 1 if the experiment is a success and 0 if the experiment is a failure.\n",
    "\n",
    "For example, flipping a coin is a Bernoulli experiment, with success being heads and failure being tails. The probability of success is 1/2, and the probability of failure is 1/2.\n",
    "\n",
    "The binomial distribution is a generalization of the Bernoulli distribution to n trials. The binomial distribution is given by the following formula:\n",
    "\n",
    "P(X = k) = nCk p^k q^(n - k)\n",
    "where X is the random variable that takes on the value k if there are k successes in n trials, and 0 otherwise. n is the number of trials, k is the number of successes, p is the probability of success, and q is the probability of failure.\n",
    "\n",
    "The main difference between the Bernoulli distribution and the binomial distribution is that the Bernoulli distribution describes the outcomes of a single trial, while the binomial distribution describes the outcomes of n trials."
   ]
  },
  {
   "cell_type": "code",
   "execution_count": null,
   "id": "d7a6ad0c",
   "metadata": {},
   "outputs": [],
   "source": [
    "Q6"
   ]
  },
  {
   "cell_type": "markdown",
   "id": "3d3e7df0",
   "metadata": {},
   "source": [
    "Given the mean of 50 and standard deviation of 10, we can use the z-score formula to calculate the probability that a randomly selected observation will be greater than 60. The z-score formula is:\n",
    "\n",
    "z = (x - μ) / σ\n",
    "where x is the observed value, μ is the mean, and σ is the standard deviation.\n",
    "\n",
    "In this case, x = 60, μ = 50, and σ = 10. So, the z-score is:\n",
    "\n",
    "z = (60 - 50) / 10 = 1\n",
    "\n",
    "Sure, I can help you with that.\n",
    "\n",
    "Given the mean of 50 and standard deviation of 10, we can use the z-score formula to calculate the probability that a randomly selected observation will be greater than 60. The z-score formula is:\n",
    "\n",
    "z = (x - μ) / σ\n",
    "where x is the observed value, μ is the mean, and σ is the standard deviation.\n",
    "\n",
    "In this case, x = 60, μ = 50, and σ = 10. So, the z-score is:\n",
    "\n",
    "z = (60 - 50) / 10 = 1\n",
    "A z-score of 1 means that the observation is 1 standard deviation above the mean.\n",
    "\n",
    "The probability that a randomly selected observation will be greater than 60 is equal to the probability that the z-score will be greater than 1. This probability can be found using the standard normal distribution table.\n",
    "\n",
    "The standard normal distribution table shows the probability that a z-score will be less than a certain value. To find the probability that a z-score will be greater than 1, we can look up 1 on the z-score table and subtract the value from 1.\n",
    "\n",
    "The value at the z-score of 1 in the standard normal distribution table is 0.8413. So, the probability that a randomly selected observation will be greater than 60 is 1 - 0.8413 = 0.1587."
   ]
  },
  {
   "cell_type": "code",
   "execution_count": null,
   "id": "40d5083a",
   "metadata": {},
   "outputs": [],
   "source": [
    "Q7"
   ]
  },
  {
   "cell_type": "markdown",
   "id": "eaf2f380",
   "metadata": {},
   "source": [
    "The uniform distribution is a probability distribution that describes the probability of getting a certain value in a finite set of values. All values in the set are equally likely.\n",
    "\n",
    "For example, let's say we have a die and we want to find the probability of rolling a 1, 2, 3, 4, 5, or 6. The uniform distribution tells us that the probability of rolling any of these numbers is equal, which is 1/6.\n",
    "\n",
    "The uniform distribution can be represented by a graph called a histogram. A histogram is a bar graph that shows the probability of each value in the set. In this case, the histogram would have 6 bars, one for each possible value of the die. Each bar would be the same height, representing the equal probability of rolling each number.\n",
    "\n",
    "The uniform distribution is often used to model situations where all values are equally likely, such as the outcome of a fair coin toss or the roll of a die"
   ]
  },
  {
   "cell_type": "code",
   "execution_count": null,
   "id": "c6178793",
   "metadata": {},
   "outputs": [],
   "source": [
    "Q8"
   ]
  },
  {
   "cell_type": "markdown",
   "id": "b1495e5d",
   "metadata": {},
   "source": [
    "uniform distribution is a probability distribution that describes the probability of getting a certain value in a finite set of values. All values in the set are equally likely.\n",
    "\n",
    "For example, let's say we have a die and we want to find the probability of rolling a 1, 2, 3, 4, 5, or 6. The uniform distribution tells us that the probability of rolling any of these numbers is equal, which is 1/6.\n",
    "\n",
    "The uniform distribution can be represented by a graph called a histogram. A histogram is a bar graph that shows the probability of each value in the set. In this case, the histogram would have 6 bars, one for each possible value of the die. Each bar would be the same height, representing the equal probability of rolling each number.\n",
    "\n",
    "The uniform distribution is often used to model situations where all values are equally likely, such as the outcome of a fair coin toss or the roll of a die.\n",
    "\n",
    "Here are some other examples of the uniform distribution:\n",
    "\n",
    "The probability of getting a head or a tail when flipping a coin\n",
    "The probability of getting a number between 1 and 100 when randomly selecting a number from a hat containing 100 slips of paper with numbers 1-100 written on them"
   ]
  },
  {
   "cell_type": "code",
   "execution_count": null,
   "id": "63143c82",
   "metadata": {},
   "outputs": [],
   "source": [
    "Q9"
   ]
  },
  {
   "cell_type": "markdown",
   "id": "811e691a",
   "metadata": {},
   "source": [
    "The central limit theorem (CLT) states that, given a sufficiently large sample size from any population with a finite mean and variance, the sampling distribution of the sample mean will be approximately normally distributed, regardless of the shape of the population distribution.\n",
    "\n",
    "The CLT is important because it allows us to make inferences about the population mean based on a sample mean. For example, if we know that the CLT applies to a population and we have a sample mean of 50, we can be 95% confident that the population mean is within 2 standard deviations of 50.\n",
    "\n",
    "The CLT also allows us to use statistical tests, such as the t-test and the z-test, to compare two groups of data or to compare a sample to a population."
   ]
  },
  {
   "cell_type": "code",
   "execution_count": null,
   "id": "abe75da8",
   "metadata": {},
   "outputs": [],
   "source": [
    "Q10"
   ]
  },
  {
   "cell_type": "markdown",
   "id": "0cab1259",
   "metadata": {},
   "source": [
    "The central limit theorem (CLT) states that, given a sufficiently large sample size, the sampling distribution of the mean will be approximately normally distributed, regardless of the shape of the population distribution. However, there are some assumptions that need to be met for the CLT to apply:\n",
    "\n",
    "The samples must be independent. This means that the selection of one sample does not affect the selection of another sample.\n",
    "The samples must be random. This means that each sample member must have an equal chance of being selected.\n",
    "The sample size must be large enough. The CLT usually applies when the sample size is 30 or more. However, the sample size may need to be larger if the population distribution is not normally distributed"
   ]
  }
 ],
 "metadata": {
  "kernelspec": {
   "display_name": "Python 3 (ipykernel)",
   "language": "python",
   "name": "python3"
  },
  "language_info": {
   "codemirror_mode": {
    "name": "ipython",
    "version": 3
   },
   "file_extension": ".py",
   "mimetype": "text/x-python",
   "name": "python",
   "nbconvert_exporter": "python",
   "pygments_lexer": "ipython3",
   "version": "3.9.13"
  }
 },
 "nbformat": 4,
 "nbformat_minor": 5
}
