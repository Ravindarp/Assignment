{
 "cells": [
  {
   "cell_type": "code",
   "execution_count": 8,
   "id": "98075d1b",
   "metadata": {},
   "outputs": [],
   "source": [
    "Q1"
   ]
  },
  {
   "cell_type": "markdown",
   "id": "7b0240ab",
   "metadata": {},
   "source": [
    "Bayes' theorem is a mathematical formula that describes the probability of an event, based on prior knowledge of conditions that might be related to the event. It is named after Thomas Bayes, an English mathematician who published the theorem in 1763.\n",
    "The formula for Bayes' theorem is:\n",
    "P(A|B) = P(B|A) P(A) / P(B)\n",
    "where\n",
    "P(A|B) is the probability of event A occurring, given that event B has already occurred.\n",
    "P(B|A) is the probability of event B occurring, given that event A has already occurred.\n",
    "P(A) is the probability of event A occurring, regardless of whether or not event B has occurred.\n",
    "P(B) is the probability of event B occurring, regardless of whether or not event A has occurred"
   ]
  },
  {
   "cell_type": "code",
   "execution_count": null,
   "id": "38e7b64c",
   "metadata": {},
   "outputs": [],
   "source": [
    "Q2"
   ]
  },
  {
   "cell_type": "markdown",
   "id": "ed66cf2b",
   "metadata": {},
   "source": [
    "The formula for Bayes' theorem is:\n",
    "P(A|B) = P(B|A) P(A) / P(B)\n",
    "where:\n",
    "P(A|B) is the probability of event A occurring, given that event B has already occurred.\n",
    "P(B|A) is the probability of event B occurring, given that event A has already occurred.\n",
    "P(A) is the probability of event A occurring, regardless of whether or not event B has occurred.\n",
    "P(B) is the probability of event B occurring, regardless of whether or not event A has occurred"
   ]
  },
  {
   "cell_type": "code",
   "execution_count": null,
   "id": "f893850d",
   "metadata": {},
   "outputs": [],
   "source": [
    "Q3"
   ]
  },
  {
   "cell_type": "markdown",
   "id": "d1dbf35b",
   "metadata": {},
   "source": [
    "Medicine: Bayes' theorem is used in medical diagnosis to determine the probability that a patient has a certain disease, given the results of a medical test. For example, a doctor might use Bayes' theorem to determine the probability that a patient has cancer, given that they have a positive mammogram.\n",
    "Finance: Bayes' theorem is used in finance to determine the probability of a financial event occurring, such as a default on a loan or a stock market crash. For example, a bank might use Bayes' theorem to determine the probability that a loan applicant will default on their loan, given their credit history.\n",
    "Criminal justice: Bayes' theorem is used in criminal justice to determine the probability that a suspect is guilty, given the evidence found at the crime scene. For example, a detective might use Bayes' theorem to determine the probability that a suspect is guilty, given that their fingerprints were found at the crime scene.\n",
    "Insurance: Bayes' theorem is used in insurance to determine the probability of a loss occurring, such as a fire or a car accident. For example, an insurance company might use Bayes' theorem to determine the probability that a house will burn down, given the age of the house and the materials it is made of."
   ]
  },
  {
   "cell_type": "code",
   "execution_count": null,
   "id": "e735fb1b",
   "metadata": {},
   "outputs": [],
   "source": [
    "Q4"
   ]
  },
  {
   "cell_type": "markdown",
   "id": "85e38060",
   "metadata": {},
   "source": [
    "Bayes' theorem is a formula that describes the relationship between two conditional probabilities. Conditional probability is the probability of one event occurring, given that another event has already occurred.\n",
    "The formula for Bayes' theorem is:\n",
    "P(A|B) = P(B|A) P(A) / P(B)\n",
    "where:\n",
    "P(A|B) is the probability of event A occurring, given that event B has already occurred. This is called the posterior probability.\n",
    "P(B|A) is the probability of event B occurring, given that event A has already occurred. This is called the likelihood.\n",
    "P(A) is the probability of event A occurring, regardless of whether or not event B has occurred. This is called the prior probability.\n",
    "P(B) is the probability of event B occurring, regardless of whether or not event A has occurred. This is called the marginal probability.\n",
    "In other words, Bayes' theorem tells us how to update our belief in the probability of event A, given new information about event B"
   ]
  },
  {
   "cell_type": "code",
   "execution_count": null,
   "id": "7661c28b",
   "metadata": {},
   "outputs": [],
   "source": [
    "Q5"
   ]
  },
  {
   "cell_type": "markdown",
   "id": "2aa39681",
   "metadata": {},
   "source": [
    "There are three main types of Naive Bayes classifiers:\n",
    "Multinomial Naive Bayes: This classifier is used for discrete data, such as text classification. It assumes that the features are independent of each other.\n",
    "Bernoulli Naive Bayes: This classifier is also used for discrete data, but it assumes that the features are binary, meaning that they can only take on two values, such as 0 or 1.\n",
    "Gaussian Naive Bayes: This classifier is used for continuous data, such as the height or weight of a person. It assumes that the features are normally distributed.\n",
    "The choice of which type of Naive Bayes classifier to use depends on the type of data that you have. If you have discrete data, then you should use either Multinomial Naive Bayes or Bernoulli Naive Bayes. If you have continuous data, then you should use Gaussian Naive Bayes.\n",
    "In addition to the type of data, you should also consider the following factors when choosing a Naive Bayes classifier:\n",
    "The size of the dataset: If the dataset is small, then you may want to use a simpler classifier, such as Bernoulli Naive Bayes.\n",
    "The number of features: If the number of features is large, then you may want to use a more complex classifier, such as Gaussian Naive Bayes.\n",
    "The class imbalance: If the classes in the dataset are imbalanced, then you may want to use a classifier that is robust to class imbalance, such as Complement Naive Bayes"
   ]
  },
  {
   "cell_type": "code",
   "execution_count": null,
   "id": "d0704e84",
   "metadata": {},
   "outputs": [],
   "source": [
    "Q6"
   ]
  },
  {
   "cell_type": "markdown",
   "id": "fcc94b1a",
   "metadata": {},
   "source": [
    "Naive Bayes classifier is a probabilistic classifier that assumes that the features are independent of each other. This means that the probability of a feature value occurring is not affected by the value of another feature.\n",
    "In this case, we have two features, X1 and X2, and two possible classes, A and B. The table shows the frequency of each feature value for each class.\n",
    "To use Naive Bayes to classify a new instance, we need to calculate the posterior probability of each class. The posterior probability of a class is the probability that the instance belongs to that class, given the features.\n",
    "The posterior probability can be calculated using the following formula\n",
    "P(A|X1=3, X2=4) = P(X1=3, X2=4|A) P(A) / P(X1=3, X2=4)\n",
    "where:\n",
    "P(A|X1=3, X2=4) is the posterior probability of class A given the features X1=3 and X2=4.\n",
    "P(X1=3, X2=4|A) is the probability of the features X1=3 and X2=4 occurring given class A.\n",
    "P(A) is the prior probability of class A.\n",
    "P(X1=3, X2=4) is the probability of the features X1=3 and X2=4 occurring, regardless of the class."
   ]
  }
 ],
 "metadata": {
  "kernelspec": {
   "display_name": "Python 3 (ipykernel)",
   "language": "python",
   "name": "python3"
  },
  "language_info": {
   "codemirror_mode": {
    "name": "ipython",
    "version": 3
   },
   "file_extension": ".py",
   "mimetype": "text/x-python",
   "name": "python",
   "nbconvert_exporter": "python",
   "pygments_lexer": "ipython3",
   "version": "3.11.4"
  }
 },
 "nbformat": 4,
 "nbformat_minor": 5
}
