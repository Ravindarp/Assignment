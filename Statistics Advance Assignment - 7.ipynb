{
 "cells": [
  {
   "cell_type": "code",
   "execution_count": null,
   "id": "ba48e9b3",
   "metadata": {},
   "outputs": [],
   "source": [
    "Q1"
   ]
  },
  {
   "cell_type": "code",
   "execution_count": 2,
   "id": "11d757c5",
   "metadata": {},
   "outputs": [
    {
     "name": "stdout",
     "output_type": "stream",
     "text": [
      "F-value: 3.53\n",
      "p-value: 0.12467771375754677\n"
     ]
    }
   ],
   "source": [
    "import numpy as np\n",
    "from scipy import stats\n",
    "\n",
    "def variance_ratio_test(data1, data2):\n",
    "    var1 = np.var(data1, ddof=1)  # ddof=1 for unbiased variance estimate\n",
    "    var2 = np.var(data2, ddof=1)\n",
    "    f_value = var1 / var2\n",
    "    df1 = len(data1) - 1\n",
    "    df2 = len(data2) - 1\n",
    "    p_value = stats.f.sf(f_value, df1, df2)  # Survival function (1 - cdf)\n",
    "    return f_value, p_value\n",
    "data1 = np.array([25, 30, 28, 35, 40])\n",
    "data2 = np.array([20, 22, 24, 26, 28])\n",
    "f_value, p_value = variance_ratio_test(data1, data2)\n",
    "print(\"F-value:\", f_value)\n",
    "print(\"p-value:\", p_value)\n"
   ]
  },
  {
   "cell_type": "code",
   "execution_count": null,
   "id": "11c6f46b",
   "metadata": {},
   "outputs": [],
   "source": [
    "Q2"
   ]
  },
  {
   "cell_type": "code",
   "execution_count": 5,
   "id": "749792cc",
   "metadata": {},
   "outputs": [
    {
     "name": "stdout",
     "output_type": "stream",
     "text": [
      "Critical F-value: 3.8586986662732143\n"
     ]
    }
   ],
   "source": [
    "from scipy.stats import f\n",
    "\n",
    "def critical_f_value(alpha, dfn, dfd):\n",
    "    f_critical = f.ppf(1 - alpha / 2, dfn, dfd)\n",
    "    return f_critical\n",
    "alpha = 0.05\n",
    "dfn = 3 \n",
    "dfd = 20 \n",
    "f_critical = critical_f_value(alpha, dfn, dfd)\n",
    "print(\"Critical F-value:\", f_critical)\n"
   ]
  },
  {
   "cell_type": "code",
   "execution_count": null,
   "id": "98158de1",
   "metadata": {},
   "outputs": [],
   "source": [
    "Q3"
   ]
  },
  {
   "cell_type": "code",
   "execution_count": 7,
   "id": "21950e04",
   "metadata": {},
   "outputs": [
    {
     "name": "stdout",
     "output_type": "stream",
     "text": [
      "F-statistic: 0.5082357321552162\n",
      "Degrees of freedom: 29 , 39\n",
      "p-value: 0.06116636302245111\n",
      "Fail to reject the null hypothesis: Variances are equal.\n"
     ]
    }
   ],
   "source": [
    "import numpy as np\n",
    "from scipy.stats import f\n",
    "mean1 = 0\n",
    "mean2 = 0\n",
    "variance1 = 4  \n",
    "variance2 = 9\n",
    "sample_size1 = 30\n",
    "sample_size2 = 40\n",
    "sample1 = np.random.normal(mean1, np.sqrt(variance1), sample_size1)\n",
    "sample2 = np.random.normal(mean2, np.sqrt(variance2), sample_size2)\n",
    "F_statistic = np.var(sample1, ddof=1) / np.var(sample2, ddof=1)\n",
    "df1 = sample_size1 - 1\n",
    "df2 = sample_size2 - 1\n",
    "p_value = 2 * min(f.cdf(F_statistic, df1, df2), 1 - f.cdf(F_statistic, df1, df2))\n",
    "print(\"F-statistic:\", F_statistic)\n",
    "print(\"Degrees of freedom:\", df1, \",\", df2)\n",
    "print(\"p-value:\", p_value)\n",
    "alpha = 0.05\n",
    "if p_value < alpha:\n",
    "    print(\"Reject the null hypothesis: Variances are not equal.\")\n",
    "else:\n",
    "    print(\"Fail to reject the null hypothesis: Variances are equal.\")\n"
   ]
  },
  {
   "cell_type": "code",
   "execution_count": null,
   "id": "6efe958c",
   "metadata": {},
   "outputs": [],
   "source": [
    "Q4"
   ]
  },
  {
   "cell_type": "markdown",
   "id": "09294fff",
   "metadata": {},
   "source": [
    "The F-test is a statistical test used to compare the variances of two populations. The null hypothesis is that the variances of the two populations are equal. The alternative hypothesis is that the variances of the two populations are not equal.\n",
    "\n",
    "In this case, the variances of the two populations are known to be 10 and 15. We want to determine if the variances are significantly different at the 5% significance level.\n",
    "\n",
    "The critical value for the F-test at the 5% significance level with 12 degrees of freedom in the numerator and 12 degrees of freedom in the denominator is 2.706.\n",
    "\n",
    "The F-statistic for the test is calculated as follows:\n",
    "\n",
    "F-statistic = (variance of population 1 / variance of population 2) = (10 / 15) = 2/3\n",
    "The F-statistic is less than the critical value. Therefore, we fail to reject the null hypothesis and conclude that there is no statistically significant difference between the variances of the two populations."
   ]
  },
  {
   "cell_type": "code",
   "execution_count": null,
   "id": "6efadc61",
   "metadata": {},
   "outputs": [],
   "source": [
    "Q5"
   ]
  },
  {
   "cell_type": "markdown",
   "id": "d637098b",
   "metadata": {},
   "source": [
    "The F-test is a statistical test used to compare the variances of two populations. The null hypothesis is that the variances of the two populations are equal. The alternative hypothesis is that the variances of the two populations are not equal.\n",
    "\n",
    "In this case, the manufacturer claims that the variance of the diameter of a certain product is 0.005. We want to determine if the claim is justified at the 1% significance level.\n",
    "\n",
    "The critical value for the F-test at the 1% significance level with 24 degrees of freedom in the numerator and 24 degrees of freedom in the denominator is 4.79.\n",
    "\n",
    "The F-statistic for the test is calculated as follows:\n",
    "\n",
    "F-statistic = (sample variance / claimed variance) = (0.006 / 0.005) = 1.2\n",
    "The F-statistic is less than the critical value. Therefore, we fail to reject the null hypothesis and conclude that there is no statistically significant difference between the variances of the two populations."
   ]
  },
  {
   "cell_type": "code",
   "execution_count": null,
   "id": "79dc679a",
   "metadata": {},
   "outputs": [],
   "source": [
    "Q6"
   ]
  },
  {
   "cell_type": "code",
   "execution_count": 9,
   "id": "a3597285",
   "metadata": {},
   "outputs": [
    {
     "name": "stdout",
     "output_type": "stream",
     "text": [
      "Mean: 1.1538461538461537\n",
      "Variance: 0.8714362560516407\n"
     ]
    }
   ],
   "source": [
    "def calculate_f_distribution_mean_and_variance(dfn, dfd):\n",
    "    if dfn <= 0 or dfd <= 0:\n",
    "        raise ValueError(\"Degrees of freedom must be positive.\")\n",
    "    if dfn == 1:\n",
    "        mean = float(dfd) / (dfd - 2)\n",
    "    else:\n",
    "        mean = float(dfd) / (dfd - 2) if dfd > 2 else float('inf')\n",
    "    \n",
    "    if dfd <= 4:\n",
    "        variance = float('inf')\n",
    "    else:\n",
    "        variance = (2 * (dfd ** 2) * (dfn + dfd - 2)) / (dfn * (dfd - 2) ** 2 * (dfd - 4))\n",
    "    \n",
    "    return mean, variance\n",
    "dfn = 5\n",
    "dfd = 15\n",
    "mean, variance = calculate_f_distribution_mean_and_variance(dfn, dfd)\n",
    "print(\"Mean:\", mean)\n",
    "print(\"Variance:\", variance)\n"
   ]
  },
  {
   "cell_type": "code",
   "execution_count": null,
   "id": "36af3a49",
   "metadata": {},
   "outputs": [],
   "source": [
    "Q7"
   ]
  },
  {
   "cell_type": "markdown",
   "id": "367d96e2",
   "metadata": {},
   "source": [
    "The F-test is a statistical test used to compare the variances of two populations. The null hypothesis is that the variances of the two populations are equal. The alternative hypothesis is that the variances of the two populations are not equal.\n",
    "\n",
    "In this case, we have two random samples, one of size 10 and the other of size 15. The sample variances for the two samples are 25 and 20, respectively. We want to determine if the variances are significantly different at the 10% significance level.\n",
    "\n",
    "The critical value for the F-test at the 10% significance level with 9 degrees of freedom in the numerator and 14 degrees of freedom in the denominator is 2.623.\n",
    "\n",
    "The F-statistic for the test is calculated as follows:\n",
    "\n",
    "F-statistic = (sample variance 1 / sample variance 2) = (25 / 20) = 1.25\n",
    "The F-statistic is less than the critical value. Therefore, we fail to reject the null hypothesis and conclude that there is no statistically significant difference between the variances of the two populations.\n",
    "\n"
   ]
  },
  {
   "cell_type": "code",
   "execution_count": null,
   "id": "382f25de",
   "metadata": {},
   "outputs": [],
   "source": [
    "Q8"
   ]
  },
  {
   "cell_type": "markdown",
   "id": "666228f9",
   "metadata": {},
   "source": [
    "The F-test is a statistical test used to compare the variances of two populations. The null hypothesis is that the variances of the two populations are equal. The alternative hypothesis is that the variances of the two populations are not equal.\n",
    "\n",
    "In this case, we have waiting time data for two restaurants. We want to determine if the variances of the waiting times for the two restaurants are significantly different at the 5% significance level.\n",
    "\n",
    "The sample variance for Restaurant A is 12.25. The sample variance for Restaurant B is 22.5. The degrees of freedom for the F-test are 6 and 5, respectively.\n",
    "\n",
    "The critical value for the F-test at the 5% significance level is 4.24.\n",
    "\n",
    "The F-statistic for the test is calculated as follows:\n",
    "\n",
    "F-statistic = (sample variance 1 / sample variance 2) = (12.25 / 22.5) = 0.55\n",
    "The F-statistic is less than the critical value. Therefore, we fail to reject the null hypothesis and conclude that there is no statistically significant difference between the variances of the waiting times for the two restaurants"
   ]
  },
  {
   "cell_type": "code",
   "execution_count": null,
   "id": "88558954",
   "metadata": {},
   "outputs": [],
   "source": [
    "Q9"
   ]
  },
  {
   "cell_type": "markdown",
   "id": "56d2979d",
   "metadata": {},
   "source": [
    "The F-test is a statistical test used to compare the variances of two populations. The null hypothesis is that the variances of the two populations are equal. The alternative hypothesis is that the variances of the two populations are not equal.\n",
    "\n",
    "In this case, we have test scores for two groups of students. We want to determine if the variances of the test scores for the two groups are significantly different at the 1% significance level.\n",
    "\n",
    "The sample variance for Group A is 7.29. The sample variance for Group B is 4.84. The degrees of freedom for the F-test are 5 and 5, respectively.\n",
    "\n",
    "The critical value for the F-test at the 1% significance level is 9.55.\n",
    "\n",
    "The F-statistic for the test is calculated as follows:\n",
    "\n",
    "F-statistic = (sample variance 1 / sample variance 2) = (7.29 / 4.84) = 1.52\n",
    "The F-statistic is less than the critical value. Therefore, we fail to reject the null hypothesis and conclude that there is no statistically significant difference between the variances of the test scores for the two groups."
   ]
  }
 ],
 "metadata": {
  "kernelspec": {
   "display_name": "Python 3 (ipykernel)",
   "language": "python",
   "name": "python3"
  },
  "language_info": {
   "codemirror_mode": {
    "name": "ipython",
    "version": 3
   },
   "file_extension": ".py",
   "mimetype": "text/x-python",
   "name": "python",
   "nbconvert_exporter": "python",
   "pygments_lexer": "ipython3",
   "version": "3.10.9"
  }
 },
 "nbformat": 4,
 "nbformat_minor": 5
}
