{
 "cells": [
  {
   "cell_type": "code",
   "execution_count": null,
   "id": "b7235e3a",
   "metadata": {},
   "outputs": [],
   "source": [
    "Q1"
   ]
  },
  {
   "cell_type": "markdown",
   "id": "601ceafc",
   "metadata": {},
   "source": [
    "\n",
    "Flask is a microframework for Python based on Werkzeug, Jinja2 and good intentions. It is designed to make getting started quick and easy, with the ability to scale up to complex applications.\n",
    "Some of the advantages of Flask framework are:\n",
    "Lightweight: Flask is a lightweight framework, which means that it is small and has few dependencies. This makes it easy to learn and use, and it also makes it faster than more heavyweight frameworks.\n",
    "Flexible: Flask is a very flexible framework, which gives developers a lot of control over how their applications are built. This can be both a pros and cons, as it can be more difficult to get started with Flask than with a more opinionated framework.\n",
    "Extensible: Flask is highly extensible, which means that developers can add features and functionality to their applications as needed. This is done through the use of extensions, which are third-party libraries that add new features to Flask.\n",
    "Community: Flask has a large and active community, which means that there is a lot of documentation and support available. This can be helpful for developers who are new to Flask or who need help with a specific problem.\n",
    "Performance: Flask is a very performant framework, which means that it can handle a lot of traffic without slowing down. This makes it a good choice for applications that need to be able to handle a lot of users."
   ]
  },
  {
   "cell_type": "code",
   "execution_count": null,
   "id": "e5d87e36",
   "metadata": {},
   "outputs": [],
   "source": [
    "Q2"
   ]
  },
  {
   "cell_type": "code",
   "execution_count": null,
   "id": "bb34a049",
   "metadata": {},
   "outputs": [],
   "source": [
    "from flask import Flask\n",
    "app = Flask(__name__)\n",
    "@app.route(\"/\")\n",
    "def index():\n",
    "  return \"Hello, World!!\"\n",
    "if __name__ == \"__main__\":\n",
    "  app.run()\n"
   ]
  },
  {
   "cell_type": "code",
   "execution_count": null,
   "id": "59c03036",
   "metadata": {},
   "outputs": [],
   "source": [
    "Q3"
   ]
  },
  {
   "cell_type": "markdown",
   "id": "d7e60337",
   "metadata": {},
   "source": [
    "App routing in Flask is the process of mapping a URL to a specific function. This allows Flask to know which function to execute when a user visits a particular URL. App routes are used to control the flow of traffic in a Flask application.\n",
    "There are several reasons why we use app routes in Flask. First, it allows us to organize our code more cleanly. We can group related functions together and map them to different URLs. This makes our code easier to understand and maintain.\n",
    "Second, app routes allow us to create dynamic URLs. We can use variables in our URLs to pass data to our functions. This allows us to create more flexible and powerful applications.\n",
    "\n",
    "Third, app routes allow us to protect our applications from unauthorized access. We can use HTTP methods to control which functions can be accessed by a user. This helps to prevent unauthorized users from accessing sensitive data."
   ]
  },
  {
   "cell_type": "code",
   "execution_count": null,
   "id": "b47022b0",
   "metadata": {},
   "outputs": [],
   "source": [
    "Q4"
   ]
  },
  {
   "cell_type": "code",
   "execution_count": null,
   "id": "76142fb8",
   "metadata": {},
   "outputs": [],
   "source": [
    "from flask import Flask, render_template\n",
    "app = Flask(__name__)\n",
    "@app.route(\"/welcome\")\n",
    "def welcome():\n",
    "  return \"Welcome to ABC Corporation\"\n",
    "@app.route(\"/\")\n",
    "def index():\n",
    "  company_details = {\n",
    "    \"company_name\": \"ABC Corporation\",\n",
    "    \"location\": \"India\",\n",
    "    \"contact_detail\": \"999-999-9999\"\n",
    "  }\n",
    "  return render_template(\"index.html\", company_details=company_details)\n",
    "if __name__ == \"__main__\":\n",
    "  app.run()\n"
   ]
  },
  {
   "cell_type": "code",
   "execution_count": null,
   "id": "a6c4602f",
   "metadata": {},
   "outputs": [],
   "source": [
    "Q5"
   ]
  },
  {
   "cell_type": "code",
   "execution_count": null,
   "id": "9ed3b046",
   "metadata": {},
   "outputs": [],
   "source": [
    "from flask import Flask, url_for\n",
    "app = Flask(__name__)\n",
    "@app.route(\"/\")\n",
    "def index():\n",
    "  return \"Hello, World!!\"\n",
    "@app.route(\"/about\")\n",
    "def about():\n",
    "  return \"This is the about page.\"\n",
    "def test_url_for():\n",
    "  print(url_for(\"index\"))\n",
    "  print(url_for(\"about\"))\n",
    "  print(url_for(\"about\", name=\"ravi\"))\n",
    "if __name__ == \"__main__\":\n",
    "  app.run()\n"
   ]
  },
  {
   "cell_type": "code",
   "execution_count": null,
   "id": "176c752d",
   "metadata": {},
   "outputs": [],
   "source": []
  }
 ],
 "metadata": {
  "kernelspec": {
   "display_name": "Python 3 (ipykernel)",
   "language": "python",
   "name": "python3"
  },
  "language_info": {
   "codemirror_mode": {
    "name": "ipython",
    "version": 3
   },
   "file_extension": ".py",
   "mimetype": "text/x-python",
   "name": "python",
   "nbconvert_exporter": "python",
   "pygments_lexer": "ipython3",
   "version": "3.10.9"
  }
 },
 "nbformat": 4,
 "nbformat_minor": 5
}
