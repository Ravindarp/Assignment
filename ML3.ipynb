{
 "cells": [
  {
   "cell_type": "markdown",
   "id": "2a3736fa",
   "metadata": {},
   "source": [
    "Q1)"
   ]
  },
  {
   "cell_type": "code",
   "execution_count": null,
   "id": "6e95a75e",
   "metadata": {},
   "outputs": [],
   "source": [
    "#Missing values are data points that are not present in a dataset. \n",
    "#They can occur for a variety of reasons, such as human error, equipment failure, or deliberate omission.\n",
    "#Missing values can have a significant impact on the accuracy and reliability of a dataset,\n",
    "#Here are some examples of algorithms that are not affected by missing values:\n",
    "#Decision trees\n",
    "#Random forests\n",
    "#Support vector machines"
   ]
  },
  {
   "cell_type": "markdown",
   "id": "7fa71840",
   "metadata": {},
   "source": [
    "Q2)"
   ]
  },
  {
   "cell_type": "code",
   "execution_count": 15,
   "id": "848a7f21",
   "metadata": {},
   "outputs": [
    {
     "name": "stdout",
     "output_type": "stream",
     "text": [
      "     A     B     C\n",
      "0  1.0   NaN  21.0\n",
      "1  2.0  10.0  22.0\n",
      "2  NaN  11.0  23.0\n",
      "3  4.0  12.0   NaN\n",
      "4  5.0   NaN  25.0\n",
      "     A     B     C\n",
      "1  2.0  10.0  22.0\n",
      "Empty DataFrame\n",
      "Columns: []\n",
      "Index: [0, 1, 2, 3, 4]\n",
      "     A     B     C\n",
      "0  1.0   NaN  21.0\n",
      "1  2.0  10.0  22.0\n",
      "2  NaN  11.0  23.0\n",
      "3  4.0  12.0   NaN\n",
      "4  5.0   NaN  25.0\n",
      "A     3.00\n",
      "B    11.00\n",
      "C    22.75\n",
      "dtype: float64\n",
      "A     3.0\n",
      "B    11.0\n",
      "C    22.5\n",
      "dtype: float64\n"
     ]
    }
   ],
   "source": [
    "#Handling missing data is an essential step in data preprocessing to ensure accurate and reliable analysis. Here are some common #techniques used to handle missing data along with examples using Python:\n",
    "\n",
    "#Dropping Missing Values:\n",
    "#This technique involves removing rows or columns containing missing data. It is suitable when the amount of missing data is small and doesn't significantly affect the analysis.\n",
    "import pandas as pd\n",
    "data = {\n",
    "    'A': [1, 2, None, 4, 5],\n",
    "    'B': [None, 10, 11, 12, None],\n",
    "    'C': [21, 22, 23, None, 25]\n",
    "}\n",
    "df = pd.DataFrame(data)\n",
    "print(df)\n",
    "drop=df.dropna()\n",
    "print(drop)\n",
    "drop1=df.dropna(axis=1)\n",
    "print(drop1)\n",
    "#replacing missing values with mean,median,mode\n",
    "import pandas as pd\n",
    "data = {\n",
    "    'A': [1, 2, None, 4, 5],\n",
    "    'B': [None, 10, 11, 12, None],\n",
    "    'C': [21, 22, 23, None, 25]\n",
    "}\n",
    "df = pd.DataFrame(data)\n",
    "print(df)\n",
    "df1=df.fillna(df['A']).mean()\n",
    "print(df1)\n",
    "df2=df.fillna(df['B']).median()\n",
    "print(df2)"
   ]
  },
  {
   "cell_type": "markdown",
   "id": "bbc17274",
   "metadata": {},
   "source": [
    "Q3)"
   ]
  },
  {
   "cell_type": "code",
   "execution_count": null,
   "id": "c973c321",
   "metadata": {},
   "outputs": [],
   "source": [
    "#Imbalanced data is a situation where there are not equal numbers of samples in each class of a classification problem\n",
    "#methods to handle imbalanced data are:\n",
    "#up sampling\n",
    "#down sampling"
   ]
  },
  {
   "cell_type": "markdown",
   "id": "332658ef",
   "metadata": {},
   "source": [
    "Q4)"
   ]
  },
  {
   "cell_type": "code",
   "execution_count": 16,
   "id": "690a201d",
   "metadata": {},
   "outputs": [],
   "source": [
    "#in up sampling we increases the number of sample for the lower  class \n",
    "#in down sampling we decreases the number of samples for the higher class\n",
    "#Here are some of the techniques that can be used for up-sampling and down-sampling:\n",
    "#Interpolation\n",
    "#GAN"
   ]
  },
  {
   "cell_type": "markdown",
   "id": "471b2ce7",
   "metadata": {},
   "source": [
    "Q5)"
   ]
  },
  {
   "cell_type": "code",
   "execution_count": null,
   "id": "cc791bbd",
   "metadata": {},
   "outputs": [],
   "source": [
    "#Data augmentation is a technique used to artificially increase the size of a dataset by creating new data points from existing data points. This can be done by applying a variety of transformations to the existing data points, such as rotations, translations, and distortions.\n",
    "\n",
    "#SMOTE (Synthetic Minority Oversampling Technique) is a specific type of data augmentation that is used to address imbalanced datasets. Imbalanced datasets are datasets where there are a significantly different number of samples in each class. SMOTE works by creating synthetic data points for the minority class by interpolating between existing minority class data points."
   ]
  },
  {
   "cell_type": "markdown",
   "id": "74d32df0",
   "metadata": {},
   "source": [
    "Q6)"
   ]
  },
  {
   "cell_type": "code",
   "execution_count": null,
   "id": "d72dbca3",
   "metadata": {},
   "outputs": [],
   "source": [
    "#outliers means  data points which are far away from other data points in dataset \n",
    "#by removing  outliers we can imporve accuracy "
   ]
  },
  {
   "cell_type": "markdown",
   "id": "ac6356b0",
   "metadata": {},
   "source": [
    "Q7)"
   ]
  },
  {
   "cell_type": "code",
   "execution_count": null,
   "id": "9316758c",
   "metadata": {},
   "outputs": [],
   "source": [
    "#Missing data is a common problem in data analysis. There are a number of techniques that can be used to handle missing data. Some of the most common techniques include:\n",
    "\n",
    "#Deletion: This method involves removing all data points that contain missing values. This is the simplest method\n",
    "#Imputation: This method involves replacing missing values with estimated values. There are a number of different imputation methods available, such as mean imputation, median imputation, and mode imputation."
   ]
  },
  {
   "cell_type": "markdown",
   "id": "14d6f3b2",
   "metadata": {},
   "source": [
    "Q8)"
   ]
  },
  {
   "cell_type": "code",
   "execution_count": null,
   "id": "f49c2055",
   "metadata": {},
   "outputs": [],
   "source": [
    "#Visual inspection\n",
    "#Machine learning models\n",
    "#Statistical Tests"
   ]
  },
  {
   "cell_type": "markdown",
   "id": "0d9de792",
   "metadata": {},
   "source": [
    "Q9)"
   ]
  },
  {
   "cell_type": "code",
   "execution_count": null,
   "id": "5826270b",
   "metadata": {},
   "outputs": [],
   "source": [
    "#precision \n",
    "#Recall\n",
    "#f1 score"
   ]
  },
  {
   "cell_type": "markdown",
   "id": "42af462e",
   "metadata": {},
   "source": [
    "Q10)"
   ]
  },
  {
   "cell_type": "code",
   "execution_count": null,
   "id": "e8671ec9",
   "metadata": {},
   "outputs": [],
   "source": [
    "#Random undersampling\n",
    "#Clustered undersampling\n",
    "#SMOTE"
   ]
  },
  {
   "cell_type": "markdown",
   "id": "1940c4fa",
   "metadata": {},
   "source": [
    "Q11) "
   ]
  },
  {
   "cell_type": "code",
   "execution_count": null,
   "id": "7a86225b",
   "metadata": {},
   "outputs": [],
   "source": [
    "#Random oversampling\n",
    "#Weighted sampling\n",
    "#SMOTE"
   ]
  }
 ],
 "metadata": {
  "kernelspec": {
   "display_name": "Python 3 (ipykernel)",
   "language": "python",
   "name": "python3"
  },
  "language_info": {
   "codemirror_mode": {
    "name": "ipython",
    "version": 3
   },
   "file_extension": ".py",
   "mimetype": "text/x-python",
   "name": "python",
   "nbconvert_exporter": "python",
   "pygments_lexer": "ipython3",
   "version": "3.10.9"
  }
 },
 "nbformat": 4,
 "nbformat_minor": 5
}
