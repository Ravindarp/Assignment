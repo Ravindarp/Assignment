{
 "cells": [
  {
   "cell_type": "code",
   "execution_count": null,
   "id": "462c1547",
   "metadata": {},
   "outputs": [],
   "source": [
    "Q1"
   ]
  },
  {
   "cell_type": "markdown",
   "id": "84af54fc",
   "metadata": {},
   "source": [
    "Estimation statistics is a branch of statistics that deals with estimating the values of population parameters from sample data. A population parameter is a characteristic of a population, such as the mean, the standard deviation, or the proportion of elements with a certain property. A sample statistic is a characteristic of a sample, such as the sample mean, the sample standard deviation, or the sample proportion.\n",
    "\n",
    "A point estimate is a single value estimate of a population parameter. For instance, the sample mean is a point estimate of the population mean. An interval estimate gives you a range of values where the parameter is expected to lie. A confidence interval is the most common type of interval estimate."
   ]
  },
  {
   "cell_type": "code",
   "execution_count": null,
   "id": "f60f2824",
   "metadata": {},
   "outputs": [],
   "source": [
    "Q2 "
   ]
  },
  {
   "cell_type": "code",
   "execution_count": 3,
   "id": "48448ff4",
   "metadata": {},
   "outputs": [
    {
     "name": "stdout",
     "output_type": "stream",
     "text": [
      "Estimated Population Mean: 50.0\n",
      "Confidence Interval: (48.04003601545995, 51.95996398454005)\n"
     ]
    }
   ],
   "source": [
    "import scipy.stats as stats\n",
    "\n",
    "def estimate_population_mean(sample_mean, sample_stddev, sample_size, confidence_level=0.95):\n",
    "    standard_error = sample_stddev / (sample_size ** 0.5)\n",
    "    z_score = stats.norm.ppf((1 + confidence_level) / 2) \n",
    "    margin_of_error = z_score * standard_error\n",
    "    lower_bound = sample_mean - margin_of_error\n",
    "    upper_bound = sample_mean + margin_of_error\n",
    "    \n",
    "    return {\n",
    "        \"estimated_mean\": sample_mean,\n",
    "        \"confidence_interval\": (lower_bound, upper_bound)\n",
    "    }\n",
    "sample_mean = 50.0\n",
    "sample_stddev = 10.0\n",
    "sample_size = 100\n",
    "confidence_level = 0.95\n",
    "\n",
    "result = estimate_population_mean(sample_mean, sample_stddev, sample_size, confidence_level)\n",
    "print(\"Estimated Population Mean:\", result[\"estimated_mean\"])\n",
    "print(\"Confidence Interval:\", result[\"confidence_interval\"])\n"
   ]
  },
  {
   "cell_type": "code",
   "execution_count": null,
   "id": "03ac723b",
   "metadata": {},
   "outputs": [],
   "source": [
    "Q3"
   ]
  },
  {
   "cell_type": "markdown",
   "id": "9bdba1fb",
   "metadata": {},
   "source": [
    "ypothesis testing is a statistical method used to test the validity of an hypothesis. An hypothesis is a statement about a population parameter, such as the mean, the standard deviation, or the proportion of elements with a certain property.\n",
    "\n",
    "Hypothesis testing is used to make inferences about a population based on data from a sample. The goal of hypothesis testing is to determine whether the data provide sufficient evidence to reject the hypothesis.\n",
    "\n",
    "There are two types of hypothesis testing:\n",
    "\n",
    "Null hypothesis: The null hypothesis is the statement that there is no difference between the population parameter and a specified value.\n",
    "Alternative hypothesis: The alternative hypothesis is the statement that there is a difference between the population parameter and the specified value.\n",
    "The null hypothesis is typically denoted by H0, and the alternative hypothesis is denoted by H1."
   ]
  },
  {
   "cell_type": "code",
   "execution_count": null,
   "id": "c222f2f1",
   "metadata": {},
   "outputs": [],
   "source": [
    "Q4"
   ]
  },
  {
   "cell_type": "markdown",
   "id": "69c2ee81",
   "metadata": {},
   "source": [
    "Null hypothesis (H0): The average weight of male college students is equal to the average weight of female college students.\n",
    "\n",
    "Alternative hypothesis (H1): The average weight of male college students is greater than the average weight of female college students.\n",
    "\n",
    "To test this hypothesis, we would need to collect data on the weights of a sample of male and female college students. We would then use a statistical test, such as a t-test, to compare the average weights of the two groups. If the p-value of the t-test is less than the significance level, then we would reject the null hypothesis and conclude that the average weight of male college students is indeed greater than the average weight of female college students.\n",
    "\n",
    "However, if the p-value of the t-test is greater than the significance level, then we would fail to reject the null hypothesis. This does not mean that the average weight of male college students is not greater than the average weight of female college students, it simply means that the data does not provide enough evidence to conclude that it is greater."
   ]
  },
  {
   "cell_type": "code",
   "execution_count": null,
   "id": "a7bfee50",
   "metadata": {},
   "outputs": [],
   "source": [
    "Q5"
   ]
  },
  {
   "cell_type": "code",
   "execution_count": 6,
   "id": "7d35060c",
   "metadata": {},
   "outputs": [
    {
     "name": "stdout",
     "output_type": "stream",
     "text": [
      "Two-Sample T-Test Results:\n",
      "t-statistic: 1.4175537759023156\n",
      "p-value: 0.17339962688394772\n",
      "critical t-value: 1.7340636066175354\n",
      "Conclusion: Fail to reject the null hypothesis\n"
     ]
    }
   ],
   "source": [
    "import scipy.stats as stats\n",
    "\n",
    "def two_sample_t_test(sample1, sample2, alpha=0.05):\n",
    "    mean1 = sum(sample1) / len(sample1)\n",
    "    mean2 = sum(sample2) / len(sample2)\n",
    "    stddev1 = (sum((x - mean1)**2 for x in sample1) / (len(sample1) - 1))**0.5\n",
    "    stddev2 = (sum((x - mean2)**2 for x in sample2) / (len(sample2) - 1))**0.5\n",
    "    pooled_stddev = ((stddev1**2 + stddev2**2) / 2)**0.5\n",
    "    t_statistic = (mean1 - mean2) / (pooled_stddev * (2**0.5 / len(sample1)**0.5))\n",
    "    degrees_of_freedom = len(sample1) + len(sample2) - 2\n",
    "    critical_t_value = stats.t.ppf(1 - alpha, degrees_of_freedom)\n",
    "    p_value = 2 * (1 - stats.t.cdf(abs(t_statistic), degrees_of_freedom))\n",
    "    \n",
    "    if p_value < alpha:\n",
    "        result = \"Reject the null hypothesis\"\n",
    "    else:\n",
    "        result = \"Fail to reject the null hypothesis\"\n",
    "    \n",
    "    return {\n",
    "        \"t_statistic\": t_statistic,\n",
    "        \"p_value\": p_value,\n",
    "        \"critical_t_value\": critical_t_value,\n",
    "        \"result\": result\n",
    "    }\n",
    "\n",
    "# Example usage\n",
    "sample1 = [62, 65, 68, 70, 73, 75, 78, 80, 82, 85]\n",
    "sample2 = [55, 58, 61, 64, 67, 70, 73, 76, 79, 82]\n",
    "alpha = 0.05\n",
    "\n",
    "result = two_sample_t_test(sample1, sample2, alpha)\n",
    "print(\"Two-Sample T-Test Results:\")\n",
    "print(\"t-statistic:\", result[\"t_statistic\"])\n",
    "print(\"p-value:\", result[\"p_value\"])\n",
    "print(\"critical t-value:\", result[\"critical_t_value\"])\n",
    "print(\"Conclusion:\", result[\"result\"])\n"
   ]
  },
  {
   "cell_type": "code",
   "execution_count": null,
   "id": "f010860c",
   "metadata": {},
   "outputs": [],
   "source": [
    "Q6"
   ]
  },
  {
   "cell_type": "markdown",
   "id": "4acaf5ad",
   "metadata": {},
   "source": [
    "null hypothesis and an alternative hypothesis are two mutually exclusive statements about a population parameter. The null hypothesis is typically denoted by H0, and the alternative hypothesis is denoted by H1.\n",
    "\n",
    "The null hypothesis is the statement that there is no difference between the population parameter and a specified value. The alternative hypothesis is the statement that there is a difference between the population parameter and the specified value.\n",
    "\n",
    "For example, let's say we want to test whether the average weight of male college students is greater than the average weight of female college students. The null hypothesis would be that the average weight of male college students is equal to the average weight of female college students. The alternative hypothesis would be that the average weight of male college students is greater than the average weight of female college students."
   ]
  },
  {
   "cell_type": "code",
   "execution_count": null,
   "id": "04e24c3e",
   "metadata": {},
   "outputs": [],
   "source": [
    "Q7"
   ]
  },
  {
   "cell_type": "markdown",
   "id": "5ea60c23",
   "metadata": {},
   "source": [
    "State the null hypothesis and the alternative hypothesis. The null hypothesis is the statement that there is no difference between the population parameter and a specified value. The alternative hypothesis is the statement that there is a difference between the population parameter and the specified value.\n",
    "Select a significance level. The significance level is the probability of rejecting the null hypothesis when it is actually true. The significance level is typically set at 0.05, which means that there is a 5% chance of rejecting the null hypothesis when it is actually true.\n",
    "Calculate the test statistic. The test statistic is a measure of how far the sample data is from the null hypothesis. The specific test statistic that is used depends on the type of hypothesis test that is being conducted.\n",
    "Determine the p-value. The p-value is the probability of obtaining the test statistic or a more extreme value if the null hypothesis is true. The p-value is typically calculated using a statistical table or a statistical software program.\n",
    "Make a decision. If the p-value is less than the significance level, then we reject the null hypothesis. This means that we have enough evidence to conclude that the alternative hypothesis is true. However, if the p-value is greater than the significance level, then we fail to reject the null hypothesis. This means that we do not have enough evidence to conclude that the alternative hypothesis is true."
   ]
  },
  {
   "cell_type": "code",
   "execution_count": null,
   "id": "bf8402a0",
   "metadata": {},
   "outputs": [],
   "source": [
    "Q8"
   ]
  },
  {
   "cell_type": "markdown",
   "id": "335e79d0",
   "metadata": {},
   "source": [
    "In hypothesis testing, the p-value is used to decide whether to reject the null hypothesis. If the p-value is less than the significance level, then the null hypothesis is rejected, which means that there is sufficient evidence to support the alternative hypothesis. If the p-value is greater than the significance level, then the null hypothesis is not rejected, which means that there is not enough evidence to support the alternative hypothesis."
   ]
  },
  {
   "cell_type": "code",
   "execution_count": null,
   "id": "c1db0ba2",
   "metadata": {},
   "outputs": [],
   "source": [
    "Q9"
   ]
  },
  {
   "cell_type": "code",
   "execution_count": 6,
   "id": "9635651f",
   "metadata": {},
   "outputs": [
    {
     "data": {
      "image/png": "[encoded data removed]",
      "text/plain": [
       "<Figure size 800x600 with 1 Axes>"
      ]
     },
     "metadata": {},
     "output_type": "display_data"
    }
   ],
   "source": [
    "import numpy as np\n",
    "import matplotlib.pyplot as plt\n",
    "from scipy.stats import t\n",
    "df = 10  # Degrees of freedom\n",
    "x = np.linspace(-4, 4, 500)\n",
    "y = t.pdf(x, df)\n",
    "plt.figure(figsize=(8, 6))\n",
    "plt.plot(x, y, label=f\"Degrees of Freedom = {df}\")\n",
    "plt.title(\"Student's t-Distribution\")\n",
    "plt.xlabel('x')\n",
    "plt.ylabel('Probability Density')\n",
    "plt.legend()\n",
    "plt.grid()\n",
    "plt.show()\n"
   ]
  },
  {
   "cell_type": "code",
   "execution_count": null,
   "id": "ac0b7980",
   "metadata": {},
   "outputs": [],
   "source": [
    "Q10"
   ]
  },
  {
   "cell_type": "code",
   "execution_count": 8,
   "id": "35992655",
   "metadata": {},
   "outputs": [
    {
     "name": "stdout",
     "output_type": "stream",
     "text": [
      "Sample 1: [54.96714153 48.61735699 56.47688538 65.23029856 47.65846625 47.65863043\n",
      " 65.79212816 57.67434729 45.30525614 55.42560044 45.36582307 45.34270246\n",
      " 52.41962272 30.86719755 32.75082167 44.37712471 39.8716888  53.14247333\n",
      " 40.91975924 35.87696299 64.65648769 47.742237   50.67528205 35.75251814\n",
      " 44.55617275 51.1092259  38.49006423 53.75698018 43.9936131  47.0830625 ]\n",
      "Sample 2: [37.77952065 67.22733821 44.8380333  32.30746885 54.87053895 30.3498762\n",
      " 47.50636314 21.48395851 29.06176741 47.36233483 53.86159896 47.05641937\n",
      " 43.61222061 41.38675565 27.25773612 36.3618695  39.47233475 57.68546671\n",
      " 49.12341947 23.84351814 48.88900763 40.37901264 36.876936   52.34011547\n",
      " 57.37199427 56.17536143 34.92938972 41.28945149 48.97516118 56.70654153]\n",
      "T-Statistic: 1.7456025112852054\n",
      "P-Value: 0.08617561619553454\n",
      "Fail to reject the null hypothesis. The population means are not significantly different.\n"
     ]
    }
   ],
   "source": [
    "import numpy as np\n",
    "from scipy.stats import ttest_ind\n",
    "np.random.seed(42)  # for reproducibility\n",
    "sample_size = 30\n",
    "sample1 = np.random.normal(loc=50, scale=10, size=sample_size)\n",
    "sample2 = np.random.normal(loc=45, scale=12, size=sample_size)\n",
    "t_statistic, p_value = ttest_ind(sample1, sample2)\n",
    "print(\"Sample 1:\", sample1)\n",
    "print(\"Sample 2:\", sample2)\n",
    "print(\"T-Statistic:\", t_statistic)\n",
    "print(\"P-Value:\", p_value)\n",
    "alpha = 0.05  \n",
    "if p_value < alpha:\n",
    "    print(\"Reject the null hypothesis. There is a significant difference between the population means.\")\n",
    "else:\n",
    "    print(\"Fail to reject the null hypothesis. The population means are not significantly different.\")\n"
   ]
  },
  {
   "cell_type": "code",
   "execution_count": null,
   "id": "947a05eb",
   "metadata": {},
   "outputs": [],
   "source": [
    "Q11"
   ]
  },
  {
   "cell_type": "markdown",
   "id": "ed2a6052",
   "metadata": {},
   "source": [
    "Student's t-distribution is a probability distribution that is used in statistics to estimate the mean of a population when the population standard deviation is unknown. It is a bell-shaped distribution that is similar to the normal distribution, but it has fatter tails. This means that it is more likely to produce extreme values than the normal distribution.\n",
    "\n",
    "The t-distribution is used in a variety of statistical tests, including:\n",
    "\n",
    "Student's t-test: This test is used to compare the means of two groups when the population standard deviations are unknown.\n",
    "Confidence intervals: This method is used to estimate the range of values that is likely to contain the true population mean.\n",
    "Linear regression: This method is used to model the relationship between two or more variables.\n",
    "The t-distribution is also used in other areas of statistics, such as hypothesis testing and nonparametric statistics.\n",
    "\n"
   ]
  },
  {
   "cell_type": "code",
   "execution_count": null,
   "id": "c0422915",
   "metadata": {},
   "outputs": [],
   "source": [
    "Q12"
   ]
  },
  {
   "cell_type": "markdown",
   "id": "8d671d6f",
   "metadata": {},
   "source": [
    "t-statistic is a statistical test used to compare the means of two groups. It is a ratio of the difference between the means to the standard error of the difference between the means. The t-statistic is used in a variety of statistical tests, including the t-test, the paired t-test, and the Welch t-test.\n",
    "\n",
    "The formula for the t-statistic is:\n",
    "\n",
    "t = (x̄1 - x̄2) / ŝ\n",
    "where:\n",
    "\n",
    "x̄1 is the mean of the first group\n",
    "x̄2 is the mean of the second group\n",
    "ŝ is the standard error of the difference between the means"
   ]
  },
  {
   "cell_type": "code",
   "execution_count": null,
   "id": "f8eda84e",
   "metadata": {},
   "outputs": [],
   "source": [
    "Q13"
   ]
  },
  {
   "cell_type": "markdown",
   "id": "90099e08",
   "metadata": {},
   "source": [
    "To estimate the population mean revenue with a 95% confidence interval, we can use the following formula:\n",
    "\n",
    "confidence interval = sample mean ± t-statistic * standard deviation / sqrt(sample size)\n",
    "where:\n",
    "\n",
    "t-statistic is the t-value for the desired confidence level and degrees of freedom\n",
    "standard deviation is the sample standard deviation\n",
    "sample size is the number of samples\n",
    "The t-value for a 95% confidence interval with 50 - 1 = 49 degrees of freedom is 1.96.\n",
    "\n",
    "confidence interval = $500 ± 1.96 * $50 / sqrt(50)\n",
    "confidence interval = $500 ± $12.32\n",
    "confidence interval = (487.68, 512.32)\n",
    "Therefore, we can be 95% confident that the true population mean revenue is between $487.68 and $512.32."
   ]
  },
  {
   "cell_type": "code",
   "execution_count": null,
   "id": "e2d4bf72",
   "metadata": {},
   "outputs": [],
   "source": [
    "Q14"
   ]
  },
  {
   "cell_type": "markdown",
   "id": "5ca8227a",
   "metadata": {},
   "source": [
    "The first step is to define the null and alternative hypotheses. The null hypothesis is that the new drug does not decrease blood pressure, or in other words, the mean decrease in blood pressure is equal to 0. The alternative hypothesis is that the new drug does decrease blood pressure, or in other words, the mean decrease in blood pressure is greater than 0.\n",
    "\n",
    "The next step is to calculate the t-statistic. The t-statistic is calculated as follows:\n",
    "\n",
    "t = (sample mean - hypothesized mean) / standard error\n",
    "In this case, the sample mean is 8 mmHg, the hypothesized mean is 0 mmHg, and the standard error is 3 mmHg. So, the t-statistic is:\n",
    "\n",
    "t = (8 - 0) / 3 = 2.67\n",
    "The next step is to determine the critical value. The critical value is the value of the t-statistic that is required to reject the null hypothesis. The critical value is determined by the significance level and the degrees of freedom. In this case, the significance level is 0.05 and the degrees of freedom are 99 (100 - 1). The critical value for a two-tailed test with a significance level of 0.05 and 99 degrees of freedom is 1.677.\n",
    "\n",
    "The final step is to compare the t-statistic to the critical value. The t-statistic is greater than the critical value, so we reject the null hypothesis. This means that there is sufficient evidence to conclude that the new drug does decrease blood pressure."
   ]
  },
  {
   "cell_type": "code",
   "execution_count": null,
   "id": "3fe66532",
   "metadata": {},
   "outputs": [],
   "source": [
    "Q15"
   ]
  },
  {
   "cell_type": "markdown",
   "id": "39dad599",
   "metadata": {},
   "source": [
    "he first step is to define the null and alternative hypotheses. The null hypothesis is that the true mean weight of the products is equal to 5 pounds. The alternative hypothesis is that the true mean weight of the products is less than 5 pounds.\n",
    "\n",
    "The next step is to calculate the t-statistic. The t-statistic is calculated as follows:\n",
    "\n",
    "t = (sample mean - hypothesized mean) / standard error\n",
    "In this case, the sample mean is 4.8 pounds, the hypothesized mean is 5 pounds, and the standard deviation is 0.5 pounds. So, the t-statistic is:\n",
    "\n",
    "t = (4.8 - 5) / 0.5 = -4\n",
    "The next step is to determine the critical value. The critical value is the value of the t-statistic that is required to reject the null hypothesis. The critical value is determined by the significance level and the degrees of freedom. In this case, the significance level is 0.01 and the degrees of freedom are 24 (25 - 1). The critical value for a one-tailed test with a significance level of 0.01 and 24 degrees of freedom is 2.797.\n",
    "\n",
    "The final step is to compare the t-statistic to the critical value. The t-statistic is less than the critical value, so we do not reject the null hypothesis. This means that there is insufficient evidence to conclude that the true mean weight of the products is less than 5 pounds."
   ]
  },
  {
   "cell_type": "code",
   "execution_count": null,
   "id": "739c680b",
   "metadata": {},
   "outputs": [],
   "source": [
    "Q16"
   ]
  },
  {
   "cell_type": "markdown",
   "id": "5f7852e5",
   "metadata": {},
   "source": [
    "The first step is to define the null and alternative hypotheses. The null hypothesis is that the population means for the two groups are equal. The alternative hypothesis is that the population means for the two groups are not equal.\n",
    "\n",
    "The next step is to calculate the t-statistic. The t-statistic is calculated as follows:\n",
    "\n",
    "t = (mean1 - mean2) / pooled standard deviation\n",
    "In this case, the mean1 is 80, the mean2 is 75, and the pooled standard deviation is calculated as follows:\n",
    "\n",
    "pooled standard deviation = sqrt( (n1 * s1² + n2 * s2²) / (n1 + n2) )\n",
    "pooled standard deviation = sqrt( (30 * 10² + 40 * 8²) / (30 + 40) )\n",
    "pooled standard deviation = 9.21\n",
    "So, the t-statistic is:\n",
    "\n",
    "t = (80 - 75) / 9.21 = 0.54\n",
    "The next step is to determine the critical value. The critical value is the value of the t-statistic that is required to reject the null hypothesis. The critical value is determined by the significance level and the degrees of freedom. In this case, the significance level is 0.01 and the degrees of freedom are (30 + 40 - 2) = 68. The critical value for a two-tailed test with a significance level of 0.01 and 68 degrees of freedom is 2.896.\n",
    "\n",
    "The final step is to compare the t-statistic to the critical value. The t-statistic is less than the critical value, so we fail to reject the null hypothesis. This means that there is insufficient evidence to conclude that the population means for the two groups are not equal.\n",
    "\n",
    "Therefore, we cannot conclude that the population means for the two groups are not equal."
   ]
  },
  {
   "cell_type": "code",
   "execution_count": null,
   "id": "09e9a8ec",
   "metadata": {},
   "outputs": [],
   "source": [
    "Q17"
   ]
  },
  {
   "cell_type": "markdown",
   "id": "3f75c7a9",
   "metadata": {},
   "source": [
    "To estimate the population mean with a 99% confidence interval, we can use the following formula:\n",
    "confidence interval = sample mean ± t-statistic * standard deviation / sqrt(sample size)\n",
    "where:\n",
    "t-statistic is the t-value for the desired confidence level and degrees of freedom\n",
    "standard deviation is the sample standard deviation\n",
    "sample size is the number of samples\n",
    "The t-value for a 99% confidence interval with 50 - 1 = 49 degrees of freedom is 2.704.\n",
    "confidence interval = 4 ± 2.704 * 1.5 / sqrt(50)\n",
    "confidence interval = 4 ± 0.81\n",
    "confidence interval = (3.19, 4.81)\n",
    "Therefore, we can be 99% confident that the true population mean number of ads watched by viewers during a TV program is between 3.19 and 4.81."
   ]
  }
 ],
 "metadata": {
  "kernelspec": {
   "display_name": "Python 3 (ipykernel)",
   "language": "python",
   "name": "python3"
  },
  "language_info": {
   "codemirror_mode": {
    "name": "ipython",
    "version": 3
   },
   "file_extension": ".py",
   "mimetype": "text/x-python",
   "name": "python",
   "nbconvert_exporter": "python",
   "pygments_lexer": "ipython3",
   "version": "3.10.9"
  }
 },
 "nbformat": 4,
 "nbformat_minor": 5
}
