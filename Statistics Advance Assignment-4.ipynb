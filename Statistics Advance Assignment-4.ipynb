{
 "cells": [
  {
   "cell_type": "code",
   "execution_count": null,
   "id": "b6a336bc",
   "metadata": {},
   "outputs": [],
   "source": [
    "Q1"
   ]
  },
  {
   "cell_type": "markdown",
   "id": "94625f12",
   "metadata": {},
   "source": [
    "\n",
    "The main difference between a t-test and a z-test is that the z-test can be used when the population variance is known, while the t-test must be used when the population variance is unknown. The z-test is also more powerful than the t-test, meaning that it is more likely to detect a difference between the means of two populations, even if the difference is small.\n",
    "ere is an example of a scenario where you would use a z-test:\n",
    "\n",
    "A pharmaceutical company wants to test the effectiveness of a new drug for treating headaches. They randomly select 100 people who suffer from headaches and give half of them the new drug and half of them a placebo. After 2 weeks, they measure the number of headaches each person has had. The company knows the population variance for headaches, so they can use a z-test to compare the mean number of headaches for the people who took the drug to the mean number of headaches for the people who took the placebo.\n",
    "Here is an example of a scenario where you would use a t-test:\n",
    "\n",
    "A teacher wants to compare the average test scores of her students in math and science. She randomly selects 15 students from each class and gives them a math test and a science test. The teacher doesn't know the population variance for math test scores or science test scores, so she must use a t-test to compare the mean test scores of the two groups of students."
   ]
  },
  {
   "cell_type": "code",
   "execution_count": null,
   "id": "426614f0",
   "metadata": {},
   "outputs": [],
   "source": [
    "Q2"
   ]
  },
  {
   "cell_type": "markdown",
   "id": "ae5d8e66",
   "metadata": {},
   "source": [
    "One-tailed test: The alternative hypothesis specifies a direction, such as \"the mean is greater than 10\" or \"the mean is less than 5\". In this case, the critical region is only on one side of the distribution.\n",
    "Two-tailed test: The alternative hypothesis does not specify a direction, such as \"the mean is different from 10\". In this case, the critical region is on both sides of the distribution.\n",
    "The choice of whether to use a one-tailed or two-tailed test depends on the research question. If you are only interested in whether the mean is greater than or less than a certain value, then you should use a one-tailed test. However, if you are interested in whether the mean is different from a certain value, regardless of direction, then you should use a two-tailed test.\n",
    "\n",
    "Here is an example of a one-tailed test:\n",
    "\n",
    "A pharmaceutical company wants to test the effectiveness of a new drug for treating headaches. They randomly select 100 people who suffer from headaches and give half of them the new drug and half of them a placebo. After 2 weeks, they measure the number of headaches each person has had. The company wants to know if the new drug is more effective than the placebo in reducing headaches. In this case, the alternative hypothesis would be \"the mean number of headaches for the people who took the new drug is less than the mean number of headaches for the people who took the placebo\". The critical region would be on the left side of the distribution, because the company is only interested in whether the new drug is more effective than the placebo, not whether it is less effective.\n",
    "Here is an example of a two-tailed test:\n",
    "\n",
    "A researcher wants to know if there is a difference in the average weight of newborn babies born in hospitals in different states. They randomly select 10 babies from each state and weigh them. The researcher is not interested in whether the babies in one state are heavier or lighter than the babies in the other states, just whether there is a difference in weight. In this case, the alternative hypothesis would be \"the mean weight of babies born in one state is different from the mean weight of babies born in the other state\". The critical region would be on both sides of the distribution, because the researcher is interested in any difference in weight, regardless of direction"
   ]
  },
  {
   "cell_type": "code",
   "execution_count": null,
   "id": "b434d51a",
   "metadata": {},
   "outputs": [],
   "source": [
    "Q3"
   ]
  },
  {
   "cell_type": "markdown",
   "id": "74c11ddd",
   "metadata": {},
   "source": [
    "Type I error: Rejecting the null hypothesis when it is true. This is also known as a false positive.\n",
    "Type II error: Failing to reject the null hypothesis when it is false. This is also known as a false negative.\n",
    "The null hypothesis (H0) is the statement that there is no difference between the two populations being \n",
    "The following are examples of Type I and Type II errors:\n",
    "\n",
    "Type I error: A pharmaceutical company claims that their new drug is effective in treating headaches. They conduct a clinical trial and find that the drug is statistically significant at the 0.05 level. However, the drug is actually not effective and the results of the clinical trial are a Type I error.\n",
    "Type II error: A researcher is studying the effects of a new fertilizer on crop yield. They conduct a field trial and find that the fertilizer is not statistically significant at the 0.05 level. However, the fertilizer is actually effective and the results of the field trial are a Type II error."
   ]
  },
  {
   "cell_type": "code",
   "execution_count": null,
   "id": "734364da",
   "metadata": {},
   "outputs": [],
   "source": [
    "Q4"
   ]
  },
  {
   "cell_type": "markdown",
   "id": "f766ec62",
   "metadata": {},
   "source": [
    "Bayes' theorem is a formula that describes the probability of an event occurring, given that another event has already occurred. It is named after Thomas Bayes, an English mathematician who published it in 1763.\n",
    "\n",
    "The formula for Bayes' theorem is:\n",
    "\n",
    "P(A|B) = P(B|A)P(A) / P(B)\n",
    "where:\n",
    "\n",
    "P(A|B) is the probability of event A occurring, given that event B has already occurred.\n",
    "P(B|A) is the probability of event B occurring, given that event A has already occurred.\n",
    "P(A) is the probability of event A occurring, regardless of whether event B has occurred.\n",
    "P(B) is the probability of event B occurring, regardless of whether event A has occurred.\n",
    "Suppose you are a doctor and you are trying to diagnose a patient with a disease. The disease is rare, so the probability of the patient having the disease is low. However, the test for the disease is very accurate, so if the patient tests positive, the probability of them actually having the disease is high.\n",
    "\n",
    "In this example, event A is the patient having the disease and event B is the patient testing positive for the disease. P(A) is the probability of the patient having the disease, which is low. P(B|A) is the probability of the patient testing positive for the disease, given that they actually have the disease, which is high. P(B) is the probability of the patient testing positive for the disease, regardless of whether they actually have the disease, which is also high, because the test is very accurate."
   ]
  },
  {
   "cell_type": "code",
   "execution_count": null,
   "id": "c2ff06bf",
   "metadata": {},
   "outputs": [],
   "source": [
    "Q5"
   ]
  },
  {
   "cell_type": "markdown",
   "id": "b4d31795",
   "metadata": {},
   "source": [
    "confidence interval is a range of values that is likely to contain the true value of a population parameter. The confidence interval is calculated from a sample of data, and it is expressed as a range of values, such as 95% confidence interval (CI) of 10 to 15. This means that we are 95% confident that the true value of the population parameter lies within the range of 10 to 15.\n",
    "Suppose we have a sample of 100 students and their average height is 170 cm. The standard deviation of the sample data is 5 cm. We want to calculate a 95% confidence interval for the true mean height of all students.\n",
    "\n",
    "Using a statistical table, we find that the 95% confidence interval for a sample of size 100 is 168.5 to 171.5 cm. This means that we are 95% confident that the true mean height of all students lies within the range of 168.5 to 171.5 cm."
   ]
  },
  {
   "cell_type": "code",
   "execution_count": null,
   "id": "027cb89f",
   "metadata": {},
   "outputs": [],
   "source": [
    "Q6"
   ]
  },
  {
   "cell_type": "markdown",
   "id": "5f162feb",
   "metadata": {},
   "source": [
    "Suppose you are a doctor and you are trying to diagnose a patient with a certain disease. The prior probability of the patient having the disease is 10%. The likelihood of the patient testing positive for the disease, given that they have the disease, is 90%. The evidence probability of the patient testing positive for the disease is 10%.\n",
    "\n",
    "We can use Bayes' theorem to calculate the posterior probability of the patient having the disease, given that they have tested positive.\n",
    "\n",
    "P(Disease|Positive Test) = (0.9)(0.1) / 0.1 = 0.9\n",
    "So, the posterior probability is 90%. This means that, given the patient's positive test result, there is a 90% chance that they actually have the disease."
   ]
  },
  {
   "cell_type": "code",
   "execution_count": null,
   "id": "cccf3dad",
   "metadata": {},
   "outputs": [],
   "source": [
    "Q7"
   ]
  },
  {
   "cell_type": "markdown",
   "id": "076ad862",
   "metadata": {},
   "source": [
    "95% confidence interval for a sample of data with a mean of 50 and a standard deviation of 5 is:\n",
    "\n",
    "(45, 55)\n",
    "This means that we are 95% confident that the true population mean is within the range of 45 and 55. In other words, if we were to take many samples of the same size from the population, 95% of the time the 95% confidence interval would contain the true population mean.\n",
    "\n",
    "The interpretation of the results is that we are very confident that the true population mean is between 45 and 55. However, there is still a 5% chance that the true population mean is outside of this range."
   ]
  },
  {
   "cell_type": "code",
   "execution_count": null,
   "id": "c31dc0ce",
   "metadata": {},
   "outputs": [],
   "source": [
    "Q8"
   ]
  },
  {
   "cell_type": "markdown",
   "id": "06418b62",
   "metadata": {},
   "source": [
    "margin of error is the amount of uncertainty in our estimate of a population parameter. For example, if we want to estimate the average height of all adults in the United States, we might take a sample of 100 adults and find that the average height is 6 feet. However, we know that this is only an estimate, and the true average height could be anywhere within a range of heights around 6 feet. The margin of error tells us how wide this range of heights is.\n",
    "\n",
    "The margin of error is inversely proportional to the sample size. This means that as the sample size increases, the margin of error decreases. For example, if we took a sample of 1000 adults instead of 100, the margin of error would be smaller.\n",
    "\n",
    "Here is a simple way to think about the margin of error:\n",
    "\n",
    "Imagine you are trying to hit a target with a bow and arrow. If you are close to the target, you are more likely to hit it. If you are far away from the target, you are less likely to hit it.\n",
    "The margin of error is like the distance between you and the target. The smaller the margin of error, the closer you are to the target, and the more likely you are to hit it.\n",
    "The sample size is like the size of the target. The larger the sample size, the larger the target, and the easier it is to hit it"
   ]
  },
  {
   "cell_type": "code",
   "execution_count": null,
   "id": "1c71d230",
   "metadata": {},
   "outputs": [],
   "source": [
    "Q9"
   ]
  },
  {
   "cell_type": "markdown",
   "id": "3448c974",
   "metadata": {},
   "source": [
    "\n",
    "Data point value: 75\n",
    "Population mean: 70\n",
    "Population standard deviation: 5\n",
    "The z-score can be calculated using the following formula:\n",
    "\n",
    "z = (x - μ) / σ\n",
    "where:\n",
    "\n",
    "x is the data point value\n",
    "μ is the population mean\n",
    "σ is the population standard deviation\n",
    "Plugging in the values, we get:\n",
    "\n",
    "z = (75 - 70) / 5\n",
    "z = 1.0\n",
    "Therefore, the z-score is 1.0.\n",
    "\n",
    "A z-score of 1.0 means that the data point is 1 standard deviation above the mean. In other words, the data point is 10 points above the average.\n",
    "\n",
    "The z-score can be used to interpret the relative position of a data point within a distribution. A z-score of 1.0 is considered to be a positive deviation from the mean, which means that the data point is above average.\n",
    "\n",
    "In this case, the data point with a value of 75 is 1 standard deviation above the mean, which means that it is above average."
   ]
  },
  {
   "cell_type": "code",
   "execution_count": null,
   "id": "b1721189",
   "metadata": {},
   "outputs": [],
   "source": [
    "Q10"
   ]
  },
  {
   "cell_type": "markdown",
   "id": "8cf78aaa",
   "metadata": {},
   "source": [
    "Null hypothesis: The drug is not significantly effective.\n",
    "Alternative hypothesis: The drug is significantly effective\n",
    "The t-statistic can be calculated using the following formula:\n",
    "\n",
    "t = (x̄1 - x̄2) / s̄√(n1/n2)\n",
    "where:\n",
    "\n",
    "x̄1 is the mean weight loss of the participants who took the drug\n",
    "x̄2 is the mean weight loss of the participants who did not take the drug\n",
    "s̄ is the pooled standard deviation\n",
    "n1 is the number of participants who took the drug\n",
    "n2 is the number of participants who did not take the drug\n",
    "Plugging in the values, we get:\n",
    "\n",
    "t = (6 - 0) / 2.5√(50/50)\n",
    "t = 2.4\n",
    "The critical value for a t-test with 95% confidence level and 50 - 1 = 49 degrees of freedom is 1.96.\n",
    "\n",
    "Since the t-statistic (2.4) is greater than the critical value (1.96), we reject the null hypothesis and conclude that the drug is significantly effective at a 95% confidence level."
   ]
  },
  {
   "cell_type": "code",
   "execution_count": null,
   "id": "0e7ce5e5",
   "metadata": {},
   "outputs": [],
   "source": [
    "Q11"
   ]
  },
  {
   "cell_type": "markdown",
   "id": "37e2a0ce",
   "metadata": {},
   "source": [
    "95% confidence interval for the true proportion of people who are satisfied with their job is:\n",
    "\n",
    "(0.61, 0.69)\n",
    "Here is the calculation:\n",
    "\n",
    "Sample size: 500\n",
    "Sample proportion: 0.65 (65%)\n",
    "Confidence level: 95%\n",
    "The z-score for a 95% confidence interval is 1.96.\n",
    "\n",
    "The margin of error is calculated as follows:\n",
    "\n",
    "Margin of error = z-score × standard error of the proportion\n",
    "= 1.96 × √(0.65 × 0.35) / 500\n",
    "= 0.06\n",
    "The confidence interval is calculated as follows:\n",
    "\n",
    "Confidence interval = sample proportion ± margin of error\n",
    "= 0.65 ± 0.06\n",
    "= (0.61, 0.69)\n",
    "Therefore, we are 95% confident that the true proportion of people who are satisfied with their job is between 61% and 69%."
   ]
  },
  {
   "cell_type": "code",
   "execution_count": null,
   "id": "afa45b6d",
   "metadata": {},
   "outputs": [],
   "source": [
    "Q12"
   ]
  },
  {
   "cell_type": "markdown",
   "id": "75c3059e",
   "metadata": {},
   "source": [
    "Null hypothesis: The two teaching methods do not have a significant difference in student performance.\n",
    "Alternative hypothesis: The two teaching methods have a significant difference in student performance.\n",
    "We will use a t-test to test the hypothesis. The t-test is a statistical test that is used to compare the means of two groups. In this case, we are comparing the mean scores of the students who were taught using method A to the mean scores of the students who were taught using method B.\n",
    "\n",
    "The t-statistic can be calculated using the following formula:\n",
    "\n",
    "t = (x̄1 - x̄2) / s̄√(1/n1 + 1/n2)\n",
    "where:\n",
    "\n",
    "x̄1 is the mean score of the students who were taught using method A\n",
    "x̄2 is the mean score of the students who were taught using method B\n",
    "s̄ is the pooled standard deviation\n",
    "n1 is the number of students who were taught using method A\n",
    "n2 is the number of students who were taught using method B\n",
    "Plugging in the values, we get:\n",
    "\n",
    "t = (85 - 82) / 6√(1/50 + 1/50)\n",
    "t = 0.67\n",
    "The critical value for a t-test with 0.01 significance level and 50 - 1 = 49 degrees of freedom is 2.576.\n",
    "\n",
    "Since the t-statistic (0.67) is less than the critical value (2.576), we fail to reject the null hypothesis and conclude that there is no significant difference in student performance between the two teaching method"
   ]
  },
  {
   "cell_type": "code",
   "execution_count": null,
   "id": "01f808b8",
   "metadata": {},
   "outputs": [],
   "source": [
    "Q13"
   ]
  },
  {
   "cell_type": "markdown",
   "id": "f7b057c7",
   "metadata": {},
   "source": [
    "\n",
    "The 90% confidence interval for the true population mean is:\n",
    "\n",
    "(62.4, 67.6)\n",
    "Here is the calculation:\n",
    "\n",
    "Population mean: 60\n",
    "Population standard deviation: 8\n",
    "Sample size: 50\n",
    "Confidence level: 90%\n",
    "The z-score for a 90% confidence interval is 1.645.\n",
    "\n",
    "The margin of error is calculated as follows:\n",
    "\n",
    "Margin of error = z-score × standard error of the mean\n",
    "= 1.645 × 8 / √50\n",
    "= 1.645 × 0.64\n",
    "= 1.04\n",
    "The confidence interval is calculated as follows:\n",
    "\n",
    "Confidence interval = sample mean ± margin of error\n",
    "= 65 ± 1.04\n",
    "= (62.4, 67.6)\n",
    "Therefore, we are 90% confident that the true population mean is between 62.4 and 67.6."
   ]
  },
  {
   "cell_type": "code",
   "execution_count": null,
   "id": "b9aad261",
   "metadata": {},
   "outputs": [],
   "source": [
    "Q14"
   ]
  },
  {
   "cell_type": "markdown",
   "id": "d1aed0e8",
   "metadata": {},
   "source": [
    "Null hypothesis: Caffeine does not have a significant effect on reaction time.\n",
    "Alternative hypothesis: Caffeine has a significant effect on reaction time.\n",
    "The t-statistic can be calculated using the following formula:\n",
    "\n",
    "t = (x̄1 - x̄2) / s̄√(1/n1 + 1/n2)\n",
    "where:\n",
    "\n",
    "x̄1 is the mean reaction time of the participants who took caffeine\n",
    "x̄2 is the mean reaction time of the participants who did not take caffeine\n",
    "s̄ is the pooled standard deviation\n",
    "n1 is the number of participants who took caffeine\n",
    "n2 is the number of participants who did not take caffeine\n",
    "Plugging in the values, we get:\n",
    "\n",
    "t = (0.25 - 0) / 0.05√(1/30 + 1/30)\n",
    "t = 2\n",
    "The critical value for a t-test with 90% confidence level and 30 - 1 = 29 degrees of freedom is 1.697.\n",
    "\n",
    "Since the t-statistic (2) is greater than the critical value (1.697), we reject the null hypothesis and conclude that caffeine has a significant effect on reaction time at a 90% confidence level."
   ]
  }
 ],
 "metadata": {
  "kernelspec": {
   "display_name": "Python 3 (ipykernel)",
   "language": "python",
   "name": "python3"
  },
  "language_info": {
   "codemirror_mode": {
    "name": "ipython",
    "version": 3
   },
   "file_extension": ".py",
   "mimetype": "text/x-python",
   "name": "python",
   "nbconvert_exporter": "python",
   "pygments_lexer": "ipython3",
   "version": "3.10.9"
  }
 },
 "nbformat": 4,
 "nbformat_minor": 5
}
