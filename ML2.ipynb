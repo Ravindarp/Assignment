{
 "cells": [
  {
   "cell_type": "markdown",
   "id": "1c7a5828",
   "metadata": {},
   "source": [
    "Q1)"
   ]
  },
  {
   "cell_type": "code",
   "execution_count": null,
   "id": "90b844c3",
   "metadata": {},
   "outputs": [],
   "source": [
    "\n",
    "#In machine learning, overfitting occurs when a model learns the training data too well and as a result, it does not generalize well to new data. This means that the model will perform well on the training data, but it will not perform as well on new data that it has not seen before.\n",
    "\n",
    "#Underfitting occurs when a model does not learn the training data well enough and as a result, it does not generalize well to new data. This means that the model will perform poorly on both the training data and new data.\n",
    "\n",
    "#The consequences of overfitting and underfitting can be significant. In the case of overfitting, the model may make inaccurate predictions on new data, which can lead to lost revenue, customer dissatisfaction, or other negative consequences. In the case of underfitting, the model may not be able to make any useful predictions at all, which can also lead to negative consequences.\n",
    "\n",
    "#There are a number of ways to mitigate overfitting and underfitting. Some common techniques include:\n",
    "\n",
    "#Cross-validation\n",
    "#Regularization\n"
   ]
  },
  {
   "cell_type": "markdown",
   "id": "e83cf4e2",
   "metadata": {},
   "source": [
    "Q2)"
   ]
  },
  {
   "cell_type": "code",
   "execution_count": null,
   "id": "19a6eb01",
   "metadata": {},
   "outputs": [],
   "source": [
    "#In machine learning, overfitting occurs when a model learns the training data too well and as a result, it does not generalize well to new data. This means that the model will perform well on the training data, but it will not perform as well on new data that it has not seen before.\n",
    "#there are a number of ways to reduce overfitting:\n",
    "#Cross-validation\n",
    "#Regularization\n",
    "#Feature Selection"
   ]
  },
  {
   "cell_type": "markdown",
   "id": "f57aaf63",
   "metadata": {},
   "source": [
    "Q3"
   ]
  },
  {
   "cell_type": "code",
   "execution_count": null,
   "id": "282c377e",
   "metadata": {},
   "outputs": [],
   "source": [
    "#Underfitting occurs when a model does not learn the training data well enough and as a result, it does not generalize well to new data. This means that the model will perform poorly on both the training data and new data.\n",
    "#The data is not clean\n",
    "#model is not fit enough for complex problem solving"
   ]
  },
  {
   "cell_type": "markdown",
   "id": "9abdd90e",
   "metadata": {},
   "source": [
    "Q4)"
   ]
  },
  {
   "cell_type": "code",
   "execution_count": null,
   "id": "fa586c68",
   "metadata": {},
   "outputs": [],
   "source": [
    "#Bias refers to the difference between expected value and true value\n",
    "#Variance refers to the spread of the models pedictions around the expected value\n",
    "#low bias,low variance-Genaralized model\n",
    "#low bias,high variance-overfitting\n",
    "#high bias,high variance-underfitting"
   ]
  },
  {
   "cell_type": "markdown",
   "id": "d4686415",
   "metadata": {},
   "source": [
    "Q5) "
   ]
  },
  {
   "cell_type": "code",
   "execution_count": null,
   "id": "7dad4936",
   "metadata": {},
   "outputs": [],
   "source": [
    "#Visualizing the model's predictions\n",
    "#evaluating model performance\n",
    "#Using cross-validation"
   ]
  },
  {
   "cell_type": "markdown",
   "id": "46ff217e",
   "metadata": {},
   "source": [
    "Q6)"
   ]
  },
  {
   "cell_type": "code",
   "execution_count": null,
   "id": "e07ca9bd",
   "metadata": {},
   "outputs": [],
   "source": [
    "#Bias refers to the difference between the expected value of the model's predictions and the true value.\n",
    "#A model with high bias will make predictions that are consistently biased in one direction. \n",
    "#Variance refers to the spread of the model's predictions around the expected value.\n",
    "#A model with high variance will make predictions that are very spread out.\n",
    "#examples of high bias models include linear regression models and decision trees with a small number of leaves\n",
    "#in terms of performance\n",
    "#low bias,low variance-Genaralized model\n",
    "#low bias,high variance-overfitting\n",
    "#high bias,high variance-underfitting"
   ]
  },
  {
   "cell_type": "markdown",
   "id": "c54c39ef",
   "metadata": {},
   "source": [
    "Q7)"
   ]
  },
  {
   "cell_type": "code",
   "execution_count": null,
   "id": "5d4899f3",
   "metadata": {},
   "outputs": [],
   "source": [
    "\n",
    "#Regularization is a technique in machine learning that can be used to prevent overfitting.\n",
    "#Overfitting occurs when a model learns the training data too well and as a result, \n",
    "#it does not generalize well to new data. Regularization works by adding a penalty to the loss function \n",
    "#that is proportional to the complexity of the model. This penalty makes it more difficult for the model to learn the noise in the training data, and helps to prevent overfitting.\n",
    "\n",
    "#Here are some common regularization techniques:\n",
    "\n",
    "#L1 regularization\n",
    "#L2 regularization "
   ]
  },
  {
   "cell_type": "code",
   "execution_count": null,
   "id": "0bc7e830",
   "metadata": {},
   "outputs": [],
   "source": []
  }
 ],
 "metadata": {
  "kernelspec": {
   "display_name": "Python 3 (ipykernel)",
   "language": "python",
   "name": "python3"
  },
  "language_info": {
   "codemirror_mode": {
    "name": "ipython",
    "version": 3
   },
   "file_extension": ".py",
   "mimetype": "text/x-python",
   "name": "python",
   "nbconvert_exporter": "python",
   "pygments_lexer": "ipython3",
   "version": "3.10.9"
  }
 },
 "nbformat": 4,
 "nbformat_minor": 5
}
