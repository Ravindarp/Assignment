{
 "cells": [
  {
   "cell_type": "code",
   "execution_count": null,
   "id": "e125407e",
   "metadata": {},
   "outputs": [],
   "source": [
    "Q1"
   ]
  },
  {
   "cell_type": "markdown",
   "id": "68a68f6f",
   "metadata": {},
   "source": [
    "A database is a collection of data that is organized so that it can be easily accessed, managed, and updated. Databases are used to store all sorts of data, from customer records to product inventory to financial information.\n",
    "There are two main types of databases: SQL databases and NoSQL databases.\n",
    "SQL databases are relational databases that use Structured Query Language (SQL) to manage data. SQL is a declarative language, which means that you specify what you want to do with the data, rather than how to do it. SQL databases are good for storing structured data, such as customer records or product inventory.\n",
    "NoSQL databases are non-relational databases that do not use SQL. NoSQL databases are more flexible than SQL databases and can be used to store a wider variety of data, such as unstructured data, such as text or images. NoSQL databases are also better suited for handling large amounts of data."
   ]
  },
  {
   "cell_type": "code",
   "execution_count": null,
   "id": "413c4063",
   "metadata": {},
   "outputs": [],
   "source": [
    "Q2"
   ]
  },
  {
   "cell_type": "markdown",
   "id": "6b5a81b1",
   "metadata": {},
   "source": [
    "Data Definition Language (DDL) is a set of commands used to define the structure of a database. It is used to create, alter, and drop tables, views, indexes, and other database objects.\n",
    "The four most common DDL commands are:\n",
    "CREATE: This command is used to create a new database object, such as a table or view. For example, the following command creates a table called customers:\n",
    "CREATE TABLE customers (\n",
    "  id INT NOT NULL AUTO_INCREMENT,\n",
    "  name VARCHAR(255),\n",
    "  email VARCHAR(255),\n",
    "  PRIMARY KEY (id)\n",
    ");\n",
    "DROP: This command is used to delete a database object. For example, the following command drops the customers table:\n",
    "DROP TABLE customers;\n",
    "ALTER: This command is used to modify a database object. For example, the following command adds a new column to the customers table:\n",
    "ALTER TABLE customers ADD COLUMN phone_number VARCHAR(255);\n",
    "TRUNCATE: This command is used to delete all rows from a table, but the table structure is retained. For example, the following command truncates the customers table:\n",
    "SQL\n",
    "TRUNCATE TABLE customers;"
   ]
  },
  {
   "cell_type": "code",
   "execution_count": null,
   "id": "d3836311",
   "metadata": {},
   "outputs": [],
   "source": [
    "Q3"
   ]
  },
  {
   "cell_type": "markdown",
   "id": "07a54d55",
   "metadata": {},
   "source": [
    "Data Manipulation Language (DML) is a set of commands used to manipulate data in a database. It is used to insert, update, delete, and select data from tables.\n",
    "The three most common DML commands are:\n",
    "INSERT: This command is used to insert new rows into a table. For example, the following command inserts a new row into the customers table:\n",
    "INSERT INTO customers (name, email) VALUES ('John Doe', 'johndoe@example.com');\n",
    "UPDATE: This command is used to update existing rows in a table. For example, the following command updates the email address for the customer named John Doe:\n",
    "UPDATE customers SET email = 'johndoe@gmail.com' WHERE name = 'John Doe';\n",
    "DELETE: This command is used to delete rows from a table. For example, the following command deletes the row for the customer named John Doe:\n",
    "DELETE FROM customers WHERE name = 'John Doe';"
   ]
  },
  {
   "cell_type": "code",
   "execution_count": null,
   "id": "799ebd7f",
   "metadata": {},
   "outputs": [],
   "source": [
    "Q4"
   ]
  },
  {
   "cell_type": "markdown",
   "id": "f800a473",
   "metadata": {},
   "source": [
    "Data Query Language (DQL) is a set of commands used to retrieve data from a database. It is used to select, project, and filter data from tables.\n",
    "The most common DQL command is the SELECT command. The SELECT command is used to select rows from a table. The syntax for the SELECT command is:\n",
    "SELECT <columns> FROM <table>;\n",
    "The <columns> clause specifies the columns that you want to select. The <table> clause specifies the table that you want to select the data from.\n",
    "For example, the following SELECT command selects the name and email columns from the customers table:\n",
    "SELECT name, email FROM customers;\n",
    "The SELECT command can also be used to filter the data that is returned. The WHERE clause is used to filter the data. The syntax for the WHERE clause is:\n",
    "WHERE <condition>;"
   ]
  },
  {
   "cell_type": "code",
   "execution_count": null,
   "id": "c2ddbaf6",
   "metadata": {},
   "outputs": [],
   "source": [
    "Q5"
   ]
  },
  {
   "cell_type": "markdown",
   "id": "1863eda5",
   "metadata": {},
   "source": [
    "A primary key is a column or group of columns in a table that uniquely identifies each row in the table. A foreign key is a column or group of columns in a table that refers to the primary key of another table.\n",
    "Primary keys and foreign keys are used to enforce referential integrity, which is a set of rules that ensures that the data in related tables is consistent.\n",
    "Here are some of the key differences between primary keys and foreign keys:\n",
    "A primary key is always unique, while a foreign key can be non-unique.\n",
    "A primary key cannot be null, while a foreign key can be null.\n",
    "A primary key is defined on a table, while a foreign key is defined on a column.\n",
    "Here is an example of a table with a primary key and a foreign key:\n",
    "CREATE TABLE customers (\n",
    "  id INT NOT NULL AUTO_INCREMENT,\n",
    "  name VARCHAR(255) NOT NULL,\n",
    "  email VARCHAR(255) NOT NULL,\n",
    "  PRIMARY KEY (id)\n",
    ");\n",
    "\n",
    "CREATE TABLE orders (\n",
    "  id INT NOT NULL AUTO_INCREMENT,\n",
    "  customer_id INT NOT NULL,\n",
    "  order_date DATETIME NOT NULL,\n",
    "  total_amount DECIMAL(10,2) NOT NULL,\n",
    "  PRIMARY KEY (id),\n",
    "  FOREIGN KEY (customer_id) REFERENCES customers (id)\n",
    ");"
   ]
  },
  {
   "cell_type": "code",
   "execution_count": null,
   "id": "57dd516b",
   "metadata": {},
   "outputs": [],
   "source": [
    "Q6"
   ]
  },
  {
   "cell_type": "code",
   "execution_count": null,
   "id": "ade905f8",
   "metadata": {},
   "outputs": [],
   "source": [
    "import mysql.connector\n",
    "conn = mysql.connector.connect(\n",
    "    host='localhost',\n",
    "    user='root',\n",
    "    password='password',\n",
    "    database='my_database'\n",
    ")\n",
    "cursor = conn.cursor()\n",
    "cursor.execute('SELECT * FROM customers')\n",
    "results = cursor.fetchall()\n",
    "for row in results:\n",
    "    print(row)\n",
    "cursor.close()\n",
    "conn.close()\n",
    "#cursor() method is used to create a cursor object. A cursor object is like a pointer to the database. It allows you to execute queries and fetch results from the database.\n",
    "#The execute() method is used to execute a query. The execute() method takes a string as its argument. The string is the SQL query that you want to execute."
   ]
  },
  {
   "cell_type": "code",
   "execution_count": null,
   "id": "1ad70fe6",
   "metadata": {},
   "outputs": [],
   "source": [
    "Q7"
   ]
  },
  {
   "cell_type": "markdown",
   "id": "797f114c",
   "metadata": {},
   "source": [
    "FROM: The FROM clause specifies the tables that the query will be executed on.\n",
    "WHERE: The WHERE clause specifies the conditions that the rows must meet in order to be included in the results.\n",
    "GROUP BY: The GROUP BY clause groups the rows together based on the values in a particular column.\n",
    "HAVING: The HAVING clause specifies the conditions that the groups must meet in order to be included in the results.\n",
    "SELECT: The SELECT clause specifies the columns that the query will return.\n",
    "ORDER BY: The ORDER BY clause specifies the order in which the rows will be returned.\n",
    "LIMIT: The LIMIT clause specifies the number of rows that will be returned.\n",
    "The FROM clause must always be the first clause in an SQL query. The WHERE clause, GROUP BY clause, HAVING clause, SELECT clause, ORDER BY clause, and LIMIT clause can be in any order, but the WHERE clause must come before the GROUP BY clause, and the HAVING clause must come before the ORDER BY clause"
   ]
  }
 ],
 "metadata": {
  "kernelspec": {
   "display_name": "Python 3 (ipykernel)",
   "language": "python",
   "name": "python3"
  },
  "language_info": {
   "codemirror_mode": {
    "name": "ipython",
    "version": 3
   },
   "file_extension": ".py",
   "mimetype": "text/x-python",
   "name": "python",
   "nbconvert_exporter": "python",
   "pygments_lexer": "ipython3",
   "version": "3.9.12"
  }
 },
 "nbformat": 4,
 "nbformat_minor": 5
}
