{
 "cells": [
  {
   "cell_type": "code",
   "execution_count": null,
   "id": "c9800600",
   "metadata": {},
   "outputs": [],
   "source": [
    "Q1"
   ]
  },
  {
   "cell_type": "code",
   "execution_count": null,
   "id": "9951c612",
   "metadata": {},
   "outputs": [],
   "source": [
    "import requests\n",
    "from bs4 import BeautifulSoup\n",
    "url = \"https://www.youtube.com/@PW-Foundation/videos\"\n",
    "response = requests.get(url)\n",
    "soup = BeautifulSoup(response.content, \"html.parser\")\n",
    "videos = soup.find_all(\"a\", class_=\"ytd-video-renderer\")\n",
    "first_five_videos = videos[:5]\n",
    "video_urls = []\n",
    "for video in first_five_videos:\n",
    "    video_url = video[\"href\"]\n",
    "    video_urls.append(video_url)\n",
    "print(video_urls)\n"
   ]
  },
  {
   "cell_type": "code",
   "execution_count": null,
   "id": "65f7695d",
   "metadata": {},
   "outputs": [],
   "source": [
    "Q2"
   ]
  },
  {
   "cell_type": "code",
   "execution_count": null,
   "id": "d1968a5b",
   "metadata": {},
   "outputs": [],
   "source": [
    "import requests\n",
    "from bs4 import BeautifulSoup\n",
    "url = \"https://www.youtube.com/@PW-Foundation/videos\"\n",
    "response = requests.get(url)\n",
    "soup = BeautifulSoup(response.content, \"html.parser\")\n",
    "videos = soup.find_all(\"a\", class_=\"ytd-video-renderer\")\n",
    "first_five_videos = videos[:5]\n",
    "thumbnail_urls = []\n",
    "for video in first_five_videos:\n",
    "    thumbnail_url = video.find(\"img\")[\"src\"]\n",
    "    thumbnail_urls.append(thumbnail_url)\n",
    "print(thumbnail_urls)\n"
   ]
  },
  {
   "cell_type": "code",
   "execution_count": null,
   "id": "5d9cc319",
   "metadata": {},
   "outputs": [],
   "source": [
    "Q3"
   ]
  },
  {
   "cell_type": "code",
   "execution_count": null,
   "id": "c739bf78",
   "metadata": {},
   "outputs": [],
   "source": [
    "import requests\n",
    "from bs4 import BeautifulSoup\n",
    "url = \"https://www.youtube.com/@PW-Foundation/videos\"\n",
    "response = requests.get(url)\n",
    "soup = BeautifulSoup(response.content, \"html.parser\")\n",
    "videos = soup.find_all(\"a\", class_=\"ytd-video-renderer\")\n",
    "first_five_videos = videos[:5]\n",
    "titles = []\n",
    "for video in first_five_videos:\n",
    "    title = video.find(\"a\").text\n",
    "    titles.append(title)\n",
    "print(titles)\n"
   ]
  },
  {
   "cell_type": "code",
   "execution_count": null,
   "id": "898cb74e",
   "metadata": {},
   "outputs": [],
   "source": [
    "Q4"
   ]
  },
  {
   "cell_type": "code",
   "execution_count": null,
   "id": "dd2bd3a8",
   "metadata": {},
   "outputs": [],
   "source": [
    "import requests\n",
    "from bs4 import BeautifulSoup\n",
    "url = \"https://www.youtube.com/@PW-Foundation/videos\"\n",
    "response = requests.get(url)\n",
    "soup = BeautifulSoup(response.content, \"html.parser\")\n",
    "videos = soup.find_all(\"a\", class_=\"ytd-video-renderer\")\n",
    "first_five_videos = videos[:5]\n",
    "views = []\n",
    "for video in first_five_videos:\n",
    "    views_string = video.find(\"span\", class_=\"view-count\").text\n",
    "    views_number = int(views_string.replace(\",\", \"\"))\n",
    "    views.append(views_number)\n",
    "print(views)\n"
   ]
  },
  {
   "cell_type": "code",
   "execution_count": null,
   "id": "f8be2e95",
   "metadata": {},
   "outputs": [],
   "source": [
    "Q5"
   ]
  },
  {
   "cell_type": "code",
   "execution_count": null,
   "id": "78d31b05",
   "metadata": {},
   "outputs": [],
   "source": [
    "import requests\n",
    "from bs4 import BeautifulSoup\n",
    "import datetime\n",
    "url = \"https://www.youtube.com/@PW-Foundation/videos\"\n",
    "response = requests.get(url)\n",
    "soup = BeautifulSoup(response.content, \"html.parser\")\n",
    "videos = soup.find_all(\"a\", class_=\"ytd-video-renderer\")\n",
    "first_five_videos = videos[:5]\n",
    "publish_dates = []\n",
    "for video in first_five_videos:\n",
    "    publish_date_string = video.find(\"time\", class_=\"video-time\").text\n",
    "    publish_date = datetime.datetime.strptime(publish_date_string, \"%Y-%m-%dT%H:%M:%SZ\")\n",
    "    publish_dates.append(publish_date)\n",
    "print(publish_dates)\n"
   ]
  }
 ],
 "metadata": {
  "kernelspec": {
   "display_name": "Python 3 (ipykernel)",
   "language": "python",
   "name": "python3"
  },
  "language_info": {
   "codemirror_mode": {
    "name": "ipython",
    "version": 3
   },
   "file_extension": ".py",
   "mimetype": "text/x-python",
   "name": "python",
   "nbconvert_exporter": "python",
   "pygments_lexer": "ipython3",
   "version": "3.10.9"
  }
 },
 "nbformat": 4,
 "nbformat_minor": 5
}
