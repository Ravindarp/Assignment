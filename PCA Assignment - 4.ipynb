{
 "cells": [
  {
   "cell_type": "code",
   "execution_count": null,
   "id": "82b6979d",
   "metadata": {},
   "outputs": [],
   "source": [
    "import urllib.request\n",
    "url = 'https://archive.ics.uci.edu/ml/machine-learning-databases/wine/wine.data'\n",
    "wine_data = urllib.request.urlopen(url)\n",
    "Load the dataset into a Pandas dataframe:\n",
    "import urllib.request\n",
    "import pandas as pd\n",
    "from sklearn.preprocessing import StandardScaler, Imputer\n",
    "from sklearn.decomposition import PCA\n",
    "from sklearn.cluster import KMeans\n",
    "import matplotlib.pyplot as plt\n",
    "# Download the wine dataset\n",
    "url = 'https://archive.ics.uci.edu/ml/machine-learning-databases/wine/wine.data'\n",
    "wine_data = urllib.request.urlopen(url)\n",
    "# Load the dataset into a Pandas dataframe\n",
    "wine_df = pd.read_csv(wine_data, header=None)\n",
    "# Split the dataset into features and target variables\n",
    "wine_features = wine_df.iloc[:, :-1]\n",
    "wine_target = wine_df.iloc[:, -1]\n",
    "# Scale the features\n",
    "wine_features = StandardScaler().fit_transform(wine_features)\n",
    "# Impute missing values\n",
    "wine_features = Imputer().fit_transform(wine_features)\n",
    "# Implement PCA on the preprocessed dataset\n",
    "pca = PCA()\n",
    "wine_pca = pca.fit_transform(wine_features)\n",
    "# Determine the optimal number of principal components to retain based on the explained variance ratio\n",
    "explained_variance_ratio = pca.explained_variance_ratio_\n",
    "# Print the explained variance ratio\n",
    "print(explained_variance_ratio)\n",
    "# Visualize the results of PCA using a scatter plot\n",
    "plt.figure(figsize=(10, 6))\n",
    "plt.scatter(wine_pca[:, 0], wine_pca[:, 1], c=wine_target)\n",
    "plt.xlabel('PC1')\n",
    "plt.ylabel('PC2')\n",
    "plt.title('PCA of Wine Dataset')\n",
    "plt.show()\n",
    "# Perform clustering on the PCA-transformed data using K-Means clustering algorithm\n",
    "kmeans = KMeans(n_clusters=3)\n",
    "wine_clusters = kmeans.fit_predict(wine_pca)\n",
    "print(wine_clusters)\n"
   ]
  },
  {
   "cell_type": "code",
   "execution_count": null,
   "id": "07718fd9",
   "metadata": {},
   "outputs": [],
   "source": []
  }
 ],
 "metadata": {
  "kernelspec": {
   "display_name": "Python 3 (ipykernel)",
   "language": "python",
   "name": "python3"
  },
  "language_info": {
   "codemirror_mode": {
    "name": "ipython",
    "version": 3
   },
   "file_extension": ".py",
   "mimetype": "text/x-python",
   "name": "python",
   "nbconvert_exporter": "python",
   "pygments_lexer": "ipython3",
   "version": "3.11.4"
  }
 },
 "nbformat": 4,
 "nbformat_minor": 5
}
