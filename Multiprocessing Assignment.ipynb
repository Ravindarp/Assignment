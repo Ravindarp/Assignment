{
 "cells": [
  {
   "cell_type": "code",
   "execution_count": null,
   "id": "fa0629b7",
   "metadata": {},
   "outputs": [],
   "source": [
    "Q1"
   ]
  },
  {
   "cell_type": "markdown",
   "id": "e3e1ecfd",
   "metadata": {},
   "source": [
    "\n",
    "Multiprocessing in Python is a way to run multiple processes simultaneously. A process is a program in execution. Each process has its own memory space, so they can run independently of each other. This can be useful for tasks that are CPU-intensive or that require a lot of data processing.\n",
    "Here are some of the benefits of using multiprocessing in Python:\n",
    "It can speed up the execution of your code by running multiple tasks at the same time.\n",
    "It can improve the performance of your code by distributing the workload across multiple processors.\n",
    "It can be used to handle tasks that are too large or complex for a single process to handle.\n",
    "It can be used to improve the responsiveness of your code by running tasks in the background."
   ]
  },
  {
   "cell_type": "code",
   "execution_count": null,
   "id": "4827477c",
   "metadata": {},
   "outputs": [],
   "source": [
    "Q2"
   ]
  },
  {
   "cell_type": "markdown",
   "id": "b304df3a",
   "metadata": {},
   "source": [
    "Multiprocessing and multithreading are two approaches to parallel computing. They both involve running multiple tasks at the same time, but they do so in different ways.\n",
    "Multiprocessing involves running multiple processes simultaneously. Each process has its own memory space, so they can run independently of each other. This can be useful for tasks that are CPU-intensive or that require a lot of data processing.\n",
    "Multithreading involves running multiple threads within a single process. Threads share the same memory space, so they must cooperate to avoid conflicts. This can be useful for tasks that involve a lot of I/O or that need to update shared data."
   ]
  },
  {
   "cell_type": "code",
   "execution_count": null,
   "id": "7e9099e9",
   "metadata": {},
   "outputs": [],
   "source": [
    "Q3"
   ]
  },
  {
   "cell_type": "code",
   "execution_count": 1,
   "id": "45f88321",
   "metadata": {},
   "outputs": [
    {
     "name": "stdout",
     "output_type": "stream",
     "text": [
      "1\n"
     ]
    }
   ],
   "source": [
    "import multiprocessing\n",
    "def factorial(n):\n",
    "    if n == 0:\n",
    "        return 1\n",
    "    else:\n",
    "        return n * factorial(n - 1)\n",
    "if __name__ == \"__main__\":\n",
    "    # Create a process\n",
    "    p = multiprocessing.Process(target=factorial, args=(5,))\n",
    "    p.start()\n",
    "    p.join()\n",
    "    print(p.exitcode)\n"
   ]
  },
  {
   "cell_type": "code",
   "execution_count": null,
   "id": "b4ec0f5f",
   "metadata": {},
   "outputs": [],
   "source": [
    "Q4"
   ]
  },
  {
   "cell_type": "markdown",
   "id": "6c550b92",
   "metadata": {},
   "source": [
    "\n",
    "A multiprocessing pool in Python is a tool that allows you to run multiple processes simultaneously. It is a high-level abstraction that makes it easy to distribute tasks across multiple processes.\n",
    "The multiprocessing pool is used to improve the performance of your code by running multiple tasks at the same time. This can be useful for tasks that are CPU-intensive or that require a lot of data processing.\n",
    "Here are some of the benefits of using a multiprocessing pool in Python:\n",
    "It can speed up the execution of your code by running multiple tasks at the same time.\n",
    "It can improve the performance of your code by distributing the workload across multiple processors.\n",
    "It can be used to handle tasks that are too large or complex for a single process to handle."
   ]
  },
  {
   "cell_type": "code",
   "execution_count": null,
   "id": "dcdbe025",
   "metadata": {},
   "outputs": [],
   "source": [
    "Q5"
   ]
  },
  {
   "cell_type": "code",
   "execution_count": null,
   "id": "ae4028a1",
   "metadata": {},
   "outputs": [],
   "source": [
    "import multiprocessing\n",
    "def worker_function(task):\n",
    "    result = task * 2\n",
    "    return result\n",
    "if __name__ == \"__main__\":\n",
    "    num_processes = multiprocessing.cpu_count()  # Use the number of available CPU cores\n",
    "    with multiprocessing.Pool(processes=num_processes) as pool:\n",
    "        tasks = [1, 2, 3, 4, 5]  # List of tasks you want to process\n",
    "        results = pool.map(worker_function, tasks)\n",
    "    print(\"Results:\", results)\n"
   ]
  },
  {
   "cell_type": "code",
   "execution_count": null,
   "id": "a5d970a3",
   "metadata": {},
   "outputs": [],
   "source": [
    "Q6"
   ]
  },
  {
   "cell_type": "code",
   "execution_count": null,
   "id": "da858ffd",
   "metadata": {},
   "outputs": [],
   "source": [
    "import multiprocessing\n",
    "def print_number(number):\n",
    "    print(\"Process\", multiprocessing.current_process().name, \"prints:\", number)\n",
    "if __name__ == \"__main__\":\n",
    "    numbers = [1, 2, 3, 4]\n",
    "    processes = []\n",
    "    for num in numbers:\n",
    "        process = multiprocessing.Process(target=print_number, args=(num,))\n",
    "        processes.append(process)\n",
    "        process.start()\n",
    "    for process in processes:\n",
    "        process.join()\n",
    "\n",
    "    print(\"All processes have finished.\")\n"
   ]
  },
  {
   "cell_type": "code",
   "execution_count": null,
   "id": "21fdcace",
   "metadata": {},
   "outputs": [],
   "source": []
  }
 ],
 "metadata": {
  "kernelspec": {
   "display_name": "Python 3 (ipykernel)",
   "language": "python",
   "name": "python3"
  },
  "language_info": {
   "codemirror_mode": {
    "name": "ipython",
    "version": 3
   },
   "file_extension": ".py",
   "mimetype": "text/x-python",
   "name": "python",
   "nbconvert_exporter": "python",
   "pygments_lexer": "ipython3",
   "version": "3.10.9"
  }
 },
 "nbformat": 4,
 "nbformat_minor": 5
}
