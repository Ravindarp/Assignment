{
 "cells": [
  {
   "cell_type": "code",
   "execution_count": null,
   "id": "e8c5a348",
   "metadata": {},
   "outputs": [],
   "source": [
    "Q1"
   ]
  },
  {
   "cell_type": "markdown",
   "id": "82698fd8",
   "metadata": {},
   "source": [
    "HTTP methods are used to define the type of action that a user wants to perform on a resource. The two most common HTTP methods are GET and POST.\n",
    "\n",
    "GET is used to retrieve a resource. The data that is sent with a GET request is included in the URL. GET requests are typically used to fetch resources, such as web pages, images, and files.\n",
    "POST is used to create or update a resource. The data that is sent with a POST request is not included in the URL. POST requests are typically used to submit forms, upload files, and create new resources."
   ]
  },
  {
   "cell_type": "code",
   "execution_count": null,
   "id": "f190ecea",
   "metadata": {},
   "outputs": [],
   "source": [
    "Q2"
   ]
  },
  {
   "cell_type": "markdown",
   "id": "172b6b90",
   "metadata": {},
   "source": [
    "The request object in Flask is used to access the data that is sent by the client in an HTTP request. It is a very important object in Flask, and it is used in many different ways.\n",
    "The request object has a number of attributes that can be used to access the data that is sent by the client. These attributes include:\n",
    "method: The HTTP method that was used in the request.\n",
    "args: The URL parameters that were passed in the request.\n",
    "form: The data that was submitted in a form.\n",
    "files: The files that were uploaded in a request.\n",
    "headers: The HTTP headers that were sent in the request"
   ]
  },
  {
   "cell_type": "code",
   "execution_count": null,
   "id": "df85de25",
   "metadata": {},
   "outputs": [],
   "source": [
    "Q3"
   ]
  },
  {
   "cell_type": "markdown",
   "id": "af53b614",
   "metadata": {},
   "source": [
    "The redirect() function in Flask is used to redirect the user to a different URL. It is a very useful function that can be used to handle errors, provide feedback to users, and improve the user experience.\n",
    "The redirect() function takes two arguments: the URL that the user should be redirected to and the status code that should be returned. The status code can be used to indicate the reason for the redirect.\n",
    "For example, the following code redirects the user to the /login page with a status code of 302:\n",
    "redirect(\"/login\", 302)"
   ]
  },
  {
   "cell_type": "code",
   "execution_count": null,
   "id": "413406e6",
   "metadata": {},
   "outputs": [],
   "source": [
    "Q4"
   ]
  },
  {
   "cell_type": "markdown",
   "id": "3a13529f",
   "metadata": {},
   "source": [
    "Templates in Flask are used to render dynamic content. They are essentially HTML files that are embedded with Python code. The Python code in the templates is used to dynamically generate the content of the page.\n",
    "The render_template() function is used to render a template. It takes two arguments: the name of the template and the context. The context is a dictionary that contains the data that should be passed to the template.\n",
    "The render_template() function is a very useful function that can be used to render dynamic content in Flask. It is an essential part of Flask, and it is used in many different applications"
   ]
  },
  {
   "cell_type": "code",
   "execution_count": null,
   "id": "3fd99e8c",
   "metadata": {},
   "outputs": [],
   "source": [
    "Q5"
   ]
  },
  {
   "cell_type": "code",
   "execution_count": null,
   "id": "c6aab231",
   "metadata": {},
   "outputs": [],
   "source": [
    "from flask import Flask, request\n",
    "\n",
    "app = Flask(__name__)\n",
    "\n",
    "@app.route(\"/hello\")\n",
    "def hello():\n",
    "  name = request.args.get(\"name\")\n",
    "  if name is None:\n",
    "    name = \"World\"\n",
    "\n",
    "  return f\"Hello, {name}!\"\n",
    "\n",
    "if __name__ == \"__main__\":\n",
    "  app.run(debug=True)\n"
   ]
  },
  {
   "cell_type": "code",
   "execution_count": null,
   "id": "338e0940",
   "metadata": {},
   "outputs": [],
   "source": []
  }
 ],
 "metadata": {
  "kernelspec": {
   "display_name": "Python 3 (ipykernel)",
   "language": "python",
   "name": "python3"
  },
  "language_info": {
   "codemirror_mode": {
    "name": "ipython",
    "version": 3
   },
   "file_extension": ".py",
   "mimetype": "text/x-python",
   "name": "python",
   "nbconvert_exporter": "python",
   "pygments_lexer": "ipython3",
   "version": "3.10.9"
  }
 },
 "nbformat": 4,
 "nbformat_minor": 5
}
