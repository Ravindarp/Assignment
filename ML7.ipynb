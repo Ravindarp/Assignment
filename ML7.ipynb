{
 "cells": [
  {
   "cell_type": "markdown",
   "id": "0bfc2ace",
   "metadata": {},
   "source": [
    "Q1"
   ]
  },
  {
   "cell_type": "markdown",
   "id": "1f03671c",
   "metadata": {},
   "source": [
    "Label encoding simply assigns a unique integer value to each category. This means that the order of the categories is not taken into account. For example, if the gender column has the categories \"Male\" and \"Female\", then label encoding would assign the values 1 and 2 to these categories, respectively. However, it is important to note that the order of these categories does not matter in this case.\n",
    "\n",
    "Ordinal encoding assigns a unique integer value to each category, and it also takes into account the order of the categories. This means that the value assigned to each category is meaningful. For example, if the credit score column has the categories \"Good\", \"Fair\", \"Poor\", and \"Bad\", then ordinal encoding would assign the values 1, 2, 3, and 4 to these categories, respectively. The order of these categories is meaningful, so ordinal encoding is a more appropriate choice for this column than label encoding.\n",
    "\n"
   ]
  },
  {
   "cell_type": "markdown",
   "id": "5dd30c1b",
   "metadata": {},
   "source": [
    "Q2)"
   ]
  },
  {
   "cell_type": "markdown",
   "id": "17578928",
   "metadata": {},
   "source": [
    "Target guided ordinal encoding can be used to improve the performance of machine learning models. This is because it takes into account the order of the categories in the target variable. For example, if we are trying to predict whether a person will default on their loan, it is important to know that people with a \"Good\" credit score are much less likely to default than people with a \"Bad\" credit score. Target guided ordinal encoding can help us to encode the credit score column in a way that reflects this importance."
   ]
  },
  {
   "cell_type": "markdown",
   "id": "25ffbece",
   "metadata": {},
   "source": [
    "Q3)"
   ]
  },
  {
   "cell_type": "markdown",
   "id": "a33fb222",
   "metadata": {},
   "source": [
    "Covariance is a measure of how two variables are related to each other. It is a numerical value that can be positive, negative, or zero. A positive covariance means that the two variables tend to move in the same direction, while a negative covariance means that the two variables tend to move in opposite directions. A zero covariance means that there is no relationship between the two variables.\n"
   ]
  },
  {
   "cell_type": "markdown",
   "id": "f8a08fb1",
   "metadata": {},
   "source": [
    "Q4)\n"
   ]
  },
  {
   "cell_type": "markdown",
   "id": "530faa5e",
   "metadata": {},
   "source": [
    "import numpy as np\n",
    "from sklearn.preprocessing import LabelEncoder\n",
    "color = [\"red\", \"green\", \"blue\"]\n",
    "en=LabelEncoder()\n",
    "tt=en.fit_transform(color)\n",
    "print(tt)"
   ]
  },
  {
   "cell_type": "markdown",
   "id": "69e38209",
   "metadata": {},
   "source": [
    "Q5)"
   ]
  },
  {
   "cell_type": "code",
   "execution_count": 20,
   "id": "6a208de8",
   "metadata": {},
   "outputs": [
    {
     "name": "stdout",
     "output_type": "stream",
     "text": [
      "             Age       Income\n",
      "Age        250.0     250000.0\n",
      "Income  250000.0  250000000.0\n"
     ]
    },
    {
     "name": "stderr",
     "output_type": "stream",
     "text": [
      "C:\\Users\\ravin\\AppData\\Local\\Temp\\ipykernel_14920\\60789291.py:9: FutureWarning: The default value of numeric_only in DataFrame.cov is deprecated. In a future version, it will default to False. Select only valid columns or specify the value of numeric_only to silence this warning.\n",
      "  cv=df.cov()\n"
     ]
    }
   ],
   "source": [
    "import numpy as np\n",
    "import pandas as pd\n",
    "data = {\n",
    "    \"Age\": [20, 30, 40, 50, 60],\n",
    "    \"Income\": [10000, 20000, 30000, 40000, 50000],\n",
    "    \"Education\": [\"High School\", \"College\", \"Graduate School\", \"Postgraduate\", \"Doctorate\"],\n",
    "}\n",
    "df=pd.DataFrame(data)\n",
    "cv=df.cov()\n",
    "print(cv)"
   ]
  },
  {
   "cell_type": "markdown",
   "id": "ca96de9d",
   "metadata": {},
   "source": [
    "Q6)"
   ]
  },
  {
   "cell_type": "markdown",
   "id": "cc3d7b00",
   "metadata": {},
   "source": [
    "For the Gender variable, I would use label encoding\n",
    "For the Education Level variable, I would use ordinal encoding.\n",
    "For the Employment Status variable, I would use one-hot encoding."
   ]
  },
  {
   "cell_type": "markdown",
   "id": "7e6d5388",
   "metadata": {},
   "source": [
    "Q7)"
   ]
  },
  {
   "cell_type": "code",
   "execution_count": 21,
   "id": "59afd31a",
   "metadata": {},
   "outputs": [
    {
     "name": "stdout",
     "output_type": "stream",
     "text": [
      "250.0\n"
     ]
    }
   ],
   "source": [
    "import numpy as np\n",
    "import pandas as pd\n",
    "data = {\n",
    "    \"Temperature\": [20, 30, 40, 50, 60],\n",
    "    \"Humidity\": [50, 60, 70, 80, 90],\n",
    "}\n",
    "df = pd.DataFrame(data)\n",
    "covariance = df[\"Temperature\"].cov(df[\"Humidity\"])\n",
    "print(covariance)\n"
   ]
  },
  {
   "cell_type": "code",
   "execution_count": null,
   "id": "2844161b",
   "metadata": {},
   "outputs": [],
   "source": []
  }
 ],
 "metadata": {
  "kernelspec": {
   "display_name": "Python 3 (ipykernel)",
   "language": "python",
   "name": "python3"
  },
  "language_info": {
   "codemirror_mode": {
    "name": "ipython",
    "version": 3
   },
   "file_extension": ".py",
   "mimetype": "text/x-python",
   "name": "python",
   "nbconvert_exporter": "python",
   "pygments_lexer": "ipython3",
   "version": "3.10.9"
  }
 },
 "nbformat": 4,
 "nbformat_minor": 5
}
