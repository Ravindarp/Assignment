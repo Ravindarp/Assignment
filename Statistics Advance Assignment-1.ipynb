{
 "cells": [
  {
   "cell_type": "code",
   "execution_count": null,
   "id": "7adfa08b",
   "metadata": {},
   "outputs": [],
   "source": [
    "Q1"
   ]
  },
  {
   "cell_type": "markdown",
   "id": "194115f4",
   "metadata": {},
   "source": [
    "A probability density function (PDF) is a function that describes the probability of a continuous random variable taking on a certain value. The PDF is often used to calculate the probability that the random variable will fall within a certain range of values.\n",
    "\n",
    "The PDF is defined as follows:\n",
    "\n",
    "f(x) = P(X <= x) - P(X < x)\n",
    "where:\n",
    "\n",
    "f(x) is the PDF of the random variable X\n",
    "P(X <= x) is the probability that X is less than or equal to x\n",
    "P(X < x) is the probability that X is less than x"
   ]
  },
  {
   "cell_type": "code",
   "execution_count": null,
   "id": "a5530bbd",
   "metadata": {},
   "outputs": [],
   "source": [
    "Q2"
   ]
  },
  {
   "cell_type": "markdown",
   "id": "70697516",
   "metadata": {},
   "source": [
    "There are two main types of probability distributions: discrete and continuous.\n",
    "\n",
    "Discrete probability distributions are those in which the random variable can only take on a finite number of values. For example, the number of heads in 3 coin flips is a discrete random variable, since it can only take on the values 0, 1, 2, or 3.\n",
    "Continuous probability distributions are those in which the random variable can take on any value within a certain range. For example, the height of a person is a continuous random variable, since it can take on any value between the minimum and maximum possible heights.\n",
    "Here are some of the most common types of probability distributions:\n",
    "\n",
    "Bernoulli distribution is a discrete probability distribution that describes the outcome of a single trial of a binomial experiment. The Bernoulli distribution has two possible outcomes, usually called \"success\" and \"failure.\"\n",
    "Binomial distribution is a discrete probability distribution that describes the number of successes in a fixed number of trials of a binomial experiment.\n",
    "Poisson distribution is a discrete probability distribution that describes the number of events that occur in a given time or space interval.\n",
    "Normal distribution is a continuous probability distribution that is bell-shaped and symmetrical. The normal distribution is often used to model data that is naturally occurring, such as human height or IQ scores.\n"
   ]
  },
  {
   "cell_type": "code",
   "execution_count": null,
   "id": "b6146dff",
   "metadata": {},
   "outputs": [],
   "source": [
    "Q3"
   ]
  },
  {
   "cell_type": "code",
   "execution_count": 1,
   "id": "bcb828d2",
   "metadata": {},
   "outputs": [
    {
     "name": "stdout",
     "output_type": "stream",
     "text": [
      "PDF at x = 0.5: 0.3520653267642995\n"
     ]
    }
   ],
   "source": [
    "import math\n",
    "\n",
    "def normal_pdf(x, mean, std_dev):\n",
    "    coefficient = 1 / (std_dev * math.sqrt(2 * math.pi))\n",
    "    exponent = -0.5 * ((x - mean) / std_dev)**2\n",
    "    pdf_value = coefficient * math.exp(exponent)\n",
    "    return pdf_value\n",
    "mean = 0\n",
    "std_dev = 1\n",
    "x = 0.5\n",
    "pdf_value = normal_pdf(x, mean, std_dev)\n",
    "print(f\"PDF at x = {x}: {pdf_value}\")\n"
   ]
  },
  {
   "cell_type": "code",
   "execution_count": null,
   "id": "5bdac376",
   "metadata": {},
   "outputs": [],
   "source": [
    "Q4"
   ]
  },
  {
   "cell_type": "markdown",
   "id": "c7e48b41",
   "metadata": {},
   "source": [
    "\n",
    "\n",
    "The binomial distribution is a discrete probability distribution that describes the number of successes in a fixed number of trials of a binomial experiment. The binomial experiment has the following four properties:\n",
    "\n",
    "The experiment consists of n identical trials.\n",
    "Each trial results in one of two outcomes, called success and failure.\n",
    "The probability of success, denoted p, remains the same from trial to trial.\n",
    "The n trials are independent.\n",
    "Here are two examples of events where the binomial distribution can be applied:\n",
    "\n",
    "The number of heads in 10 coin flips. Each coin flip is a Bernoulli trial, with two possible outcomes (heads or tails). The probability of getting a head on any given flip is 1/2, and the probability of getting a tail is 1/2. The number of heads in 10 coin flips is a binomial random variable.\n",
    "The number of people who pass a test out of 100 people taking the test. Each person taking the test is a Bernoulli trial, with two possible outcomes (pass or fail). The probability of passing the test is p, and the probability of failing is 1 - p. The number of people who pass the test out of 100 people taking the test is a binomial random variable."
   ]
  },
  {
   "cell_type": "code",
   "execution_count": null,
   "id": "2f4f50a9",
   "metadata": {},
   "outputs": [],
   "source": [
    "Q5"
   ]
  },
  {
   "cell_type": "code",
   "execution_count": 7,
   "id": "2b7088a4",
   "metadata": {},
   "outputs": [
    {
     "data": {
      "image/png": "[encoded data removed]",
      "text/plain": [
       "<Figure size 640x480 with 1 Axes>"
      ]
     },
     "metadata": {},
     "output_type": "display_data"
    }
   ],
   "source": [
    "import numpy as np\n",
    "import matplotlib.pyplot as plt\n",
    "data = np.random.binomial(10,0.4,1000)\n",
    "plt.hist(data)\n",
    "plt.xlabel(\"Number of successes\")\n",
    "plt.ylabel(\"Number of trials\")\n",
    "plt.title(\"Binomial distribution with n=10 and p=0.4\")\n",
    "plt.show()\n"
   ]
  },
  {
   "cell_type": "code",
   "execution_count": null,
   "id": "3123d354",
   "metadata": {},
   "outputs": [],
   "source": [
    "Q6"
   ]
  },
  {
   "cell_type": "code",
   "execution_count": 8,
   "id": "3c60e251",
   "metadata": {},
   "outputs": [
    {
     "name": "stdout",
     "output_type": "stream",
     "text": [
      "CDF at k = 2: 0.42319008112684353\n"
     ]
    }
   ],
   "source": [
    "import math\n",
    "\n",
    "def poisson_cdf(k, mean):\n",
    "    cdf_value = 0\n",
    "    for i in range(k + 1):\n",
    "        cdf_value += math.exp(-mean) * (mean ** i) / math.factorial(i)\n",
    "    return cdf_value\n",
    "mean = 3\n",
    "k = 2\n",
    "cdf_value = poisson_cdf(k, mean)\n",
    "print(f\"CDF at k = {k}: {cdf_value}\")\n"
   ]
  },
  {
   "cell_type": "code",
   "execution_count": null,
   "id": "d29ecd55",
   "metadata": {},
   "outputs": [],
   "source": [
    "Q7"
   ]
  },
  {
   "cell_type": "markdown",
   "id": "893559a3",
   "metadata": {},
   "source": [
    "he binomial distribution and the Poisson distribution are both discrete probability distributions that are used to model events with two possible outcomes. However, there are some key differences between the two distributions.\n",
    "\n",
    "The binomial distribution describes the number of successes in a fixed number of trials, while the Poisson distribution describes the number of events that occur in a given time or space interval.\n",
    "\n",
    "The binomial distribution has two parameters: the number of trials, n, and the probability of success, p. The Poisson distribution has only one parameter, the mean, λ.\n",
    "\n",
    "The binomial distribution is a good model for events where the probability of success remains constant from trial to trial. For example, the number of heads in 10 coin flips is a binomial random variable.\n",
    "\n",
    "The Poisson distribution is a good model for events where the average number of events per unit time or space remains constant. For example, the number of phone calls received in a call center per hour is a Poisson random variable."
   ]
  },
  {
   "cell_type": "code",
   "execution_count": null,
   "id": "6e0bb886",
   "metadata": {},
   "outputs": [],
   "source": [
    "Q8"
   ]
  },
  {
   "cell_type": "code",
   "execution_count": 11,
   "id": "c15b3972",
   "metadata": {},
   "outputs": [
    {
     "name": "stdout",
     "output_type": "stream",
     "text": [
      "Sample mean: 4.959\n",
      "Sample variance: 4.701319\n"
     ]
    }
   ],
   "source": [
    "import numpy as np\n",
    "data = np.random.poisson(5, 1000)\n",
    "mean = np.mean(data)\n",
    "variance = np.var(data)\n",
    "\n",
    "print(\"Sample mean:\", mean)\n",
    "print(\"Sample variance:\", variance)\n"
   ]
  },
  {
   "cell_type": "code",
   "execution_count": null,
   "id": "5101f5f0",
   "metadata": {},
   "outputs": [],
   "source": [
    "Q9"
   ]
  },
  {
   "cell_type": "markdown",
   "id": "73220dcf",
   "metadata": {},
   "source": [
    "The mean and variance of a binomial distribution are related in a simple way. The mean is equal to the number of trials, n, multiplied by the probability of success, p. The variance is equal to the number of trials, n, multiplied by the probability of success, p, multiplied by the probability of failure, 1 - p.\n",
    "\n",
    "For example, if we have a binomial distribution with 10 trials and a probability of success of 0.5, then the mean is 10 * 0.5 = 5. The variance is 10 * 0.5 * 0.5 = 2.5.\n",
    "\n",
    "The mean and variance of a Poisson distribution are also related in a simple way. The mean is equal to the parameter, λ. The variance is equal to the parameter, λ.\n",
    "\n",
    "For example, if we have a Poisson distribution with a parameter of 5, then the mean is 5 and the variance is also 5.\n",
    "\n",
    "The reason why the mean and variance are related in this way is because the binomial distribution and the Poisson distribution are both discrete probability distributions that are used to model events with two possible outcomes. In the case of the binomial distribution, the two possible outcomes are success and failure. In the case of the Poisson distribution, the two possible outcomes are occurrence and non-occurrence of an event."
   ]
  },
  {
   "cell_type": "code",
   "execution_count": null,
   "id": "fbda7e9f",
   "metadata": {},
   "outputs": [],
   "source": [
    "Q10"
   ]
  },
  {
   "cell_type": "markdown",
   "id": "8be6eddd",
   "metadata": {},
   "source": [
    "\n",
    "In a normal distribution, the least frequent data points appear in the tails of the distribution, which are the areas furthest away from the mean. The most frequent data points appear in the center of the distribution, which is the area around the mean.\n",
    "\n",
    "This is because the normal distribution is symmetrical, so the data points are evenly distributed on either side of the mean. The tails of the distribution are thinner than the center, so there are fewer data points in these areas.\n",
    "\n",
    "The least frequent data points are often called outliers, and they can be caused by a variety of factors, such as measurement errors or unusual events."
   ]
  }
 ],
 "metadata": {
  "kernelspec": {
   "display_name": "Python 3 (ipykernel)",
   "language": "python",
   "name": "python3"
  },
  "language_info": {
   "codemirror_mode": {
    "name": "ipython",
    "version": 3
   },
   "file_extension": ".py",
   "mimetype": "text/x-python",
   "name": "python",
   "nbconvert_exporter": "python",
   "pygments_lexer": "ipython3",
   "version": "3.9.13"
  }
 },
 "nbformat": 4,
 "nbformat_minor": 5
}
