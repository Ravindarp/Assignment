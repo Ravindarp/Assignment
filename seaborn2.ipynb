{
 "cells": [
  {
   "cell_type": "markdown",
   "id": "ee5a5b38",
   "metadata": {},
   "source": [
    "Question 1"
   ]
  },
  {
   "cell_type": "markdown",
   "id": "453b5fcc",
   "metadata": {},
   "source": [
    "# sns.regplot()-Plot data and a linear regression model fit.\n",
    "# sns.boxplot()-Draw a box plot to show distributions with respect to categories.\n",
    "# sns.catplot()-This function provides access to several axes-level functions thatshow the relationship between a numerical and one or more categoricalvariables using one of several visual representations. The `kind`parameter selects the underlying axes-level function to use\n",
    "# sns.scatterplot()-Draw a scatter plot with possibility of several semantic groupings.\n",
    "# sns.pairplot()-Draw a scatter plot with possibility of several semantic groupings.\n"
   ]
  },
  {
   "cell_type": "markdown",
   "id": "f48c7424",
   "metadata": {},
   "source": [
    "Question 2"
   ]
  },
  {
   "cell_type": "code",
   "execution_count": null,
   "id": "2cfbf0e4",
   "metadata": {},
   "outputs": [],
   "source": [
    "import seaborn as sns\n",
    "fmri=sns.load_dataset(\"fmri\")\n",
    "sns.lineplot(x=fmri.timepoint,y=fmri.signal,data=fmri,style=\"event\",hue=\"region\")\n"
   ]
  },
  {
   "cell_type": "markdown",
   "id": "d567e88d",
   "metadata": {},
   "source": [
    "Question 3"
   ]
  },
  {
   "cell_type": "code",
   "execution_count": null,
   "id": "1edac0a3",
   "metadata": {},
   "outputs": [],
   "source": [
    "import matplotlib.pyplot as plt\n",
    "titanic=sns.load_dataset(\"titanic\")\n",
    "sns.boxplot(x=titanic.pclass,y=titanic.age,data=titanic)\n",
    "plt.show()\n",
    "sns.boxplot(x=titanic.pclass,y=titanic.fare,data=titanic)\n",
    "plt.show()\n"
   ]
  },
  {
   "cell_type": "markdown",
   "id": "532338b2",
   "metadata": {},
   "source": [
    "Question 4"
   ]
  },
  {
   "cell_type": "code",
   "execution_count": null,
   "id": "03030943",
   "metadata": {},
   "outputs": [],
   "source": [
    "diamond=sns.load_dataset('diamonds')\n",
    "sns.histplot(data=diamond,x=diamond.price,hue='cut')\n",
    "plt.show()\n"
   ]
  },
  {
   "cell_type": "markdown",
   "id": "30048d1f",
   "metadata": {},
   "source": [
    "Question 5"
   ]
  },
  {
   "cell_type": "code",
   "execution_count": null,
   "id": "9786207d",
   "metadata": {},
   "outputs": [],
   "source": [
    "iris=sns.load_dataset('iris')\n",
    "sns.pairplot(iris,hue='species')\n",
    "flight=sns.load_dataset('flights')\n",
    "flight.drop(\"month\",inplace=True,axis=1)\n",
    "sns.heatmap(data=flight)\n",
    "plt.show()\n"
   ]
  },
  {
   "cell_type": "code",
   "execution_count": null,
   "id": "2eb2af12",
   "metadata": {},
   "outputs": [],
   "source": []
  }
 ],
 "metadata": {
  "kernelspec": {
   "display_name": "Python 3 (ipykernel)",
   "language": "python",
   "name": "python3"
  },
  "language_info": {
   "codemirror_mode": {
    "name": "ipython",
    "version": 3
   },
   "file_extension": ".py",
   "mimetype": "text/x-python",
   "name": "python",
   "nbconvert_exporter": "python",
   "pygments_lexer": "ipython3",
   "version": "3.9.12"
  }
 },
 "nbformat": 4,
 "nbformat_minor": 5
}
