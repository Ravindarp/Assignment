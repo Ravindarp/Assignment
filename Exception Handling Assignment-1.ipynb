{
 "cells": [
  {
   "cell_type": "code",
   "execution_count": null,
   "id": "d9732486",
   "metadata": {},
   "outputs": [],
   "source": [
    "Q1"
   ]
  },
  {
   "cell_type": "markdown",
   "id": "ffc625c0",
   "metadata": {},
   "source": [
    "An exception in Python is an event that occurs during the execution of a program that disrupts the normal flow of the program's execution. Exceptions can be caused by a variety of things, such as:\n",
    "\n",
    "Trying to divide by zero\n",
    "Accessing a non-existent variable\n",
    "Calling a function with invalid arguments\n",
    "Raising an exception yourself\n",
    "A syntax error is a mistake in the structure of a Python program that prevents it from being compiled or execute"
   ]
  },
  {
   "cell_type": "code",
   "execution_count": null,
   "id": "90ac13e3",
   "metadata": {},
   "outputs": [],
   "source": [
    "Q2 "
   ]
  },
  {
   "cell_type": "code",
   "execution_count": 1,
   "id": "577e9d15",
   "metadata": {},
   "outputs": [
    {
     "name": "stdout",
     "output_type": "stream",
     "text": [
      "You can't divide by zero!\n",
      "None\n"
     ]
    }
   ],
   "source": [
    "#If an exception is not handled, the program will crash. \n",
    "#This means that the program will stop executing and the user will see an error message.\n",
    "def divide_numbers(numerator, denominator):\n",
    "  try:\n",
    "    return numerator / denominator\n",
    "  except ZeroDivisionError:\n",
    "    print(\"You can't divide by zero!\")\n",
    "\n",
    "print(divide_numbers(10, 0))\n"
   ]
  },
  {
   "cell_type": "code",
   "execution_count": null,
   "id": "83d2d1a4",
   "metadata": {},
   "outputs": [],
   "source": [
    "Q3"
   ]
  },
  {
   "cell_type": "code",
   "execution_count": 3,
   "id": "66127394",
   "metadata": {},
   "outputs": [
    {
     "name": "stdout",
     "output_type": "stream",
     "text": [
      "You can't divide by zero!\n",
      "The program is finished!\n"
     ]
    }
   ],
   "source": [
    "#The following Python statements are used to raise and handle exceptions:\n",
    "\n",
    "#try: The try statement is used to execute a block of code that may raise an exception.\n",
    "#except: The except statement is used to handle an exception that is raised in the try block.\n",
    "#else: The else statement is used to execute a block of code if no exception is raised in the try block.\n",
    "#finally: The finally statement is used to execute a block of code regardless of whether or not an exception is raised in the try block.\n",
    "try:\n",
    "  print(10 / 0)\n",
    "except ZeroDivisionError:\n",
    "  print(\"You can't divide by zero!\")\n",
    "else:\n",
    "  print(\"The division was successful!\")\n",
    "finally:\n",
    "  print(\"The program is finished!\")\n"
   ]
  },
  {
   "cell_type": "code",
   "execution_count": null,
   "id": "d393d793",
   "metadata": {},
   "outputs": [],
   "source": [
    "Q4"
   ]
  },
  {
   "cell_type": "code",
   "execution_count": 8,
   "id": "2bd130c5",
   "metadata": {},
   "outputs": [
    {
     "name": "stdout",
     "output_type": "stream",
     "text": [
      "You can't divide by zero!\n",
      "You can't divide by zero!\n",
      "The program is finished!\n",
      "Can't divide by zero!\n"
     ]
    }
   ],
   "source": [
    "try:\n",
    "  print(10 / 0)\n",
    "except ZeroDivisionError:\n",
    "  print(\"You can't divide by zero!\")\n",
    "else:\n",
    "  print(\"The division was successful!\")\n",
    "\n",
    "try:\n",
    "  print(10 / 0)\n",
    "except ZeroDivisionError:\n",
    "  print(\"You can't divide by zero!\")\n",
    "finally:\n",
    "  print(\"The program is finished!\")\n",
    "def divide_numbers(numerator, denominator):\n",
    "  if denominator == 0:\n",
    "    raise ZeroDivisionError(\"Can't divide by zero!\")\n",
    "  return numerator / denominator\n",
    "\n",
    "try:\n",
    "  print(divide_numbers(10, 0))\n",
    "except ZeroDivisionError as e:\n",
    "  print(e)\n"
   ]
  },
  {
   "cell_type": "code",
   "execution_count": null,
   "id": "14831771",
   "metadata": {},
   "outputs": [],
   "source": [
    "Q5"
   ]
  },
  {
   "cell_type": "code",
   "execution_count": 9,
   "id": "b1e5540c",
   "metadata": {},
   "outputs": [
    {
     "name": "stdout",
     "output_type": "stream",
     "text": [
      "Enter your age: 4\n",
      "You must be at least 18 years old.\n"
     ]
    }
   ],
   "source": [
    "#Custom exceptions in Python are user-defined exceptions that are created by programmers.\n",
    "class InvalidDataError(Exception):\n",
    "  def __init__(self, message):\n",
    "    super().__init__(message)\n",
    "\n",
    "try:\n",
    "  age = int(input(\"Enter your age: \"))\n",
    "  if age < 18:\n",
    "    raise InvalidDataError(\"You must be at least 18 years old.\")\n",
    "except InvalidDataError as e:\n",
    "  print(e)\n"
   ]
  },
  {
   "cell_type": "code",
   "execution_count": null,
   "id": "95b041bd",
   "metadata": {},
   "outputs": [],
   "source": [
    "Q6"
   ]
  },
  {
   "cell_type": "code",
   "execution_count": 11,
   "id": "516916fc",
   "metadata": {},
   "outputs": [
    {
     "name": "stdout",
     "output_type": "stream",
     "text": [
      "Enter a number: 18\n"
     ]
    }
   ],
   "source": [
    "class InvalidInputError(Exception):\n",
    "  def __init__(self, message):\n",
    "    super().__init__(message)\n",
    "\n",
    "try:\n",
    "  number = input(\"Enter a number: \")\n",
    "  if not number.isdigit():\n",
    "    raise InvalidInputError(\"Please enter a valid number.\")\n",
    "except InvalidInputError as e:\n",
    "  print(e)\n"
   ]
  },
  {
   "cell_type": "code",
   "execution_count": null,
   "id": "7b25b94c",
   "metadata": {},
   "outputs": [],
   "source": []
  }
 ],
 "metadata": {
  "kernelspec": {
   "display_name": "Python 3 (ipykernel)",
   "language": "python",
   "name": "python3"
  },
  "language_info": {
   "codemirror_mode": {
    "name": "ipython",
    "version": 3
   },
   "file_extension": ".py",
   "mimetype": "text/x-python",
   "name": "python",
   "nbconvert_exporter": "python",
   "pygments_lexer": "ipython3",
   "version": "3.10.9"
  }
 },
 "nbformat": 4,
 "nbformat_minor": 5
}
