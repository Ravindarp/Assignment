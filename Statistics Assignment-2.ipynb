{
 "cells": [
  {
   "cell_type": "code",
   "execution_count": null,
   "id": "8a188700",
   "metadata": {},
   "outputs": [],
   "source": [
    "Q1"
   ]
  },
  {
   "cell_type": "markdown",
   "id": "7015aa09",
   "metadata": {},
   "source": [
    "The three most common measures of central tendency are the mean, median, and mode.\n",
    "Mean is the average of all the values in a data set. It is calculated by adding up all the values and then dividing by the number of values.\n",
    "Median is the middle value in a data set that has been ordered from least to greatest. If there is an even number of values, the median is the average of the two middle values.\n",
    "Mode is the most frequent value in a data set.\n"
   ]
  },
  {
   "cell_type": "code",
   "execution_count": null,
   "id": "83f8e48b",
   "metadata": {},
   "outputs": [],
   "source": [
    "Q2"
   ]
  },
  {
   "cell_type": "markdown",
   "id": "428a7eab",
   "metadata": {},
   "source": [
    "Mean is the average of all the values in a data set. It is calculated by adding up all the values and then dividing by the number of values.\n",
    "Median is the middle value in a data set that has been ordered from least to greatest. If there is an even number of values, the median is the average of the two middle values.\n",
    "Mode is the most frequent value in a data set."
   ]
  },
  {
   "cell_type": "code",
   "execution_count": null,
   "id": "5370a690",
   "metadata": {},
   "outputs": [],
   "source": [
    "Q3"
   ]
  },
  {
   "cell_type": "markdown",
   "id": "3dfcf28b",
   "metadata": {},
   "source": [
    "Mean: 177.01\n",
    "Median: 177\n",
    "Mode: 177"
   ]
  },
  {
   "cell_type": "code",
   "execution_count": null,
   "id": "88b2d03d",
   "metadata": {},
   "outputs": [],
   "source": [
    "Q4"
   ]
  },
  {
   "cell_type": "markdown",
   "id": "e037849d",
   "metadata": {},
   "source": [
    " standard deviation for the given data is 1.65687.\n",
    "\n"
   ]
  },
  {
   "cell_type": "code",
   "execution_count": null,
   "id": "dac0f5bc",
   "metadata": {},
   "outputs": [],
   "source": [
    "Q5"
   ]
  },
  {
   "cell_type": "markdown",
   "id": "19a1889a",
   "metadata": {},
   "source": [
    "Range: The range is the simplest measure of dispersion. It is the difference between the largest and smallest values in the data set. For example, if the data set is {1, 3, 5, 7, 9}, the range is 8 (9 - 1).\n",
    "Variance: The variance is a more sophisticated measure of dispersion. It measures how far each data point is from the mean of the data set. The variance is calculated by squaring the difference between each data point and the mean, and then averaging those squared differences. For example, if the mean of the data set {1, 3, 5, 7, 9} is 5, the variance is 6.25 (1^2 + 2^2 + 0^2 + 2^2 + 4^2) / 5.\n",
    "Standard deviation: The standard deviation is the square root of the variance. It is a more interpretable measure of dispersion than the variance because it is in the same units as the data points. For example, the standard deviation of the data set {1, 3, 5, 7, 9} is 2.5.\n"
   ]
  },
  {
   "cell_type": "code",
   "execution_count": null,
   "id": "7550fd15",
   "metadata": {},
   "outputs": [],
   "source": [
    "Q6"
   ]
  },
  {
   "cell_type": "markdown",
   "id": "67b09452",
   "metadata": {},
   "source": [
    "A Venn diagram is a diagram that uses overlapping circles to show the logical relationships between sets\n",
    "Venn diagrams can be used to represent a variety of set relationships, including:\n",
    "\n",
    "Union: The union of two sets is the collection of elements that are in either set or in both sets.\n",
    "Intersection: The intersection of two sets is the collection of elements that are in both sets.\n",
    "Difference: The difference of two sets is the collection of elements that are in the first set but not in the second set.\n",
    "Complement: The complement of a set is the collection of elements that are not in the set"
   ]
  },
  {
   "cell_type": "code",
   "execution_count": null,
   "id": "efafe7ab",
   "metadata": {},
   "outputs": [],
   "source": [
    "Q7"
   ]
  },
  {
   "cell_type": "markdown",
   "id": "4ddc8d5d",
   "metadata": {},
   "source": [
    "A ∩ B = {2, 6}\n",
    "A ∪ B = {0, 2, 3, 4, 5, 6, 7, 8, 10}"
   ]
  },
  {
   "cell_type": "code",
   "execution_count": null,
   "id": "f7a91e84",
   "metadata": {},
   "outputs": [],
   "source": [
    "Q8"
   ]
  },
  {
   "cell_type": "markdown",
   "id": "ab7c599d",
   "metadata": {},
   "source": [
    "Skewness is a measure of the asymmetry of a distribution. A distribution is said to be skewed if it is not symmetrical around its mean.\n",
    "\n",
    "There are two types of skewness:\n",
    "\n",
    "Positive skewness: This occurs when the tail of the distribution is longer on the right side of the mean. This means that there are more data points on the right side of the mean than on the left side.\n",
    "Negative skewness: This occurs when the tail of the distribution is longer on the left side of the mean. This means that there are more data points on the left side of the mean than on the right side.\n"
   ]
  },
  {
   "cell_type": "code",
   "execution_count": null,
   "id": "9ff2fd52",
   "metadata": {},
   "outputs": [],
   "source": [
    "Q9"
   ]
  },
  {
   "cell_type": "markdown",
   "id": "07606dca",
   "metadata": {},
   "source": [
    "In a right skewed distribution, the mean is greater than the median. This is because the tail of the distribution is longer on the right side, which means that there are more data points with larger values than with smaller values. The mean is pulled towards the larger values, while the median is not affected as much by the outliers.\n"
   ]
  },
  {
   "cell_type": "code",
   "execution_count": null,
   "id": "749a5826",
   "metadata": {},
   "outputs": [],
   "source": [
    "Q10"
   ]
  },
  {
   "cell_type": "markdown",
   "id": "392f7aa7",
   "metadata": {},
   "source": [
    "Covariance and correlation are both measures of the relationship between two variables. However, they have different interpretations and are used in different ways.\n",
    "\n",
    "Covariance measures the extent to which two variables vary together. A positive covariance indicates that the variables tend to move in the same direction, while a negative covariance indicates that they tend to move in opposite directions. The magnitude of the covariance indicates the strength of the relationship.\n",
    "Correlation is a scaled version of covariance that takes into account the standard deviations of the two variables. This means that correlation is not affected by the units of measurement of the variables. A correlation of 1 indicates a perfect positive linear relationship, a correlation of -1 indicates a perfect negative linear relationship, and a correlation of 0 indicates no linear relationship.\n"
   ]
  },
  {
   "cell_type": "code",
   "execution_count": null,
   "id": "80f4b354",
   "metadata": {},
   "outputs": [],
   "source": [
    "Q11"
   ]
  },
  {
   "cell_type": "markdown",
   "id": "60cb5298",
   "metadata": {},
   "source": [
    "x̄ = (∑x)/n\n",
    "where:\n",
    "\n",
    "x̄ is the sample mean\n",
    "∑x is the sum of all the values in the sample\n",
    "n is the number of values in the sample\n",
    "For example, let's say we have a sample of 5 numbers: 2, 4, 6, 8, and 10. The sum of these numbers is 30, and the number of values is 5. So, the sample mean is:\n",
    "\n",
    "x̄ = (∑x)/n = 30/5 = 6\n"
   ]
  },
  {
   "cell_type": "code",
   "execution_count": null,
   "id": "8d0742f6",
   "metadata": {},
   "outputs": [],
   "source": [
    "Q12"
   ]
  },
  {
   "cell_type": "markdown",
   "id": "75789fec",
   "metadata": {},
   "source": [
    "In a normal distribution, the mean, median, and mode are all equal. This means that the center of the distribution is the same as the most frequent value and the middle value.\n",
    "\n",
    "This is because a normal distribution is symmetrical, which means that the data is evenly distributed on either side of the mean. This symmetry means that the median and mode are also equal to the mean.\n",
    "\n"
   ]
  },
  {
   "cell_type": "code",
   "execution_count": null,
   "id": "3e571c02",
   "metadata": {},
   "outputs": [],
   "source": [
    "Q13"
   ]
  },
  {
   "cell_type": "markdown",
   "id": "3ecd9f20",
   "metadata": {},
   "source": [
    "ovariance and correlation are both measures of the relationship between two variables. However, they have different interpretations and are used in different ways.\n",
    "\n",
    "Covariance measures the extent to which two variables vary together. A positive covariance indicates that the variables tend to move in the same direction, while a negative covariance indicates that they tend to move in opposite directions. The magnitude of the covariance indicates the strength of the relationship.\n",
    "Correlation is a scaled version of covariance that takes into account the standard deviations of the two variables. This means that correlation is not affected by the units of measurement of the variables. A correlation of 1 indicates a perfect positive linear relationship, a correlation of -1 indicates a perfect negative linear relationship, and a correlation of 0 indicates no linear relationship."
   ]
  },
  {
   "cell_type": "code",
   "execution_count": null,
   "id": "9425e62b",
   "metadata": {},
   "outputs": [],
   "source": [
    "Q14"
   ]
  },
  {
   "cell_type": "markdown",
   "id": "3aa74cdd",
   "metadata": {},
   "source": [
    "Outliers are data points that are significantly different from the rest of the data. They can affect measures of central tendency and dispersion in a number of ways.\n",
    "\n",
    "Mean: The mean is sensitive to outliers. If an outlier is present, the mean will be pulled towards the outlier. This can make the mean a misleading measure of central tendency. For example, if you have a set of data with 99 numbers that are all 10, and one number that is 1000, the mean will be 51. This is not a good representation of the data, as the vast majority of the numbers are much closer to 10 than 51.\n",
    "\n",
    "Median: The median is not as sensitive to outliers as the mean. This is because the median is the middle value in the data, and outliers will not affect the middle value unless there are an odd number of outliers. For example, in the previous example, the median would still be 10, even though there is an outlier present.\n",
    "\n",
    "Mode: The mode is the most frequent value in the data. Outliers will not affect the mode, as the mode is only concerned with the most frequent value. In the previous example, the mode would still be 10, even though there is an outlier present"
   ]
  }
 ],
 "metadata": {
  "kernelspec": {
   "display_name": "Python 3 (ipykernel)",
   "language": "python",
   "name": "python3"
  },
  "language_info": {
   "codemirror_mode": {
    "name": "ipython",
    "version": 3
   },
   "file_extension": ".py",
   "mimetype": "text/x-python",
   "name": "python",
   "nbconvert_exporter": "python",
   "pygments_lexer": "ipython3",
   "version": "3.10.9"
  }
 },
 "nbformat": 4,
 "nbformat_minor": 5
}
