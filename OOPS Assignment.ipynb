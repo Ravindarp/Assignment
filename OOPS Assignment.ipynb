{
 "cells": [
  {
   "cell_type": "code",
   "execution_count": null,
   "id": "9cc502c4",
   "metadata": {},
   "outputs": [],
   "source": [
    "Q1"
   ]
  },
  {
   "cell_type": "markdown",
   "id": "5423500a",
   "metadata": {},
   "source": [
    "In object-oriented programming (OOP), a class is a blueprint for creating objects. It defines the properties and behaviors of the objects that are created from it. An object is an instance of a class. It has the properties and behaviors defined by its class.\n",
    "For example, a class called Dog could define the properties name, breed, and age. It could also define the behaviors bark(), wagTail(), and eat(). An object created from the Dog class would have all of these properties and behaviors.\n",
    "Here is another example. A class called Car could define the properties make, model, and year. It could also define the behaviors drive(), stop(), and turn(). An object created from the Car class would have all of these properties and behaviors.\n",
    "Classes and objects are the two main building blocks of object-oriented programming. They allow programmers to create reusable code that can be easily modified and extended"
   ]
  },
  {
   "cell_type": "code",
   "execution_count": null,
   "id": "6e437dde",
   "metadata": {},
   "outputs": [],
   "source": [
    "Q2"
   ]
  },
  {
   "cell_type": "markdown",
   "id": "177616f6",
   "metadata": {},
   "source": [
    "Abstraction: Abstraction is the process of hiding the unnecessary details of an object and only showing the essential details. This makes the code more readable and maintainable. For example, a car object might have an engine, wheels, and doors, but the user of the car object does not need to know how the engine works or how the doors open.\n",
    "Encapsulation: Encapsulation is the bundling of data and methods into a single unit called an object. This makes the code more secure and prevents unauthorized access to data. For example, the car object might have a method called drive(). This method is encapsulated within the car object, so only the car object can call it.\n",
    "Inheritance: Inheritance is the ability of a new object (child object) to inherit the properties and methods of an existing object (parent object). This makes the code more reusable and efficient. For example, a sports car object might inherit from a car object. This means that the sports car object will have all the properties and methods of a car object, plus any additional properties and methods that are specific to sports cars.\n",
    "Polymorphism: Polymorphism is the ability of an object to take on multiple forms. This is achieved through the use of abstract classes and interfaces. For example, an animal object might be an abstract class. This means that it cannot be instantiated directly. However, it can be used to create concrete classes such as a dog object and a cat object. These concrete classes can have different implementations of the same methods, which is polymorphism."
   ]
  },
  {
   "cell_type": "code",
   "execution_count": null,
   "id": "c99aa4e0",
   "metadata": {},
   "outputs": [],
   "source": [
    "Q3"
   ]
  },
  {
   "cell_type": "code",
   "execution_count": 6,
   "id": "a479f0cd",
   "metadata": {},
   "outputs": [],
   "source": [
    "#The __init__() function is a special function in Python that is used to initialize an object's attributes. It is called automatically when an object is created. The __init__() function can be used to set the initial values of the object's attributes, or to perform any other necessary initialization tasks.\n",
    "#For example, the following code defines a class called Car:\n",
    "class Car:\n",
    "    def __init__(self, make, model, year):\n",
    "        self.make = make\n",
    "        self.model = model\n",
    "        self.year = year\n",
    "\n",
    "    def drive(self):\n",
    "        print(\"The car is driving\")\n",
    "my_car = Car(\"Toyota\", \"Corolla\", 2023)\n"
   ]
  },
  {
   "cell_type": "code",
   "execution_count": null,
   "id": "02f96f4c",
   "metadata": {},
   "outputs": [],
   "source": [
    "Q4"
   ]
  },
  {
   "cell_type": "code",
   "execution_count": 4,
   "id": "e57e8eb2",
   "metadata": {},
   "outputs": [
    {
     "name": "stdout",
     "output_type": "stream",
     "text": [
      "The car is driving\n"
     ]
    }
   ],
   "source": [
    "#The self keyword is used in object-oriented programming (OOP) to refer to the current instance of the class. It is used in methods to access the attributes and methods of the class.\n",
    "#In Python, methods are functions that are defined within a class. When a method is called, the first argument is always the current instance of the class. This argument is called self.\n",
    "#For example, the following code defines a class called Car:\n",
    "class Car:\n",
    "    def __init__(self, make, model, year):\n",
    "        self.make = make\n",
    "        self.model = model\n",
    "        self.year = year\n",
    "\n",
    "    def drive(self):\n",
    "        print(\"The car is driving\")\n",
    "my_car = Car(\"Toyota\", \"Corolla\", 2023)\n",
    "my_car.drive()\n"
   ]
  },
  {
   "cell_type": "code",
   "execution_count": null,
   "id": "c107e13c",
   "metadata": {},
   "outputs": [],
   "source": [
    "Q5"
   ]
  },
  {
   "cell_type": "markdown",
   "id": "b7d8ec42",
   "metadata": {},
   "source": [
    "Inheritance is a mechanism in object-oriented programming (OOP) that allows a new class (called the derived class or child class) to inherit the properties and methods of an existing class (called the base class or parent class). This means that the derived class can reuse the code of the base class, which makes it possible to write more concise and efficient code.\n",
    "There are four main types of inheritance:\n",
    "Single inheritance: A derived class can inherit from only one base class. For example, a Dog class can inherit from a Mammal class.\n",
    "Multiple inheritance: A derived class can inherit from multiple base classes. For example, a Bird class can inherit from a Animal class and a Flying class.\n",
    "Multilevel inheritance: A derived class can inherit from another derived class. For example, a Poodle class can inherit from a Dog class, which inherits from a Mammal class.\n",
    "Hierarchical inheritance: A group of classes is arranged in a hierarchy, where each class inherits from the class above it. For example, a Dog class can inherit from a Mammal class, which inherits from an Animal class."
   ]
  }
 ],
 "metadata": {
  "kernelspec": {
   "display_name": "Python 3 (ipykernel)",
   "language": "python",
   "name": "python3"
  },
  "language_info": {
   "codemirror_mode": {
    "name": "ipython",
    "version": 3
   },
   "file_extension": ".py",
   "mimetype": "text/x-python",
   "name": "python",
   "nbconvert_exporter": "python",
   "pygments_lexer": "ipython3",
   "version": "3.10.9"
  }
 },
 "nbformat": 4,
 "nbformat_minor": 5
}
