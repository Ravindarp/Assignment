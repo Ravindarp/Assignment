{
 "cells": [
  {
   "cell_type": "code",
   "execution_count": null,
   "id": "0f83eeb9",
   "metadata": {},
   "outputs": [],
   "source": [
    "Q1"
   ]
  },
  {
   "cell_type": "markdown",
   "id": "5e3798e3",
   "metadata": {},
   "source": [
    "MongoDB is a document-oriented NoSQL database. NoSQL databases are a type of database that does not follow the traditional relational database model. Relational databases store data in tables, where each row represents a record and each column represents a field. NoSQL databases, on the other hand, store data in different ways, such as in documents, key-value pairs, or graphs.\n",
    "MongoDB stores data in documents, which are similar to JSON objects. Each document can have a different structure, and the documents can be nested. This makes MongoDB very flexible and scalable, and it is well-suited for storing large amounts of unstructured data.\n",
    "Here are some of the benefits of using MongoDB:\n",
    "Flexible data model: MongoDB's document-oriented data model makes it easy to store and query data of different types and structures.\n",
    "Scalable: MongoDB is a horizontally scalable database, which means that it can be easily scaled by adding more servers.\n",
    "Fast: MongoDB is a very fast database, and it can handle a high volume of queries.\n",
    "Durable: MongoDB is a durable database, and it can withstand failures without losing data.\n",
    "Here are some of the scenarios where MongoDB is preferred over SQL databases:\n",
    "\n",
    "Storing large amounts of unstructured data: MongoDB is well-suited for storing large amounts of data that does not have a fixed schema, such as social media data, sensor data, and e-commerce data.\n",
    "Real-time applications: MongoDB is a good choice for real-time applications that need to process a high volume of data quickly.\n",
    "Applications that need to be scalable: MongoDB is a horizontally scalable database, which makes it a good choice for applications that need to be able to handle a growing amount of data.\n",
    "Applications that need to be durable: MongoDB is a durable database, which makes it a good choice for applications that need to be able to withstand failures without losing data."
   ]
  },
  {
   "cell_type": "code",
   "execution_count": null,
   "id": "0ce8408b",
   "metadata": {},
   "outputs": [],
   "source": [
    "Q2"
   ]
  },
  {
   "cell_type": "markdown",
   "id": "3ff4bf98",
   "metadata": {},
   "source": [
    "Document-oriented data model: MongoDB stores data in documents, which are similar to JSON objects. This makes it easy to store and query data of different types and structures.\n",
    "Flexible schema: MongoDB does not require a fixed schema, so you can add new fields to documents without having to change the database schema.\n",
    "Scalability: MongoDB is a horizontally scalable database, which means that it can be easily scaled by adding more servers.\n",
    "Performance: MongoDB is a very fast database, and it can handle a high volume of queries.\n",
    "Durability: MongoDB is a durable database, and it can withstand failures without losing data.\n",
    "Replication: MongoDB supports replication, which means that the data can be stored on multiple servers for redundancy and disaster recovery.\n",
    "Security: MongoDB supports a variety of security features, such as authentication, authorization, and encryption.\n",
    "Query language: MongoDB supports a powerful query language called MongoDB Query Language (MQL). MQL is similar to SQL, but it has been extended to support the document-oriented data model.\n",
    "Tools and libraries: There are a number of tools "
   ]
  },
  {
   "cell_type": "code",
   "execution_count": null,
   "id": "dc59e104",
   "metadata": {},
   "outputs": [],
   "source": [
    "Q3"
   ]
  },
  {
   "cell_type": "code",
   "execution_count": null,
   "id": "7d886d46",
   "metadata": {},
   "outputs": [],
   "source": [
    "import pymongo\n",
    "mongo_host = \"localhost\"  # MongoDB host\n",
    "mongo_port = 27017       # MongoDB port\n",
    "client = pymongo.MongoClient(mongo_host, mongo_port)\n",
    "database_name = \"mydatabase\"\n",
    "db = client[database_name]\n",
    "collection_name = \"mycollection\"\n",
    "collection = db[collection_name]\n",
    "data = {\n",
    "    \"name\": \"John Doe\",\n",
    "    \"age\": 30,\n",
    "    \"email\": \"john@example.com\"\n",
    "}\n",
    "insert_result = collection.insert_one(data)\n",
    "print(\"Inserted ID:\", insert_result.inserted_id)\n",
    "client.close()\n",
    "\n"
   ]
  },
  {
   "cell_type": "code",
   "execution_count": null,
   "id": "1eff7f87",
   "metadata": {},
   "outputs": [],
   "source": [
    "Q4"
   ]
  },
  {
   "cell_type": "code",
   "execution_count": null,
   "id": "33300ab4",
   "metadata": {},
   "outputs": [],
   "source": [
    "import pymongo\n",
    "client = pymongo.MongoClient(\"mongodb://localhost:27017\")\n",
    "db = client[\"my_database\"]\n",
    "collection = db[\"my_collection\"]\n",
    "record = {\"name\": \"John Doe\", \"age\": 30}\n",
    "collection.insert_one(record)\n",
    "records = [{\"name\": \"Jane Doe\", \"age\": 25}, {\"name\": \"Peter Smith\", \"age\": 40}]\n",
    "collection.insert_many(records)\n",
    "all_records = collection.find()\n",
    "for record in all_records:\n",
    "    print(record)\n",
    "one_record = collection.find_one()\n",
    "print(one_record)\n"
   ]
  },
  {
   "cell_type": "code",
   "execution_count": null,
   "id": "b87b4c12",
   "metadata": {},
   "outputs": [],
   "source": [
    "Q5"
   ]
  },
  {
   "cell_type": "code",
   "execution_count": null,
   "id": "41160ca0",
   "metadata": {},
   "outputs": [],
   "source": [
    "The find() method in MongoDB is used to query a collection and retrieve documents that match certain criteria. It allows you to specify filters and conditions to retrieve documents that satisfy those conditions. The find() method returns a cursor, which you can iterate over to access the retrieved documents.\n",
    "import pymongo\n",
    "mongo_host = \"localhost\"  \n",
    "mongo_port = 27017       t\n",
    "client = pymongo.MongoClient(mongo_host, mongo_port)\n",
    "database_name = \"mydatabase\"\n",
    "db = client[database_name]\n",
    "collection_name = \"mycollection\"\n",
    "collection = db[collection_name]\n",
    "query = {\"age\": {\"$gt\": 25}}  \n",
    "cursor = collection.find(query)\n",
    "for document in cursor:\n",
    "    print(document)\n",
    "client.close()\n"
   ]
  },
  {
   "cell_type": "code",
   "execution_count": null,
   "id": "dd37dd04",
   "metadata": {},
   "outputs": [],
   "source": [
    "Q6"
   ]
  },
  {
   "cell_type": "code",
   "execution_count": null,
   "id": "11181746",
   "metadata": {},
   "outputs": [],
   "source": [
    "The sort() method is used to sort the documents returned by a query. The sort() method takes an array as an argument, where each element of the array is a sort criterion.\n",
    "\n",
    "A sort criterion is a document that specifies the field to sort by and the sort order. The sort order can be ascending (1) or descending (-1).\n",
    "import pymongo\n",
    "client = pymongo.MongoClient(\"mongodb://localhost:27017\")\n",
    "db = client[\"my_database\"]\n",
    "collection = db[\"my_collection\"]\n",
    "cursor = collection.find().sort(\"name\", 1)\n",
    "for document in cursor:\n",
    "    print(document)\n"
   ]
  },
  {
   "cell_type": "code",
   "execution_count": null,
   "id": "10e3bebc",
   "metadata": {},
   "outputs": [],
   "source": [
    "Q7"
   ]
  },
  {
   "cell_type": "code",
   "execution_count": null,
   "id": "cddbad65",
   "metadata": {},
   "outputs": [],
   "source": [
    "The delete_one() method deletes a single document from the collection that matches the specified query criteria. The query criteria can be specified using a variety of operators, such as equality, inequality, and range queries.\n",
    "\n",
    "The delete_many() method deletes multiple documents from the collection that match the specified query criteria.\n",
    "\n",
    "The drop() method deletes the entire collection\n",
    "result = collection.delete_one({\"age\": 30})\n",
    "print(\"Deleted count:\", result.deleted_count)\n",
    "result = collection.delete_many({\"age\": {\"$lt\": 25}})\n",
    "print(\"Deleted count:\", result.deleted_count)\n",
    "collection.drop()\n"
   ]
  }
 ],
 "metadata": {
  "kernelspec": {
   "display_name": "Python 3 (ipykernel)",
   "language": "python",
   "name": "python3"
  },
  "language_info": {
   "codemirror_mode": {
    "name": "ipython",
    "version": 3
   },
   "file_extension": ".py",
   "mimetype": "text/x-python",
   "name": "python",
   "nbconvert_exporter": "python",
   "pygments_lexer": "ipython3",
   "version": "3.9.12"
  }
 },
 "nbformat": 4,
 "nbformat_minor": 5
}
