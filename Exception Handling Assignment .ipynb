{
 "cells": [
  {
   "cell_type": "code",
   "execution_count": null,
   "id": "e7367ec8",
   "metadata": {},
   "outputs": [],
   "source": [
    "Q1"
   ]
  },
  {
   "cell_type": "markdown",
   "id": "00aef960",
   "metadata": {},
   "source": [
    "Creating custom exceptions by subclassing the built-in Exception class or one of its subclasses (e.g., ValueError, TypeError, etc.) is a common practice in Python for several reasons:\n",
    "Clarity and Readability: Using custom exceptions helps make your code more readable and self-explanatory. When you raise a custom exception, it provides a clear indication of what went wrong in your code, making it easier for developers to understand and debug issues.\n",
    "Organization: Grouping related exceptions under custom exception classes allows you to organize and categorize errors. This can be especially helpful in larger codebases where you want to distinguish between different types of errors or handle them differently.\n",
    "Extensibility: Custom exceptions can be extended and customized to carry additional information about the error. You can add attributes or methods to your custom exception classes to provide more context about the error, making it easier to diagnose and handle.\n",
    "Hierarchical Exception Handling: By subclassing existing exception classes, you can create a hierarchy of exceptions. For example, you might create a custom exception that inherits from ValueError if your error is related to invalid input values. This allows you to catch and handle exceptions at different levels of specificity, providing more fine-grained control over error handling."
   ]
  },
  {
   "cell_type": "code",
   "execution_count": null,
   "id": "f08c02ac",
   "metadata": {},
   "outputs": [],
   "source": [
    "Q2"
   ]
  },
  {
   "cell_type": "code",
   "execution_count": 1,
   "id": "143807e8",
   "metadata": {},
   "outputs": [
    {
     "name": "stdout",
     "output_type": "stream",
     "text": [
      "Python Exception Hierarchy:\n",
      "BaseException\n"
     ]
    }
   ],
   "source": [
    "import pydoc\n",
    "base_exception = BaseException\n",
    "exception_hierarchy = {}\n",
    "while base_exception is not None:\n",
    "    exception_hierarchy[base_exception.__name__] = [exception.__name__ for exception in base_exception.__subclasses__()]\n",
    "    base_exception = base_exception.__base__\n",
    "def print_exception_hierarchy(exception_name, indent=0):\n",
    "    if exception_name in exception_hierarchy:\n",
    "        subclasses = exception_hierarchy[exception_name]\n",
    "        print(\" \" * indent + exception_name)\n",
    "        for subclass in subclasses:\n",
    "            print_exception_hierarchy(subclass, indent + 2)\n",
    "print(\"Python Exception Hierarchy:\")\n",
    "print_exception_hierarchy(\"BaseException\")\n"
   ]
  },
  {
   "cell_type": "code",
   "execution_count": null,
   "id": "6a1e9817",
   "metadata": {},
   "outputs": [],
   "source": [
    "Q3"
   ]
  },
  {
   "cell_type": "code",
   "execution_count": 3,
   "id": "af3f8963",
   "metadata": {},
   "outputs": [
    {
     "name": "stdout",
     "output_type": "stream",
     "text": [
      "Error: division by zero\n"
     ]
    }
   ],
   "source": [
    "#The ArithmeticError class in Python is a base class for exceptions that are raised for various arithmetic errors. It serves as a superclass for more specific arithmetic-related exception classes. Two commonly encountered exceptions that are derived from ArithmeticError are ZeroDivisionError and OverflowError. Let's explain these two errors with examples:\n",
    "#ZeroDivisionError:\n",
    "#ZeroDivisionError is raised when you attempt to divide a number by zero.\n",
    "#This exception occurs when performing operations like division or modulo when the denominator is zero.\n",
    "#Example:\n",
    "try:\n",
    "    result = 5 / 0  # Attempting to divide by zero\n",
    "except ZeroDivisionError as e:\n",
    "    print(f\"Error: {e}\")\n",
    "#2)\n",
    "#overflowError:\n",
    "\n",
    "#OverflowError is raised when an arithmetic operation exceeds the limits of the current numeric type.\n",
    "#This exception commonly occurs when working with integers, especially in situations where the result of an operation exceeds the maximum or minimum representable value for that data type.\n",
    "#Example:\n",
    "try:\n",
    "    result = 2 ** 1000  # Calculating 2 to the power of 1000\n",
    "except OverflowError as e:\n",
    "    print(f\"Error: {e}\")"
   ]
  },
  {
   "cell_type": "code",
   "execution_count": null,
   "id": "e944443b",
   "metadata": {},
   "outputs": [],
   "source": [
    "Q4"
   ]
  },
  {
   "cell_type": "code",
   "execution_count": null,
   "id": "c7fd1eab",
   "metadata": {},
   "outputs": [],
   "source": [
    "The LookupError class in Python is a base class for exceptions related to sequence and mapping lookups. It serves as a superclass for more specific lookup-related exception classes. Two common exceptions that are derived from LookupError are KeyError and IndexError. Let's explain these two errors with examples:\n",
    "KeyError:\n",
    "KeyError is raised when you try to access a dictionary key that doesn't exist.\n",
    "This exception occurs when you attempt to retrieve or manipulate a value associated with a dictionary key that is not present in the dictionary.\n",
    "Example:\n",
    "my_dict = {\"name\": \"John\", \"age\": 30}\n",
    "try:\n",
    "    value = my_dict[\"city\"]  \n",
    "except KeyError as e:\n",
    "    print(f\"Error: {e}\")\n",
    "IndexError:\n",
    "IndexError is raised when you try to access an index that is out of range in a sequence (e.g., a list or a string).\n",
    "This exception occurs when you attempt to access an element using an index that exceeds the valid range of indices for the sequence.\n",
    "my_list = [1, 2, 3]\n",
    "try:\n",
    "    value = my_list[5]  \n",
    "except IndexError as e:\n",
    "    print(f\"Error: {e}\")"
   ]
  },
  {
   "cell_type": "code",
   "execution_count": null,
   "id": "9c0ba97a",
   "metadata": {},
   "outputs": [],
   "source": [
    "Q5"
   ]
  },
  {
   "cell_type": "markdown",
   "id": "8b7fa05d",
   "metadata": {},
   "source": [
    "ImportError and ModuleNotFoundError are related exceptions in Python that occur when there are issues with importing modules or packages. However, there are some differences between them:\n",
    "ImportError:\n",
    "ImportError is a base class for all exceptions related to importing modules or objects.\n",
    "It can be raised in various situations, such as when a module or object cannot be found, when there's an issue with the module's code, or when circular imports occur.\n",
    "ImportError can have subtypes, and one common subtype is ModuleNotFoundError (Python 3.6 and later), which provides more specific information about the missing module.\n",
    "ModuleNotFoundError:\n",
    "ModuleNotFoundError is a specific subtype of ImportError introduced in Python 3.6.\n",
    "It is raised when a requested module cannot be found during the import statement.\n",
    "ModuleNotFoundError provides more detailed information about the missing module, including its name."
   ]
  },
  {
   "cell_type": "code",
   "execution_count": null,
   "id": "e9aee5e9",
   "metadata": {},
   "outputs": [],
   "source": [
    "Q6"
   ]
  },
  {
   "cell_type": "markdown",
   "id": "85669d98",
   "metadata": {},
   "source": [
    "Use try and except blocks: The try and except blocks are the most basic way to handle exceptions in Python. The try block contains the code that you are trying to execute, and the except block contains the code that you want to execute if an exception occurs.\n",
    "Use specific exceptions: Instead of using a catch-all except block, try to use specific exceptions. This will make your code more readable and easier to debug.\n",
    "Log exceptions: When an exception occurs, it is a good idea to log it. This will help you track down the source of the error.\n",
    "Don't swallow exceptions: If you swallow an exception, you are essentially ignoring it. This can lead to problems down the road.\n",
    "Handle errors gracefully: When an exception occurs, you should try to handle it gracefully. This means that you should try to recover from the error and continue executing your code.\n",
    "Test your code: It is important to test your code to make sure that it handles exceptions correctly. You can do this by using the pytest library."
   ]
  }
 ],
 "metadata": {
  "kernelspec": {
   "display_name": "Python 3 (ipykernel)",
   "language": "python",
   "name": "python3"
  },
  "language_info": {
   "codemirror_mode": {
    "name": "ipython",
    "version": 3
   },
   "file_extension": ".py",
   "mimetype": "text/x-python",
   "name": "python",
   "nbconvert_exporter": "python",
   "pygments_lexer": "ipython3",
   "version": "3.11.4"
  }
 },
 "nbformat": 4,
 "nbformat_minor": 5
}
