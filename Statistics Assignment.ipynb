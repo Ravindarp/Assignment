{
 "cells": [
  {
   "cell_type": "code",
   "execution_count": null,
   "id": "d1aa9b00",
   "metadata": {},
   "outputs": [],
   "source": [
    "Q1"
   ]
  },
  {
   "cell_type": "markdown",
   "id": "3968dd62",
   "metadata": {},
   "source": [
    "Statistics is the science of collecting, analyzing, interpreting, and presenting data. It is a branch of mathematics that deals with the collection, analysis, interpretation, and presentation of data. Statistics is used in a wide variety of fields, including business, economics, medicine, education, and social sciences.\n",
    "\n",
    "There are two main branches of statistics: descriptive statistics and inferential statistics. Descriptive statistics is used to summarize data and describe its main features. Inferential statistics is used to make inferences about a population based on data from a sample.\n",
    "\n"
   ]
  },
  {
   "cell_type": "markdown",
   "id": "1111a9b4",
   "metadata": {},
   "source": [
    "Q2"
   ]
  },
  {
   "cell_type": "markdown",
   "id": "f0599115",
   "metadata": {},
   "source": [
    "There are two main types of statistics: descriptive statistics and inferential statistics.\n",
    "\n",
    "Descriptive statistics are used to summarize data and describe its main features. They can be used to describe the distribution of data, the central tendency of data, and the spread of data. Some examples of descriptive statistics include:\n",
    "\n",
    "Mean: The average of a set of data.\n",
    "Median: The middle value in a set of data when arranged in increasing or decreasing order.\n",
    "Mode: The most frequent value in a set of data.\n",
    "Range: The difference between the highest and lowest values in a set of data.\n",
    "Standard deviation: A measure of how spread out the data is.\n",
    "Inferential statistics are used to make inferences about a population based on data from a sample. They can be used to test hypotheses, estimate population parameters, and make predictions. Some examples of inferential statistics include:\n",
    "\n",
    "Hypothesis testing: A statistical test used to determine whether there is enough evidence to reject a hypothesis.\n",
    "Confidence intervals: An interval of values that is likely to contain the true population parameter.\n",
    "Regression analysis: A statistical method used to predict the value of one variable from the value of another variable.\n",
    "ANOVA: A statistical test used to compare the means of two or more groups."
   ]
  },
  {
   "cell_type": "code",
   "execution_count": null,
   "id": "9a6cf9a2",
   "metadata": {},
   "outputs": [],
   "source": [
    "Q3"
   ]
  },
  {
   "cell_type": "markdown",
   "id": "df0afce7",
   "metadata": {},
   "source": [
    "Qualitative data is non-numerical data that describes qualities or characteristics. It is often used to describe people, places, things, or events. For example, the color of a car, the type of food someone likes, or the name of a company.\n",
    "Quantitative data is numerical data that can be measured and counted. It is often used to describe quantities, such as the number of people in a room, the weight of an object, or the price of a product.\n",
    "Qualitative data can be further classified into two types: nominal and ordinal.\n",
    "\n",
    "Nominal data is qualitative data that does not have any inherent order. For example, the color of a car is nominal data because there is no inherent order to the colors.\n",
    "Ordinal data is qualitative data that has some order. For example, the ranking of students in a class is ordinal data because there is an order to the rankings (first, second, third, etc.).\n",
    "Quantitative data can also be further classified into two types: discrete and continuous.\n",
    "\n",
    "Discrete data is quantitative data that can only take on a finite number of values. For example, the number of people in a room is discrete data because there are only a finite number of possible values (1, 2, 3, 4, ...).\n",
    "Continuous data is quantitative data that can take on an infinite number of values. For example, the weight of an object is continuous data because there are an infinite number of possible weights (100 grams, 100.1 grams, 100.2 grams, ...).\n"
   ]
  },
  {
   "cell_type": "code",
   "execution_count": 2,
   "id": "7113843d",
   "metadata": {},
   "outputs": [],
   "source": [
    "Q4"
   ]
  },
  {
   "cell_type": "markdown",
   "id": "2bb77660",
   "metadata": {},
   "source": [
    "i) Grading in exam: This is a qualitative data type. The grading is in the form of text, and there is no inherent order to the grades.\n",
    "(ii) Colour of mangoes: This is also a qualitative data type. The colors of the mangoes are in the form of text, and there is no inherent order to the colors.\n",
    "(iii) Height data of a class: This is a quantitative data type. The heights are in the form of numbers, and the numbers can be ordered from smallest to largest.\n",
    "(iv) Number of mangoes exported by a farm: This is also a quantitative data type. The number of mangoes is in the form of numbers, and the numbers can be ordered from smallest to largest."
   ]
  },
  {
   "cell_type": "code",
   "execution_count": null,
   "id": "c52250b9",
   "metadata": {},
   "outputs": [],
   "source": [
    "Q5"
   ]
  },
  {
   "cell_type": "markdown",
   "id": "b68dbc27",
   "metadata": {},
   "source": [
    "The levels of measurement in statistics are a way of classifying data according to the amount of information it provides. There are four levels of measurement:\n",
    "\n",
    "Nominal: This is the lowest level of measurement. Nominal data is qualitative data that does not have any inherent order. For example, the color of a car is nominal data because there is no inherent order to the colors.\n",
    "Ordinal: This level of measurement has order, but no equal intervals between the values. For example, the ranking of students in a class is ordinal data because there is an order to the rankings (first, second, third, etc.), but the difference between each ranking is not necessarily equal.\n",
    "Interval: This level of measurement has order and equal intervals between the values. However, the zero point is arbitrary. For example, temperature measured in degrees Celsius is interval data because there is an order to the temperatures (higher temperatures are hotter than lower temperatures), and the intervals between the temperatures are equal (each degree Celsius is the same distance from the next degree Celsius).\n",
    "Ratio: This is the highest level of measurement. Ratio data has order, equal intervals, and a true zero point. For example, weight measured in kilograms is ratio data because there is an order to the weights (heavier weights are heavier than lighter weights), the intervals between the weights are equal (each kilogram is the same distance from the next kilogram), and there is a true zero point (zero kilograms means that there is no weight)."
   ]
  },
  {
   "cell_type": "code",
   "execution_count": null,
   "id": "e5faf851",
   "metadata": {},
   "outputs": [],
   "source": [
    "Q6"
   ]
  },
  {
   "cell_type": "markdown",
   "id": "465a6b0f",
   "metadata": {},
   "source": [
    "important to understand the level of measurement when analyzing data because the level of measurement affects the statistical methods that can be used to analyze the data and how the data can be interpreted.\n",
    "\n",
    "There are four levels of measurement: nominal, ordinal, interval, and ratio.\n",
    "\n",
    "Nominal data is the lowest level of measurement. It is qualitative data that does not have any inherent order. For example, the color of a car is nominal data.\n",
    "Ordinal data has order, but no equal intervals between the values. For example, the ranking of students in a class is ordinal data.\n",
    "Interval data has order and equal intervals between the values. However, the zero point is arbitrary. For example, temperature measured in degrees Celsius is interval data.\n",
    "Ratio data has order, equal intervals, and a true zero point. For example, weight measured in kilograms is ratio data.\n",
    "The choice of statistical methods depends on the level of measurement of the data. For example, nominal data can only be analyzed using non-parametric statistical methods, while ratio data can be analyzed using both parametric and non-parametric statistical methods.\n",
    "\n"
   ]
  },
  {
   "cell_type": "code",
   "execution_count": null,
   "id": "5d8bba7e",
   "metadata": {},
   "outputs": [],
   "source": [
    "Q7"
   ]
  },
  {
   "cell_type": "markdown",
   "id": "fef39a68",
   "metadata": {},
   "source": [
    "Nominal data and ordinal data are both categorical data, which means that they are data that can be grouped into categories. However, there are some key differences between the two types of data.\n",
    "\n",
    "Nominal data is the lowest level of measurement. It is qualitative data that does not have any inherent order. For example, the color of a car is nominal data.\n",
    "Ordinal data has order, but no equal intervals between the values. For example, the ranking of students in a class is ordinal data.\n",
    "Here are some examples of nominal data:\n",
    "\n",
    "Color of car: (red, blue, green)\n",
    "Gender: (male, female)\n",
    "Blood type: (A, B, AB, O)\n",
    "Here are some examples of ordinal data:\n",
    "\n",
    "Ranking of students in a class: (first, second, third, ...)\n",
    "Level of education: (elementary school, middle school, high school, college, graduate school)\n",
    "Customer satisfaction: (very satisfied, satisfied, somewhat satisfied, dissatisfied, very dissatisfied)\n",
    "\n"
   ]
  },
  {
   "cell_type": "code",
   "execution_count": null,
   "id": "8dbda16d",
   "metadata": {},
   "outputs": [],
   "source": [
    "Q8"
   ]
  },
  {
   "cell_type": "markdown",
   "id": "3ba2cc5f",
   "metadata": {},
   "source": [
    "There are a few different types of plots that can be used to display data in terms of range. Some of the most common ones include:\n",
    "\n",
    "Box plot: A box plot is a graphical representation of the distribution of data. It shows the minimum, first quartile, median, third quartile, and maximum values of the data. The range of the data is the difference between the maximum and minimum values. \n",
    "Histogram: A histogram is a graphical representation of the frequency distribution of data. It shows the number of data points that fall within each range of values. The range of the data is the difference between the highest and lowest values in the histogram. \n",
    "Line chart: A line chart is a graphical representation of the changes in data over time. It shows the values of the data at different points in time. The range of the data is the difference between the highest and lowest values in the line chart. \n",
    "Scatter plot: A scatter plot is a graphical representation of the relationship between two variables. It shows the values of one variable on the x-axis and the values of the other variable on the y-axis. The range of the data is the difference between the highest and lowest values in the scatter plot. \n"
   ]
  },
  {
   "cell_type": "code",
   "execution_count": null,
   "id": "0407958c",
   "metadata": {},
   "outputs": [],
   "source": [
    "Q9"
   ]
  },
  {
   "cell_type": "markdown",
   "id": "5fe2700d",
   "metadata": {},
   "source": [
    "Descriptive statistics are used to summarize the data and describe its main features. They do not make any inferences about the population from which the data was drawn. Some examples of descriptive statistics are:\n",
    "\n",
    "Measures of central tendency: mean, median, mode\n",
    "Measures of dispersion: range, standard deviation\n",
    "Graphical representations: histograms, box plots\n",
    "Inferential statistics are used to make inferences about the population from which the data was drawn. They do this by making assumptions about the distribution of the data and using statistical tests to estimate population parameters. Some examples of inferential statistics are:\n",
    "\n",
    "t-tests: used to compare the means of two groups\n",
    "ANOVA: used to compare the means of three or more groups\n",
    "Regression analysis: used to predict a dependent variable from one or more independent variables\n",
    "Here is an example of how descriptive statistics can be used. Suppose you are interested in the average height of students at a university. You could collect data on the height of a sample of students and use descriptive statistics to summarize the data. You could then report the mean height, the standard deviation, and a histogram of the data. This would give you a good understanding of the distribution of heights in the population of students.\n",
    "\n",
    "Here is an example of how inferential statistics can be used. Suppose you are interested in whether there is a difference in the average height of male and female students at a university. You could collect data on the height of a sample of students and use inferential statistics to test the hypothesis that there is no difference in height between males and females. You could use a t-test to compare the means of the two groups. If the p-value is less than 0.05, then you would reject the null hypothesis and conclude that there is a statistically significant difference in height between males and females.\n",
    "\n"
   ]
  },
  {
   "cell_type": "code",
   "execution_count": null,
   "id": "fe282e18",
   "metadata": {},
   "outputs": [],
   "source": [
    "Q10"
   ]
  },
  {
   "cell_type": "markdown",
   "id": "22eb5a86",
   "metadata": {},
   "source": [
    "Measures of central tendency\n",
    "\n",
    "Mean: The mean is the average of all the values in the dataset. It is calculated by adding all the values and dividing by the number of values.\n",
    "Median: The median is the middle value in the dataset when all the values are arranged in ascending or descending order.\n",
    "Mode: The mode is the most frequent value in the dataset.\n",
    "Measures of variability\n",
    "\n",
    "Range: The range is the difference between the highest and lowest values in the dataset.\n",
    "Variance: The variance is a measure of how spread out the data is. It is calculated by averaging the squared deviations from the mean.\n",
    "Standard deviation: The standard deviation is the square root of the variance. It is a measure of how much variation there is from the mean.\n",
    "The choice of which measure of central tendency or variability to use depends on the specific data set and the goal of the analysis. For example, if you want to know the average height of students in a class, you would use the mean. If you want to know the middle height of students in the class, you would use the median. If you want to know the most common height of students in the class, you would use the mode.\n",
    "\n",
    "The measures of variability can be used to describe how spread out the data is. For example, if the range is large, then the data is spread out over a wide range of values. If the variance is large, then the data is spread out more than if the variance is small. The standard deviation is a more common measure of variability than the variance because it is easier to interpret.\n",
    "\n"
   ]
  }
 ],
 "metadata": {
  "kernelspec": {
   "display_name": "Python 3 (ipykernel)",
   "language": "python",
   "name": "python3"
  },
  "language_info": {
   "codemirror_mode": {
    "name": "ipython",
    "version": 3
   },
   "file_extension": ".py",
   "mimetype": "text/x-python",
   "name": "python",
   "nbconvert_exporter": "python",
   "pygments_lexer": "ipython3",
   "version": "3.9.13"
  }
 },
 "nbformat": 4,
 "nbformat_minor": 5
}
