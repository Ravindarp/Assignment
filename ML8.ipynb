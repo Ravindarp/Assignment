{
 "cells": [
  {
   "cell_type": "markdown",
   "id": "a42f2f12",
   "metadata": {},
   "source": [
    "Q1)"
   ]
  },
  {
   "cell_type": "code",
   "execution_count": 2,
   "id": "f8f1235b",
   "metadata": {},
   "outputs": [
    {
     "name": "stdout",
     "output_type": "stream",
     "text": [
      "-0.4731266379568131\n"
     ]
    }
   ],
   "source": [
    "import numpy as np\n",
    "import pandas as pd\n",
    "data = {\n",
    "    \"Time Spent Studying\": [20, 30, 40, 50, 60],\n",
    "    \"Final Exam Score\": [80, 90, 100, 110, 12],\n",
    "}\n",
    "df = pd.DataFrame(data)\n",
    "correlation = df[\"Time Spent Studying\"].corr(df[\"Final Exam Score\"])\n",
    "print(correlation)\n"
   ]
  },
  {
   "cell_type": "markdown",
   "id": "ec77f421",
   "metadata": {},
   "source": [
    "Q2)"
   ]
  },
  {
   "cell_type": "code",
   "execution_count": 7,
   "id": "d3522c53",
   "metadata": {},
   "outputs": [
    {
     "name": "stdout",
     "output_type": "stream",
     "text": [
      "0.8207826816681233\n"
     ]
    }
   ],
   "source": [
    "import numpy as np\n",
    "import pandas as pd\n",
    "data = {\n",
    "    \"Hours of Sleep\": [6, 7, 8, 9, 10],\n",
    "    \"Job Satisfaction\": [1, 2, 3, 4, 3],\n",
    "}\n",
    "df = pd.DataFrame(data)\n",
    "correlation = df[\"Hours of Sleep\"].corr(df[\"Job Satisfaction\"], method=\"spearman\")\n",
    "print(correlation)\n"
   ]
  },
  {
   "cell_type": "markdown",
   "id": "6cabc6e6",
   "metadata": {},
   "source": [
    "Q3)"
   ]
  },
  {
   "cell_type": "code",
   "execution_count": 9,
   "id": "461800f2",
   "metadata": {},
   "outputs": [
    {
     "name": "stdout",
     "output_type": "stream",
     "text": [
      "0.8320502943378436\n",
      "0.8207826816681234\n"
     ]
    }
   ],
   "source": [
    "import numpy as np\n",
    "import pandas as pd\n",
    "data = {\n",
    "    \"Hours of Exercise\": [2, 3, 4, 5, 4],\n",
    "    \"BMI\": [20, 21, 22, 23, 24],\n",
    "}\n",
    "df = pd.DataFrame(data)\n",
    "correlation = df[\"Hours of Exercise\"].corr(df[\"BMI\"])\n",
    "correlation_spearman = df[\"Hours of Exercise\"].corr(df[\"BMI\"], method=\"spearman\")\n",
    "print(correlation)\n",
    "print(correlation_spearman)\n"
   ]
  },
  {
   "cell_type": "markdown",
   "id": "02570f91",
   "metadata": {},
   "source": [
    "Q4)"
   ]
  },
  {
   "cell_type": "code",
   "execution_count": 11,
   "id": "f5e9ff2e",
   "metadata": {},
   "outputs": [
    {
     "name": "stdout",
     "output_type": "stream",
     "text": [
      "0.24253562503633294\n"
     ]
    }
   ],
   "source": [
    "import numpy as np\n",
    "import pandas as pd\n",
    "data = {\n",
    "    \"Hours of TV\": [2, 3, 4, 5, 2],\n",
    "    \"Physical Activity\": [1, 2, 3, 4, 5],\n",
    "}\n",
    "df = pd.DataFrame(data)\n",
    "correlation = df[\"Hours of TV\"].corr(df[\"Physical Activity\"])\n",
    "print(correlation)\n"
   ]
  },
  {
   "cell_type": "markdown",
   "id": "3879f0fd",
   "metadata": {},
   "source": [
    "Q5)"
   ]
  },
  {
   "cell_type": "markdown",
   "id": "78efd609",
   "metadata": {},
   "source": [
    "\n",
    "The survey results show that there is no clear relationship between age and preference for a particular brand of soft drink. There are people of all ages who prefer Coke, Pepsi, and Mountain Dew.\n",
    "However, there are a few trends that can be observed. For example, the two youngest respondents both prefer Mountain Dew, while the two oldest respondents both prefer Coke. Additionally, the three respondents who are in their 30s are evenly split between Coke and Pepsi."
   ]
  },
  {
   "cell_type": "markdown",
   "id": "23bb5347",
   "metadata": {},
   "source": [
    "Q6) "
   ]
  },
  {
   "cell_type": "code",
   "execution_count": 13,
   "id": "6ecb9a63",
   "metadata": {},
   "outputs": [
    {
     "name": "stdout",
     "output_type": "stream",
     "text": [
      "-0.47885213068057325\n"
     ]
    }
   ],
   "source": [
    "import numpy as np\n",
    "import pandas as pd\n",
    "data = {\n",
    "    \"Number of Sales Calls\": [2, 3, 4, 5, 6],\n",
    "    \"Number of Sales\": [10, 11, 12, 13, 3],\n",
    "}\n",
    "\n",
    "df = pd.DataFrame(data)\n",
    "correlation = df[\"Number of Sales Calls\"].corr(df[\"Number of Sales\"])\n",
    "print(correlation)\n"
   ]
  },
  {
   "cell_type": "code",
   "execution_count": null,
   "id": "c6cccb34",
   "metadata": {},
   "outputs": [],
   "source": []
  }
 ],
 "metadata": {
  "kernelspec": {
   "display_name": "Python 3 (ipykernel)",
   "language": "python",
   "name": "python3"
  },
  "language_info": {
   "codemirror_mode": {
    "name": "ipython",
    "version": 3
   },
   "file_extension": ".py",
   "mimetype": "text/x-python",
   "name": "python",
   "nbconvert_exporter": "python",
   "pygments_lexer": "ipython3",
   "version": "3.10.9"
  }
 },
 "nbformat": 4,
 "nbformat_minor": 5
}
