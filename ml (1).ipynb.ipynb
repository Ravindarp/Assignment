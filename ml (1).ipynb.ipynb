{
 "cells": [
  {
   "cell_type": "markdown",
   "id": "dbe90576",
   "metadata": {},
   "source": [
    "Q1)"
   ]
  },
  {
   "cell_type": "code",
   "execution_count": null,
   "id": "504264fd",
   "metadata": {},
   "outputs": [],
   "source": [
    "#1)Artifical Intelligence performs taks without human interaction\n",
    "#2)Machine learning is subset os AI which learns from past experience\n",
    "#3)Deep learning is subset os ML it handles with neuralk networks\n"
   ]
  },
  {
   "cell_type": "markdown",
   "id": "ffa97906",
   "metadata": {},
   "source": [
    "Q2)"
   ]
  },
  {
   "cell_type": "code",
   "execution_count": 2,
   "id": "1696b53a",
   "metadata": {},
   "outputs": [],
   "source": [
    "#supervised learning means it has labelled data which means output is already known to system \n",
    "#examples are spam filtering,credit card scoring"
   ]
  },
  {
   "cell_type": "markdown",
   "id": "d19192d8",
   "metadata": {},
   "source": [
    "Q3)"
   ]
  },
  {
   "cell_type": "code",
   "execution_count": 4,
   "id": "614afe71",
   "metadata": {},
   "outputs": [],
   "source": [
    "#unsupervised learning means it has unlabelled data which means output is already not known to system \n",
    "#Fraud detection,Dimensionality Reduction"
   ]
  },
  {
   "cell_type": "markdown",
   "id": "9f70cb0f",
   "metadata": {},
   "source": [
    "Q4)"
   ]
  },
  {
   "cell_type": "code",
   "execution_count": null,
   "id": "8c8e5308",
   "metadata": {},
   "outputs": [],
   "source": [
    "#Artificial intelligence (AI)The ability of machines to mimic human intelligence.\n",
    "#Machine learning (ML)A subset of AI that allows machines to learn from data without being explicitly programmed.\n",
    "#Deep learning (DL)A subset of ML that uses artificial neural networks to learn from data.\n",
    "#Data science (DS)A field that includes the collection, analysis, and interpretation of data."
   ]
  },
  {
   "cell_type": "markdown",
   "id": "55be186f",
   "metadata": {},
   "source": [
    "Q5)"
   ]
  },
  {
   "cell_type": "code",
   "execution_count": null,
   "id": "ada2a305",
   "metadata": {},
   "outputs": [],
   "source": [
    "#Supervised learning: In supervised learning, the model is trained on a dataset of labeled data. This means that each data point in the dataset has a corresponding label that indicates the desired output. The model learns to map the input data to the output labels. Supervised learning is often used for tasks such as classification, regression, and forecasting.\n",
    "\n",
    "#Unsupervised learning: In unsupervised learning, the model is trained on a dataset of unlabeled data. This means that there are no corresponding labels for the data points in the dataset. The model learns to identify patterns and relationships in the data without any prior knowledge of the desired output. Unsupervised learning is often used for tasks such as clustering, dimensionality reduction, and anomaly detection.\n",
    "\n",
    "#Semisupervised learning: In semisupervised learning, the model is trained on a dataset of both labeled and unlabeled data. This means that the model has some prior knowledge of the desired output, but it also has the opportunity to learn from unlabeled data. Semisupervised learning is often used for tasks such as classification and clustering."
   ]
  },
  {
   "cell_type": "markdown",
   "id": "e32f54ed",
   "metadata": {},
   "source": [
    "Q6)"
   ]
  },
  {
   "cell_type": "code",
   "execution_count": null,
   "id": "00b47749",
   "metadata": {},
   "outputs": [],
   "source": [
    "#Training set: The training set is the most important part of the dataset. It is used to train the model, and the performance of the model on the training set is not a good indicator of the performance of the model on new data.\n",
    "#Validation set: The validation set is used to tune the hyperparameters of the model. The hyperparameters are the parameters of the model that are not learned from the data. The validation set is used to evaluate the performance of the model for different values of the hyperparameters. The goal is to find the values of the hyperparameters that give the best performance on the validation set.\n",
    "#Test set: The test set is used to evaluate the final performance of the model. The test set is a holdout set that is not used to train or tune the model. The performance of the model on the test set is a good indicator of the performance of the model on new data."
   ]
  },
  {
   "cell_type": "markdown",
   "id": "82d82174",
   "metadata": {},
   "source": [
    "Q7)"
   ]
  },
  {
   "cell_type": "code",
   "execution_count": null,
   "id": "51109fd6",
   "metadata": {},
   "outputs": [],
   "source": [
    "#unsupervised learning can be used to identify anomalies by looking for data points that are different \n",
    "#from the rest of the data. This can be done in a variety of ways, such as by estimating the density of the data,\n",
    "#using outlier detection algorithms, or using self-organizing maps"
   ]
  },
  {
   "cell_type": "markdown",
   "id": "e7e35b94",
   "metadata": {},
   "source": [
    "Q8)"
   ]
  },
  {
   "cell_type": "code",
   "execution_count": null,
   "id": "12671258",
   "metadata": {},
   "outputs": [],
   "source": [
    "#supervised learning algorithms\n",
    "#Linear Regression\n",
    "#Logistic Regression\n",
    "#Naive Bayes\n",
    "#Knn\n",
    "#unsupervised learning algorithms\n",
    "#kmeans\n",
    "#PCA\n",
    "#Autoencoders"
   ]
  }
 ],
 "metadata": {
  "kernelspec": {
   "display_name": "Python 3 (ipykernel)",
   "language": "python",
   "name": "python3"
  },
  "language_info": {
   "codemirror_mode": {
    "name": "ipython",
    "version": 3
   },
   "file_extension": ".py",
   "mimetype": "text/x-python",
   "name": "python",
   "nbconvert_exporter": "python",
   "pygments_lexer": "ipython3",
   "version": "3.10.9"
  }
 },
 "nbformat": 4,
 "nbformat_minor": 5
}
