{
 "cells": [
  {
   "cell_type": "markdown",
   "id": "2889795e",
   "metadata": {},
   "source": [
    "Question 1"
   ]
  },
  {
   "cell_type": "code",
   "execution_count": null,
   "id": "6800f763",
   "metadata": {},
   "outputs": [],
   "source": [
    "import plotly.express as px\n",
    "tips=sns.load_dataset(\"tips\")\n",
    "fig=px.box(tips,y=tips.total_bill)\n",
    "fig.show()\n"
   ]
  },
  {
   "cell_type": "markdown",
   "id": "e22735ff",
   "metadata": {},
   "source": [
    "Question 2"
   ]
  },
  {
   "cell_type": "code",
   "execution_count": null,
   "id": "b4581619",
   "metadata": {},
   "outputs": [],
   "source": [
    "import plotly.express as px\n",
    "tips=sns.load_dataset(\"tips\")\n",
    "fig=px.box(tips,y=tips.total_bill)\n",
    "fig.show()\n"
   ]
  },
  {
   "cell_type": "markdown",
   "id": "10e00c66",
   "metadata": {},
   "source": [
    "Question 3"
   ]
  },
  {
   "cell_type": "code",
   "execution_count": null,
   "id": "c1a8e57e",
   "metadata": {},
   "outputs": [],
   "source": [
    "fig=px.histogram(x=tips.sex,y=tips.total_bill,color=tips.day,pattern_shape=tips.smoker)\n",
    "fig.show()\n"
   ]
  },
  {
   "cell_type": "markdown",
   "id": "ef11355c",
   "metadata": {},
   "source": [
    "Question 4"
   ]
  },
  {
   "cell_type": "code",
   "execution_count": null,
   "id": "2534d7d6",
   "metadata": {},
   "outputs": [],
   "source": [
    "iris=sns.load_dataset(\"iris\")\n",
    "fig=px.scatter_matrix(color=\"species\",data_frame=iris,dimensions=[\"sepal_length\", \"sepal_width\", \"petal_length\", \"petal_width\"])\n",
    "fig.show()\n"
   ]
  },
  {
   "cell_type": "markdown",
   "id": "a0e9e21f",
   "metadata": {},
   "source": [
    "Question 5"
   ]
  },
  {
   "cell_type": "markdown",
   "id": "79fd3fee",
   "metadata": {},
   "source": [
    "The distplot figure factory displays a combination of statistical representations of numerical data, such as histogram, kernel density estimation or normal curve, and rug plot.\n",
    "\n"
   ]
  },
  {
   "cell_type": "code",
   "execution_count": null,
   "id": "e4f6e115",
   "metadata": {},
   "outputs": [],
   "source": [
    "df = px.data.tips()\n",
    "fig = px.histogram(df, x=\"total_bill\", y=\"tip\", color=\"sex\",marginal=\"box\",hover_data=df.columns)\n",
    "fig.show()\n"
   ]
  }
 ],
 "metadata": {
  "kernelspec": {
   "display_name": "Python 3 (ipykernel)",
   "language": "python",
   "name": "python3"
  },
  "language_info": {
   "codemirror_mode": {
    "name": "ipython",
    "version": 3
   },
   "file_extension": ".py",
   "mimetype": "text/x-python",
   "name": "python",
   "nbconvert_exporter": "python",
   "pygments_lexer": "ipython3",
   "version": "3.9.12"
  }
 },
 "nbformat": 4,
 "nbformat_minor": 5
}
