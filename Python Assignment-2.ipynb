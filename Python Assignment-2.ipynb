{
 "cells": [
  {
   "cell_type": "markdown",
   "id": "fb32d426",
   "metadata": {},
   "source": [
    "Q1"
   ]
  },
  {
   "cell_type": "markdown",
   "id": "344e0841",
   "metadata": {},
   "source": [
    "There are three types of comments in Python:\n",
    "\n",
    "Single-line comments: Single-line comments start with a hash character (#) and continue to the end of the line.\n",
    "Multi-line comments: Multi-line comments can be created by using three quotation marks (\"\"\") to enclose the text of the comment. The comment will extend to the end of the text, or to the next three quotation marks, whichever comes first.\n",
    "Docstrings: Docstrings are special multi-line comments that are used to document Python modules, functions, and classes. They are enclosed in triple double quotation marks (\"\"\"\"\"\") and can contain any text that you want to document your code."
   ]
  },
  {
   "cell_type": "code",
   "execution_count": null,
   "id": "03d49610",
   "metadata": {},
   "outputs": [],
   "source": [
    "Q2"
   ]
  },
  {
   "cell_type": "code",
   "execution_count": 1,
   "id": "f0ab145a",
   "metadata": {},
   "outputs": [
    {
     "name": "stdout",
     "output_type": "stream",
     "text": [
      "Ravi\n"
     ]
    }
   ],
   "source": [
    "\n",
    "#Variables in Python are named memory locations that store values.\n",
    "#They are used to store data that needs to be used throughout a program.\n",
    "\n",
    "#To declare a variable in Python, you simply give it a name and assign it a value. \n",
    "#The name of a variable can be any combination of letters, numbers, and underscores, but it must start with a letter.\n",
    "name = \"Ravi\"\n",
    "age = 20\n",
    "print(name)"
   ]
  },
  {
   "cell_type": "code",
   "execution_count": null,
   "id": "48d69684",
   "metadata": {},
   "outputs": [],
   "source": [
    "Q3"
   ]
  },
  {
   "cell_type": "code",
   "execution_count": 2,
   "id": "6d1e9090",
   "metadata": {},
   "outputs": [
    {
     "name": "stdout",
     "output_type": "stream",
     "text": [
      "3\n",
      "5.0\n",
      "42\n"
     ]
    }
   ],
   "source": [
    "#In Python, you can convert one data type to another using type conversion functions or methods. Here are some common type conversion functions and methods:\n",
    "\n",
    "#int(): Converts a value to an integer.\n",
    "float_number = 3.14\n",
    "integer_number = int(float_number)\n",
    "print(integer_number)  \n",
    "#float(): Converts a value to a floating-point number.\n",
    "integer_number = 5\n",
    "float_number = float(integer_number)\n",
    "print(float_number)  \n",
    "#str(): Converts a value to a string.\n",
    "number = 42\n",
    "number_string = str(number)\n",
    "print(number_string)  \n",
    "\n",
    "\n"
   ]
  },
  {
   "cell_type": "code",
   "execution_count": null,
   "id": "d5680259",
   "metadata": {},
   "outputs": [],
   "source": [
    "Q4"
   ]
  },
  {
   "cell_type": "markdown",
   "id": "c2ad2d38",
   "metadata": {},
   "source": [
    "To write and execute a Python script from the command line, you can follow these steps:\n",
    "\n",
    "Create a file with the extension .py. This is the file that will contain your Python code.\n",
    "Write your Python code in the file.\n",
    "Save the file.\n",
    "Open a terminal window and navigate to the directory where the file is saved.\n",
    "Type the following command to execute the Python script\\\n",
    "python my_script.py"
   ]
  },
  {
   "cell_type": "code",
   "execution_count": null,
   "id": "d03022c7",
   "metadata": {},
   "outputs": [],
   "source": [
    "Q5"
   ]
  },
  {
   "cell_type": "code",
   "execution_count": 3,
   "id": "e4c34e7b",
   "metadata": {},
   "outputs": [
    {
     "name": "stdout",
     "output_type": "stream",
     "text": [
      "[2, 3]\n"
     ]
    }
   ],
   "source": [
    "my_list = [1, 2, 3, 4, 5]\n",
    "sub_list = my_list[1:3]\n",
    "print(sub_list)\n"
   ]
  },
  {
   "cell_type": "code",
   "execution_count": null,
   "id": "536c5687",
   "metadata": {},
   "outputs": [],
   "source": [
    "Q6"
   ]
  },
  {
   "cell_type": "code",
   "execution_count": 4,
   "id": "dead0baa",
   "metadata": {},
   "outputs": [
    {
     "name": "stdout",
     "output_type": "stream",
     "text": [
      "(2+3j)\n"
     ]
    }
   ],
   "source": [
    "#A complex number in mathematics is a number of the form z = a + bi, \n",
    "#where a and b are real numbers and i is the imaginary unit\n",
    "#In Python, complex numbers are represented using the built-in complex() function.\n",
    "z = complex(2, 3)\n",
    "print(z)"
   ]
  },
  {
   "cell_type": "code",
   "execution_count": null,
   "id": "b2b2a46b",
   "metadata": {},
   "outputs": [],
   "source": [
    "Q7"
   ]
  },
  {
   "cell_type": "code",
   "execution_count": 5,
   "id": "fc13692d",
   "metadata": {},
   "outputs": [
    {
     "name": "stdout",
     "output_type": "stream",
     "text": [
      "25\n"
     ]
    }
   ],
   "source": [
    "age = 25\n",
    "print(age)"
   ]
  },
  {
   "cell_type": "code",
   "execution_count": null,
   "id": "e326e5e3",
   "metadata": {},
   "outputs": [],
   "source": [
    "Q8"
   ]
  },
  {
   "cell_type": "code",
   "execution_count": null,
   "id": "2921eaab",
   "metadata": {},
   "outputs": [],
   "source": [
    "price = 9.99\n",
    "#The price variable is now a variable with a floating-point value of 9.99"
   ]
  },
  {
   "cell_type": "code",
   "execution_count": null,
   "id": "9ea1202e",
   "metadata": {},
   "outputs": [],
   "source": [
    "Q9"
   ]
  },
  {
   "cell_type": "code",
   "execution_count": 6,
   "id": "38a3cb3d",
   "metadata": {},
   "outputs": [
    {
     "name": "stdout",
     "output_type": "stream",
     "text": [
      "Ravi\n"
     ]
    }
   ],
   "source": [
    "name = \"Ravi\"\n",
    "print(name)"
   ]
  },
  {
   "cell_type": "code",
   "execution_count": null,
   "id": "17c63f33",
   "metadata": {},
   "outputs": [],
   "source": [
    "Q10"
   ]
  },
  {
   "cell_type": "code",
   "execution_count": 11,
   "id": "67e3e75b",
   "metadata": {},
   "outputs": [
    {
     "name": "stdout",
     "output_type": "stream",
     "text": [
      "World\n"
     ]
    }
   ],
   "source": [
    "string = \"Hello, World!\"\n",
    "substring = string[7:12]\n",
    "print(substring)\n"
   ]
  },
  {
   "cell_type": "code",
   "execution_count": null,
   "id": "8e9a273a",
   "metadata": {},
   "outputs": [],
   "source": [
    "Q11"
   ]
  },
  {
   "cell_type": "code",
   "execution_count": 12,
   "id": "6b1076f3",
   "metadata": {},
   "outputs": [
    {
     "name": "stdout",
     "output_type": "stream",
     "text": [
      "True\n"
     ]
    }
   ],
   "source": [
    "is_student =True\n",
    "print(is_student)"
   ]
  },
  {
   "cell_type": "code",
   "execution_count": null,
   "id": "3fdeb72c",
   "metadata": {},
   "outputs": [],
   "source": []
  }
 ],
 "metadata": {
  "kernelspec": {
   "display_name": "Python 3 (ipykernel)",
   "language": "python",
   "name": "python3"
  },
  "language_info": {
   "codemirror_mode": {
    "name": "ipython",
    "version": 3
   },
   "file_extension": ".py",
   "mimetype": "text/x-python",
   "name": "python",
   "nbconvert_exporter": "python",
   "pygments_lexer": "ipython3",
   "version": "3.10.9"
  }
 },
 "nbformat": 4,
 "nbformat_minor": 5
}
