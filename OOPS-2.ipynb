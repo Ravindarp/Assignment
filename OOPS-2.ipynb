{
 "cells": [
  {
   "cell_type": "markdown",
   "id": "c4daae12",
   "metadata": {},
   "source": [
    "#Q1"
   ]
  },
  {
   "cell_type": "code",
   "execution_count": 3,
   "id": "4c149b1a",
   "metadata": {},
   "outputs": [
    {
     "name": "stdout",
     "output_type": "stream",
     "text": [
      "car\n",
      "120\n",
      "3\n"
     ]
    }
   ],
   "source": [
    "class vehicle:\n",
    "    def __init__(self,name_of_vehicle,maxspeed,average_of_vehicle):\n",
    "        self.name_of_vehicle=name_of_vehicle\n",
    "        self.maxspeed=maxspeed\n",
    "        self.average_of_vehicle=average_of_vehicle\n",
    "car=vehicle('car',120,3)\n",
    "print(car.name_of_vehicle)\n",
    "print(car.maxspeed)\n",
    "print(car.average_of_vehicle)\n"
   ]
  },
  {
   "cell_type": "markdown",
   "id": "94b3d325",
   "metadata": {},
   "source": [
    "#Q2"
   ]
  },
  {
   "cell_type": "code",
   "execution_count": 6,
   "id": "378c0dc9",
   "metadata": {},
   "outputs": [
    {
     "name": "stdout",
     "output_type": "stream",
     "text": [
      "dsu has a seating capacity of 5\n"
     ]
    }
   ],
   "source": [
    "class Car(vehicle):\n",
    "    def seating_capacity(self,capacity):\n",
    "        return f'{self.name_of_vehicle} has a seating capacity of {capacity}'\n",
    "car=Car('dsu',84,959)\n",
    "capacity=5\n",
    "print(car. seating_capacity(capacity))"
   ]
  },
  {
   "cell_type": "markdown",
   "id": "1c946b68",
   "metadata": {},
   "source": [
    "#Q3"
   ]
  },
  {
   "cell_type": "code",
   "execution_count": 27,
   "id": "19e89088",
   "metadata": {},
   "outputs": [
    {
     "name": "stdout",
     "output_type": "stream",
     "text": [
      "i am eating\n",
      "woof\n",
      "Meow\n",
      "Aooooo\n"
     ]
    }
   ],
   "source": [
    "#Multiple inheritance means it is one of type inheritance where child class inheritance from multiple parent class\n",
    "class Animal:\n",
    "    def eat(self):\n",
    "        return 'i am eating'\n",
    "class Dog(Animal):\n",
    "    def bark(self):\n",
    "        return 'woof'\n",
    "class Cat(Animal):\n",
    "     def meow(self):\n",
    "            return 'Meow'\n",
    "class Wolf(Dog,Cat):\n",
    "    \n",
    "    def howl(self):\n",
    "            return 'Aooooo'\n",
    "my_wolf = Wolf()\n",
    "print(my_wolf.eat())\n",
    "print(my_wolf.bark())\n",
    "print(my_wolf.meow())\n",
    "print(my_wolf.howl())\n",
    "\n",
    "    \n"
   ]
  },
  {
   "cell_type": "markdown",
   "id": "2bd418c5",
   "metadata": {},
   "source": [
    "Q4"
   ]
  },
  {
   "cell_type": "code",
   "execution_count": 36,
   "id": "22838955",
   "metadata": {},
   "outputs": [
    {
     "name": "stdout",
     "output_type": "stream",
     "text": [
      "Alice\n",
      "20\n",
      "1000\n",
      "Invalid balance\n"
     ]
    }
   ],
   "source": [
    "#Getter and setter methods are special methods in Python that are used to get and set the value of an attribute in a class.\n",
    "class Student:\n",
    "    def __init__(self, name, age):\n",
    "        self._name = name\n",
    "        self._age = age\n",
    "\n",
    "    @property\n",
    "    def name(self):\n",
    "        return self._name\n",
    "\n",
    "    @property\n",
    "    def age(self):\n",
    "        return self._age\n",
    "\n",
    "student = Student(\"Alice\", 20)\n",
    "print(student.name)  # Using the getter method\n",
    "print(student.age)\n",
    "class BankAccount:\n",
    "    def __init__(self, balance):\n",
    "        self._balance = balance\n",
    "\n",
    "    @property\n",
    "    def balance(self):\n",
    "        return self._balance\n",
    "\n",
    "    @balance.setter\n",
    "    def balance(self, new_balance):\n",
    "        if new_balance >= 0:\n",
    "            self._balance = new_balance\n",
    "        else:\n",
    "            print(\"Invalid balance\")\n",
    "\n",
    "account = BankAccount(1000)\n",
    "print(account.balance)  \n",
    "account.balance = 1500  \n",
    "account.balance = -500 \n"
   ]
  },
  {
   "cell_type": "markdown",
   "id": "f1d2da58",
   "metadata": {},
   "source": [
    "Q5"
   ]
  },
  {
   "cell_type": "code",
   "execution_count": 31,
   "id": "124aea85",
   "metadata": {},
   "outputs": [
    {
     "name": "stdout",
     "output_type": "stream",
     "text": [
      "asdj\n",
      "jfgb\n",
      "sfsj\n"
     ]
    }
   ],
   "source": [
    "#method overloading  has the same method  name and same parameters with different execution.\n",
    "class Animal:\n",
    "    def speak(self):\n",
    "        return 'asdj'\n",
    "class Dog(Animal):\n",
    "    def speak(self):\n",
    "        return 'jfgb'\n",
    "class Cat(Animal):\n",
    "    def speak(self):\n",
    "        return \"sfsj\"\n",
    "animal = Animal()\n",
    "dog = Dog()\n",
    "cat = Cat()\n",
    "print(animal.speak())\n",
    "print(dog.speak())\n",
    "print(cat.speak())"
   ]
  }
 ],
 "metadata": {
  "kernelspec": {
   "display_name": "Python 3 (ipykernel)",
   "language": "python",
   "name": "python3"
  },
  "language_info": {
   "codemirror_mode": {
    "name": "ipython",
    "version": 3
   },
   "file_extension": ".py",
   "mimetype": "text/x-python",
   "name": "python",
   "nbconvert_exporter": "python",
   "pygments_lexer": "ipython3",
   "version": "3.11.4"
  }
 },
 "nbformat": 4,
 "nbformat_minor": 5
}
