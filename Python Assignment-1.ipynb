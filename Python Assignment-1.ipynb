{
 "cells": [
  {
   "cell_type": "code",
   "execution_count": null,
   "id": "54d12710",
   "metadata": {},
   "outputs": [],
   "source": [
    "Q1"
   ]
  },
  {
   "cell_type": "code",
   "execution_count": null,
   "id": "6dd43954",
   "metadata": {},
   "outputs": [],
   "source": [
    "# (i) string\n",
    "my_string = \"Hello, world!\"\n",
    "\n",
    "# (ii) list\n",
    "my_list = [1, 2, 3, 4, 5]\n",
    "\n",
    "# (iii) float\n",
    "my_float = 3.14159\n",
    "\n",
    "# (iv) tuple\n",
    "my_tuple = (10, 20, 30, 40, 50)\n"
   ]
  },
  {
   "cell_type": "code",
   "execution_count": null,
   "id": "7adbeab5",
   "metadata": {},
   "outputs": [],
   "source": [
    "Q2"
   ]
  },
  {
   "cell_type": "markdown",
   "id": "7d0464fb",
   "metadata": {},
   "source": [
    "var1 data type: str\n",
    "var2 data type: str\n",
    "var3 data type: list\n",
    "var4 data type: float"
   ]
  },
  {
   "cell_type": "code",
   "execution_count": null,
   "id": "6114d74f",
   "metadata": {},
   "outputs": [],
   "source": [
    "Q3"
   ]
  },
  {
   "cell_type": "code",
   "execution_count": null,
   "id": "66f62762",
   "metadata": {},
   "outputs": [],
   "source": [
    "#/ operator is used to divide the first operand by the second operand\n",
    "#The % operator is used to get the remainder of a division operation\n",
    "#The // operator is used to perform floor division\n",
    "#The ** operator is used to raise the first operand to the power of the second operand"
   ]
  },
  {
   "cell_type": "code",
   "execution_count": null,
   "id": "60d10c93",
   "metadata": {},
   "outputs": [],
   "source": [
    "Q4"
   ]
  },
  {
   "cell_type": "code",
   "execution_count": 1,
   "id": "f05d7f2f",
   "metadata": {},
   "outputs": [
    {
     "name": "stdout",
     "output_type": "stream",
     "text": [
      "Element: 1  Data type: <class 'int'>\n",
      "Element: string  Data type: <class 'str'>\n",
      "Element: True  Data type: <class 'bool'>\n",
      "Element: 3.14  Data type: <class 'float'>\n",
      "Element: [1, 2, 3]  Data type: <class 'list'>\n",
      "Element: {'key': 'value'}  Data type: <class 'dict'>\n",
      "Element: (1, 2, 3)  Data type: <class 'tuple'>\n",
      "Element: None  Data type: <class 'NoneType'>\n",
      "Element: end  Data type: <class 'str'>\n"
     ]
    }
   ],
   "source": [
    "my_list = [1, \"string\", True, 3.14, [1, 2, 3], {\"key\": \"value\"}, (1, 2, 3), None, \"end\"]\n",
    "\n",
    "for element in my_list:\n",
    "    print(f\"Element: {element}  Data type: {type(element)}\")\n"
   ]
  },
  {
   "cell_type": "code",
   "execution_count": null,
   "id": "b5d2ec64",
   "metadata": {},
   "outputs": [],
   "source": [
    "Q5"
   ]
  },
  {
   "cell_type": "code",
   "execution_count": 7,
   "id": "9600be54",
   "metadata": {},
   "outputs": [
    {
     "name": "stdout",
     "output_type": "stream",
     "text": [
      "Enter number A: 2\n",
      "Enter number B: 2\n",
      "1.0 is divisible by 2 1 times.\n"
     ]
    }
   ],
   "source": [
    "A = int(input(\"Enter number A: \"))\n",
    "B = int(input(\"Enter number B: \"))\n",
    "count = 0\n",
    "while A >= B and A % B == 0:\n",
    "    A = A / B\n",
    "    count += 1\n",
    "if A == 1:\n",
    "    print(f\"{A} is divisible by {B} {count} times.\")\n",
    "else:\n",
    "    print(f\"{A} is not divisible by {B}.\")\n",
    "\n"
   ]
  },
  {
   "cell_type": "code",
   "execution_count": null,
   "id": "820c59d8",
   "metadata": {},
   "outputs": [],
   "source": [
    "Q6"
   ]
  },
  {
   "cell_type": "code",
   "execution_count": 8,
   "id": "df043fa1",
   "metadata": {},
   "outputs": [
    {
     "name": "stdout",
     "output_type": "stream",
     "text": [
      "The number 1 is not divisible by 3.\n",
      "The number 2 is not divisible by 3.\n",
      "The number 3 is divisible by 3.\n",
      "The number 4 is not divisible by 3.\n",
      "The number 5 is not divisible by 3.\n",
      "The number 6 is divisible by 3.\n",
      "The number 7 is not divisible by 3.\n",
      "The number 8 is not divisible by 3.\n",
      "The number 9 is divisible by 3.\n",
      "The number 10 is not divisible by 3.\n",
      "The number 11 is not divisible by 3.\n",
      "The number 12 is divisible by 3.\n",
      "The number 13 is not divisible by 3.\n",
      "The number 14 is not divisible by 3.\n",
      "The number 15 is divisible by 3.\n",
      "The number 16 is not divisible by 3.\n",
      "The number 17 is not divisible by 3.\n",
      "The number 18 is divisible by 3.\n",
      "The number 19 is not divisible by 3.\n",
      "The number 20 is not divisible by 3.\n",
      "The number 21 is divisible by 3.\n",
      "The number 22 is not divisible by 3.\n",
      "The number 23 is not divisible by 3.\n",
      "The number 24 is divisible by 3.\n",
      "The number 25 is not divisible by 3.\n"
     ]
    }
   ],
   "source": [
    "my_list = [1, 2, 3, 4, 5, 6, 7, 8, 9, 10, 11, 12, 13, 14, 15, 16, 17, 18, 19, 20, 21, 22, 23, 24, 25]\n",
    "\n",
    "for num in my_list:\n",
    "    if num % 3 == 0:\n",
    "        print(f\"The number {num} is divisible by 3.\")\n",
    "    else:\n",
    "        print(f\"The number {num} is not divisible by 3.\")\n"
   ]
  },
  {
   "cell_type": "code",
   "execution_count": null,
   "id": "516dcad7",
   "metadata": {},
   "outputs": [],
   "source": [
    "Q7"
   ]
  },
  {
   "cell_type": "markdown",
   "id": "84530155",
   "metadata": {},
   "source": [
    " Python, data types are classified into two categories: mutable and immutable. Mutable data types can be changed after they are created, while immutable data types cannot be changed.\n",
    "\n",
    "Some examples of mutable data types in Python are:\n",
    "\n",
    "Lists: Lists are a collection of elements that can be changed. For example, you can add elements to a list, remove elements from a list, or change the order of the elements in a list.\n",
    "Dictionaries: Dictionaries are a collection of key-value pairs. The keys in a dictionary are immutable, but the values in a dictionary can be mutable. For example, you can add key-value pairs to a dictionary, remove key-value pairs from a dictionary, or change the value of a key in a dictionary.\n",
    "Sets: Sets are a collection of unique elements. The elements in a set can be mutable. For example, you can add elements to a set, remove elements from a set, or change the order of the elements in a set.\n",
    "Some examples of immutable data types in Python are:\n",
    "\n",
    "Strings: Strings are a sequence of characters. Strings cannot be changed after they are created. For example, you cannot add characters to a string, remove characters from a string, or change the order of the characters in a string.\n",
    "Numbers: Numbers are immutable. For example, you cannot add 1 to the number 5, you cannot subtract 2 from the number 10, or you cannot change the value of the number 3.75.\n",
    "Tuples: Tuples are a collection of elements that cannot be changed. For example, you cannot add elements to a tuple, remove elements from a tuple, or change the order of the elements in a tuple."
   ]
  }
 ],
 "metadata": {
  "kernelspec": {
   "display_name": "Python 3 (ipykernel)",
   "language": "python",
   "name": "python3"
  },
  "language_info": {
   "codemirror_mode": {
    "name": "ipython",
    "version": 3
   },
   "file_extension": ".py",
   "mimetype": "text/x-python",
   "name": "python",
   "nbconvert_exporter": "python",
   "pygments_lexer": "ipython3",
   "version": "3.10.9"
  }
 },
 "nbformat": 4,
 "nbformat_minor": 5
}
