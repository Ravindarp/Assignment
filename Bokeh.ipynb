{
 "cells": [
  {
   "cell_type": "markdown",
   "id": "6b391095",
   "metadata": {},
   "source": [
    "Question 1"
   ]
  },
  {
   "cell_type": "code",
   "execution_count": null,
   "id": "d5ce9f7a",
   "metadata": {},
   "outputs": [],
   "source": [
    "# 1.Import the necessary libraries\n",
    "# 2.Prepare your data\n",
    "# 3.Create a figure\n",
    "# 4.Add glyphs to the figure\n",
    "# 5.Specify the output file and show the plot\n"
   ]
  },
  {
   "cell_type": "markdown",
   "id": "515ceae9",
   "metadata": {},
   "source": [
    "Question 2"
   ]
  },
  {
   "cell_type": "code",
   "execution_count": null,
   "id": "1b710dc9",
   "metadata": {},
   "outputs": [],
   "source": [
    "# Glyphs in Bokeh are the visual markers that represent your data, such as lines, circles, rectangles, etc.\n",
    "# ou can add glyphs to a Bokeh plot by using various glyph methods provided by the Bokeh library, such as p.circle(), p.line(), p.square(), etc.\n",
    "import bokeh\n",
    "from bokeh.plotting import figure, output_file, show\n",
    "bokeh.io.output_notebook()\n"
   ]
  },
  {
   "cell_type": "markdown",
   "id": "8c84733f",
   "metadata": {},
   "source": [
    "Loading BokehJS ...\n"
   ]
  },
  {
   "cell_type": "code",
   "execution_count": null,
   "id": "62e602e5",
   "metadata": {},
   "outputs": [],
   "source": [
    "x = [1, 2, 3, 4, 5]\n",
    "y = [6, 7, 2, 4, 5]\n",
    "p = figure(title=\"My Bokeh Plot\", x_axis_label='x-axis', y_axis_label='y-axis')\n",
    "p.circle(x, y, size=10, color='red')\n",
    "p.line(x, y, line_width=2, color='blue')\n",
    "p.square(x, y, size=8, color='green')\n",
    "show(p)\n"
   ]
  },
  {
   "cell_type": "markdown",
   "id": "30397b7c",
   "metadata": {},
   "source": [
    "Question 3"
   ]
  },
  {
   "cell_type": "markdown",
   "id": "45f1f4b9",
   "metadata": {},
   "source": [
    "You can customize the appearance of a Bokeh plot, including the axes, title, and legend, using various properties and methods provided by the Bokeh library\n",
    "\n",
    "Title: You can add a title to your plot using the title property of the figure object, and customize its font size, color, and alignment using the title_text_font_size, title_text_color, and title_align properties.\n",
    "Axes: You can customize the appearance of the x-axis and y-axis of your plot, such as their labels, font size, tick labels, and ranges, using various properties and methods provided by the Axis class.\n",
    "Legend: You can add a legend to your plot using the legend property of the figure object, and customize its position, font size, and background color."
   ]
  },
  {
   "cell_type": "markdown",
   "id": "84ef0616",
   "metadata": {},
   "source": [
    "Question 4"
   ]
  },
  {
   "cell_type": "markdown",
   "id": "24ea72a6",
   "metadata": {},
   "source": [
    "A Bokeh server is a Python script that allows you to create interactive Bokeh plots that can be updated in real-time based on user input or external data sources.\n",
    "\n",
    "To use the Bokeh server to create interactive plots, you need to define a Bokeh document that contains the layout and behavior of your plot.\n",
    "\n"
   ]
  },
  {
   "cell_type": "markdown",
   "id": "3e1adcd6",
   "metadata": {},
   "source": [
    "Question 5"
   ]
  },
  {
   "cell_type": "code",
   "execution_count": null,
   "id": "050f343b",
   "metadata": {},
   "outputs": [],
   "source": [
    "# Create a Bokeh plot and save it to an HTML file using the output_file() and save() functions.\n",
    "# In your Flask app, import the render_template() function from flask and Markup() function from markupsafe\n",
    "# Define a Flask route that renders an HTML template and passes the plot HTML file to the template."
   ]
  }
 ],
 "metadata": {
  "kernelspec": {
   "display_name": "Python 3 (ipykernel)",
   "language": "python",
   "name": "python3"
  },
  "language_info": {
   "codemirror_mode": {
    "name": "ipython",
    "version": 3
   },
   "file_extension": ".py",
   "mimetype": "text/x-python",
   "name": "python",
   "nbconvert_exporter": "python",
   "pygments_lexer": "ipython3",
   "version": "3.9.12"
  }
 },
 "nbformat": 4,
 "nbformat_minor": 5
}
